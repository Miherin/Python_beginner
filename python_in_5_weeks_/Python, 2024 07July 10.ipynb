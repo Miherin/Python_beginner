{
 "cells": [
  {
   "cell_type": "markdown",
   "metadata": {},
   "source": [
    "# Agenda: Loops, lists, and tuples\n",
    "\n",
    "1. Q&A\n",
    "2. Loops\n",
    "    - `for` loops\n",
    "    - `while` loops\n",
    "    - Looping a number of times with `range`\n",
    "    - Getting the index in different ways\n",
    "    - Controlling our loop with `break` and `continue`\n",
    "3. Lists\n",
    "    - Creating lists\n",
    "    - What can we do with lists (same as strings)?\n",
    "    - What can we do with lists (different from strings)?\n",
    "    - Lists are mutable\n",
    "4. Strings to lists, and back\n",
    "    - Converting strings to lists (`str.split`)\n",
    "    - Converting lists to strings (`str.join`)\n",
    "5. Tuples\n",
    "    - What are tuples?\n",
    "    - Where do we use them?\n",
    "    - How are they similar to lists (and strings)?\n",
    "    - How are they different from lists (and strings)?\n",
    "6. Tuple unpacking"
   ]
  },
  {
   "cell_type": "markdown",
   "metadata": {},
   "source": [
    "# DRY -- don't repeat yourself\n",
    "\n",
    "Let's say that I want to print every character in a string, `s`.  How can I do that?"
   ]
  },
  {
   "cell_type": "code",
   "execution_count": 1,
   "metadata": {},
   "outputs": [
    {
     "name": "stdout",
     "output_type": "stream",
     "text": [
      "a\n",
      "b\n",
      "c\n",
      "d\n"
     ]
    }
   ],
   "source": [
    "s = 'abcd'\n",
    "\n",
    "print(s[0])\n",
    "print(s[1])\n",
    "print(s[2])\n",
    "print(s[3])"
   ]
  },
  {
   "cell_type": "markdown",
   "metadata": {},
   "source": [
    "The DRY rule tells us that if we look at what we've done, we have four lines that (more or less) repeat themselves. That's something we should try to avoid in our programs.\n",
    "\n",
    "Why?\n",
    "\n",
    "- If we write less code, it's easier to write\n",
    "- If we write less code, it's easier to read and debug\n",
    "- Less code is easier to wrap your head around\n",
    "- It'll probably run faster\n",
    "- It's more semantically powerful\n",
    "\n",
    "A loop allows us to repeat certain actions multiple times, with (if we want) variations in each of those iterations.\n",
    "\n",
    "Python has two different kinds of loops:\n",
    "\n",
    "- `for` -- these are much more common\n",
    "- `while`"
   ]
  },
  {
   "cell_type": "code",
   "execution_count": 2,
   "metadata": {},
   "outputs": [
    {
     "name": "stdout",
     "output_type": "stream",
     "text": [
      "a\n",
      "b\n",
      "c\n",
      "d\n"
     ]
    }
   ],
   "source": [
    "# if I want to print all of the characters in the string s,\n",
    "# here is a for loop that does it:\n",
    "\n",
    "s = 'abcd'\n",
    "\n",
    "for one_character in s:\n",
    "    print(one_character)"
   ]
  },
  {
   "cell_type": "markdown",
   "metadata": {},
   "source": [
    "# `for` loop syntax\n",
    "\n",
    "1. The first line of the loop is `for` .. `in` ..\n",
    "2. After the word `for`, we have a \"loop variable.\" That is the variable which will be assigned a new value with each iteration. Its name is *COMPLETELY* up to you; the loop behavior doesn't change based on the variable name.\n",
    "3. After the word `in` on the top line, we have an object, one which must be \"iterable.\" What is an iterable object? One that knows how to behave inside of a `for` loop. String, lists, tuples, dicts, and files are all iterable. Integers and floats are not.\n",
    "4. At the end of the line, we have a `:`.\n",
    "5. The following line is indented (because it's after a colon), and starts the \"loop body\".\n",
    "6. The loop body can contain any code we want, and can be as long (or as short) as we want.\n",
    "\n",
    "# What's really going on here?\n",
    "1. `for` turns to the object at the end of the line, and asks it: Are you iterable?\n",
    "    - If the answer is \"no,\" then the loop exits right there with an exception.\n",
    "2. Assuming that the object is iterable, the `for` loop then says to it: Give me your next value.\n",
    "    - If there are no more values, then the loop exits silently, no error.\n",
    "3. If there is another value, then it is assigned to the loop variable\n",
    "4. We execute the body of the loop.\n",
    "5. Go back to line 2.\n",
    "\n",
    "# A few things to notice\n",
    "1. The loop is not in control; the object on which we're looping is in control.\n",
    "2. In other languages, the `for` loop assigns an index, and uses it to retrieve values from the object.\n",
    "3. We don't care what kind of object is at the end of the first line; so long as it's iterable, we're fine with it."
   ]
  },
  {
   "cell_type": "code",
   "execution_count": 3,
   "metadata": {},
   "outputs": [
    {
     "name": "stdout",
     "output_type": "stream",
     "text": [
      "a\n",
      "b\n",
      "c\n",
      "d\n",
      "e\n"
     ]
    }
   ],
   "source": [
    "for one_item in 'abcde':\n",
    "    print(one_item)"
   ]
  },
  {
   "cell_type": "markdown",
   "metadata": {},
   "source": [
    "# Exercise: Vowels, digits, and others\n",
    "\n",
    "1. Define three variables, `vowels`, `digits`, and `others`, and assign them all the value 0.\n",
    "2. Ask the user to enter some text.\n",
    "3. Go through that text, one character at a time:\n",
    "    - If it's a digit, then add 1 to `digits`\n",
    "    - If it's a vowel (a,e,i,o.u), then add 1 to `vowels`\n",
    "    - Otherwise, add 1 to `others`\n",
    "4. Print the values of `vowels`, `digits`, and `others`.\n",
    "  \n",
    "Example:\n",
    "\n",
    "    Enter text: hello!! 123\n",
    "    vowels: 2\n",
    "    digits: 3\n",
    "    others: 6"
   ]
  },
  {
   "cell_type": "code",
   "execution_count": 6,
   "metadata": {},
   "outputs": [
    {
     "name": "stdin",
     "output_type": "stream",
     "text": [
      "Enter text:  hello!! 123\n"
     ]
    },
    {
     "name": "stdout",
     "output_type": "stream",
     "text": [
      "vowels: 2\n",
      "digits: 3\n",
      "others: 6\n"
     ]
    }
   ],
   "source": [
    "vowels = 0\n",
    "digits = 0\n",
    "others = 0\n",
    "\n",
    "text = input('Enter text: ').strip()   # get user input, remove whitespace on the ends, assign to text\n",
    "\n",
    "for one_character in text:\n",
    "    if one_character in 'aeiou':\n",
    "        # print(f'{one_character} is a vowel')\n",
    "        vowels += 1\n",
    "    elif one_character.isdigit():\n",
    "        digits += 1\n",
    "        # print(f'{one_character} is a digit')\n",
    "    else:\n",
    "        others += 1\n",
    "        # print(f'{one_character} is something else')\n",
    "\n",
    "print(f'vowels: {vowels}')\n",
    "print(f'digits: {digits}')\n",
    "print(f'others: {others}')"
   ]
  },
  {
   "cell_type": "code",
   "execution_count": 7,
   "metadata": {},
   "outputs": [
    {
     "name": "stdin",
     "output_type": "stream",
     "text": [
      "Enter some text:  hello!! 123\n"
     ]
    },
    {
     "name": "stdout",
     "output_type": "stream",
     "text": [
      "vowels:2, digits:3, others: 6\n"
     ]
    }
   ],
   "source": [
    "# IM\n",
    "\n",
    "vowels=0\n",
    "digits=0\n",
    "others=0\n",
    "\n",
    "phrase=input(\"Enter some text: \")\n",
    "\n",
    "vowel= 'aeiouAEIOU'\n",
    "digit= '0123456789'\n",
    "\n",
    "for one_char in phrase:\n",
    "    if one_char in vowel:\n",
    "        vowels += 1\n",
    "    elif one_char in digit:\n",
    "        digits +=1\n",
    "    else:\n",
    "        others += 1\n",
    "\n",
    "print( f'vowels:{vowels}, digits:{digits}, others: {others}')"
   ]
  },
  {
   "cell_type": "code",
   "execution_count": 8,
   "metadata": {},
   "outputs": [],
   "source": [
    "# What is strip?\n",
    "# strip is a method, not a function. Still a verb, but it's attached (with .) to the end\n",
    "# of a value. It must be a string, because strip is a string method. Its full name is str.strip.\n",
    "\n",
    "# we can run str.strip on any string we want. We'll get back a new string, identical to the original\n",
    "# one, but without any spaces (or other whitespace characters) at the start and end.\n",
    "\n",
    "# you can run str.strip on any string. Here, we're going on the fact that the input function always\n",
    "# returns a string. We run str.strip on that string (which is anonymous), getting back a new string\n",
    "# that is identical, but without leading/trailing whitespace. That string is assigned to the variable\n",
    "# \"text\" on the left of the assignment operator, =."
   ]
  },
  {
   "cell_type": "code",
   "execution_count": 10,
   "metadata": {},
   "outputs": [
    {
     "data": {
      "text/plain": [
       "'abcdefgh'"
      ]
     },
     "execution_count": 10,
     "metadata": {},
     "output_type": "execute_result"
    }
   ],
   "source": [
    "# to remove spaces in the middle is a bit tougher; you can remove them all with \n",
    "\n",
    "s = 'abcd  efgh'\n",
    "s.replace(' ', '')   # replaces the space character with the empty string"
   ]
  },
  {
   "cell_type": "code",
   "execution_count": 11,
   "metadata": {},
   "outputs": [
    {
     "data": {
      "text/plain": [
       "True"
      ]
     },
     "execution_count": 11,
     "metadata": {},
     "output_type": "execute_result"
    }
   ],
   "source": [
    "# str.isdigit is a string method (as you can see from its name), and it returns True\n",
    "# if all of the characters in the string are numbers 0-9. This is a simple way to check\n",
    "# if you can run \"int\" on a string and not get an error.\n",
    "\n",
    "s = '1234'\n",
    "s.isdigit()"
   ]
  },
  {
   "cell_type": "code",
   "execution_count": 13,
   "metadata": {},
   "outputs": [
    {
     "ename": "TypeError",
     "evalue": "'int' object is not iterable",
     "output_type": "error",
     "traceback": [
      "\u001b[0;31m---------------------------------------------------------------------------\u001b[0m",
      "\u001b[0;31mTypeError\u001b[0m                                 Traceback (most recent call last)",
      "Cell \u001b[0;32mIn[13], line 4\u001b[0m\n\u001b[1;32m      1\u001b[0m \u001b[38;5;66;03m# It's great to iterate over a string!\u001b[39;00m\n\u001b[1;32m      2\u001b[0m \u001b[38;5;66;03m# what about iterating a number of times?\u001b[39;00m\n\u001b[0;32m----> 4\u001b[0m \u001b[38;5;28;43;01mfor\u001b[39;49;00m\u001b[43m \u001b[49m\u001b[43mcounter\u001b[49m\u001b[43m \u001b[49m\u001b[38;5;129;43;01min\u001b[39;49;00m\u001b[43m \u001b[49m\u001b[38;5;241;43m5\u001b[39;49m\u001b[43m:\u001b[49m\n\u001b[1;32m      5\u001b[0m \u001b[43m    \u001b[49m\u001b[38;5;28;43mprint\u001b[39;49m\u001b[43m(\u001b[49m\u001b[38;5;124;43m'\u001b[39;49m\u001b[38;5;124;43mHooray!\u001b[39;49m\u001b[38;5;124;43m'\u001b[39;49m\u001b[43m)\u001b[49m\n",
      "\u001b[0;31mTypeError\u001b[0m: 'int' object is not iterable"
     ]
    }
   ],
   "source": [
    "# It's great to iterate over a string!\n",
    "# what about iterating a number of times?\n",
    "\n",
    "for counter in 5:\n",
    "    print('Hooray!')"
   ]
  },
  {
   "cell_type": "markdown",
   "metadata": {},
   "source": [
    "# Using `range` \n",
    "\n",
    "If we want to iterate a certain number of times, we need to use the `range` builtin function, which returns an object that we can use to iterate a number of times.\n",
    "\n"
   ]
  },
  {
   "cell_type": "code",
   "execution_count": 14,
   "metadata": {},
   "outputs": [
    {
     "name": "stdout",
     "output_type": "stream",
     "text": [
      "Hooray!\n",
      "Hooray!\n",
      "Hooray!\n",
      "Hooray!\n",
      "Hooray!\n"
     ]
    }
   ],
   "source": [
    "for counter in range(5):\n",
    "    print('Hooray!')"
   ]
  },
  {
   "cell_type": "code",
   "execution_count": 15,
   "metadata": {},
   "outputs": [
    {
     "name": "stdout",
     "output_type": "stream",
     "text": [
      "Hooray!\n",
      "Hooray!\n",
      "Hooray!\n",
      "Hooray!\n"
     ]
    }
   ],
   "source": [
    "n = 4\n",
    "\n",
    "for counter in range(n):\n",
    "    print('Hooray!')"
   ]
  },
  {
   "cell_type": "code",
   "execution_count": 16,
   "metadata": {},
   "outputs": [],
   "source": [
    "# range actually returns an integer with each iteration, starting at 0\n",
    "# and going up to the number provided - 1. \n",
    "\n",
    "# So range(5) will iterate 5 times, from 0 through 4."
   ]
  },
  {
   "cell_type": "code",
   "execution_count": 17,
   "metadata": {},
   "outputs": [
    {
     "name": "stdout",
     "output_type": "stream",
     "text": [
      "0 Hooray!\n",
      "1 Hooray!\n",
      "2 Hooray!\n",
      "3 Hooray!\n"
     ]
    }
   ],
   "source": [
    "for counter in range(n):\n",
    "    print(f'{counter} Hooray!')"
   ]
  },
  {
   "cell_type": "code",
   "execution_count": 18,
   "metadata": {},
   "outputs": [
    {
     "name": "stdin",
     "output_type": "stream",
     "text": [
      "Enter some text :  hello!! 123\n"
     ]
    },
    {
     "name": "stdout",
     "output_type": "stream",
     "text": [
      "h is something else\n",
      "e is a Vowel\n",
      "l is something else\n",
      "l is something else\n",
      "o is a Vowel\n",
      "! is something else\n",
      "! is something else\n",
      "  is something else\n",
      "1 is a Digit\n",
      "2 is a Digit\n",
      "3 is a Digit\n"
     ]
    }
   ],
   "source": [
    "# JD\n",
    "\n",
    "vowels = 0\n",
    "digits = 0\n",
    "others = 0\n",
    "\n",
    "char = input('Enter some text : ').strip()\n",
    "\n",
    "for c in char:\n",
    "    if c.isdigit():\n",
    "        print(f'{c} is a Digit')\n",
    "        \n",
    "    elif c in 'a,e,i,o,u':\n",
    "        print(f'{c} is a Vowel')\n",
    "    else:\n",
    "        print(f'{c} is something else')"
   ]
  },
  {
   "cell_type": "markdown",
   "metadata": {},
   "source": [
    "# Functions vs methods\n",
    "\n",
    "Both are \"verbs\" in the Python world. One (functions) are free-floating, and can be invoked on anyone. Methods are attachedk to another object, in name and functionality. Sou you cannot run a string method on an integer.\n",
    "\n",
    "Example:\n",
    "\n",
    "```python3\n",
    "x = len(s)  # this is a function\n",
    "```\n",
    "\n",
    "I can also say:\n",
    "\n",
    "```python3\n",
    "s = s.lower()   # str.lower is a method"
   ]
  },
  {
   "cell_type": "code",
   "execution_count": null,
   "metadata": {},
   "outputs": [],
   "source": []
  },
  {
   "cell_type": "markdown",
   "metadata": {},
   "source": [
    "# Exercise: Name triangles\n",
    "\n",
    "1. Ask the user to enter their name.\n",
    "2. Print a \"name triangle,\" which means that on the first line, we print the first character of the name. On the second line, we print the first 2. Then print the first 3, etc., until printed the full name.\n",
    "\n",
    "Example:\n",
    "\n",
    "    Enter your name: Reuven\n",
    "    R\n",
    "    Re\n",
    "    Reu\n",
    "    Reuv\n",
    "    Reuve\n",
    "    Reuven\n",
    "\n",
    "1. You'll probably want to use `range`\n",
    "2. Don't forget slices, i.e., `[start:stop]` in the string.\n",
    "3. You can use `len` to get the length of the string."
   ]
  },
  {
   "cell_type": "code",
   "execution_count": 20,
   "metadata": {},
   "outputs": [
    {
     "name": "stdout",
     "output_type": "stream",
     "text": [
      "R\n",
      "Re\n",
      "Reu\n",
      "Reuv\n",
      "Reuve\n",
      "Reuven\n"
     ]
    }
   ],
   "source": [
    "# if I didn't have a loop, what would I want?\n",
    "\n",
    "name = 'Reuven'\n",
    "\n",
    "print(name[:1])\n",
    "print(name[:2])\n",
    "print(name[:3])\n",
    "print(name[:4])\n",
    "print(name[:5])\n",
    "print(name[:6])    # the max index for our string is 5; its len is 6\n",
    "\n",
    "# yes, you can actually go beyond the bounds of the string with a slice"
   ]
  },
  {
   "cell_type": "code",
   "execution_count": 22,
   "metadata": {},
   "outputs": [
    {
     "name": "stdout",
     "output_type": "stream",
     "text": [
      "R\n",
      "Re\n",
      "Reu\n",
      "Reuv\n",
      "Reuve\n",
      "Reuven\n"
     ]
    }
   ],
   "source": [
    "name = 'Reuven'\n",
    "\n",
    "for max_index in range(len(name)):\n",
    "    print(name[:max_index+1])"
   ]
  },
  {
   "cell_type": "code",
   "execution_count": 24,
   "metadata": {},
   "outputs": [
    {
     "name": "stdin",
     "output_type": "stream",
     "text": [
      "Enter your Name:  Reuven\n"
     ]
    },
    {
     "name": "stdout",
     "output_type": "stream",
     "text": [
      "R\n",
      "Re\n",
      "Reu\n",
      "Reuv\n",
      "Reuve\n",
      "Reuven\n"
     ]
    }
   ],
   "source": [
    "# SY\n",
    "\n",
    "name = input('Enter your Name: ') \n",
    "for loop in range(len(name)):     \n",
    "    print(name[:loop+1])"
   ]
  },
  {
   "cell_type": "code",
   "execution_count": 25,
   "metadata": {},
   "outputs": [
    {
     "name": "stdin",
     "output_type": "stream",
     "text": [
      "What is your name?  Reuven\n"
     ]
    },
    {
     "name": "stdout",
     "output_type": "stream",
     "text": [
      "R\n",
      "Re\n",
      "Reu\n",
      "Reuv\n",
      "Reuve\n",
      "Reuven\n"
     ]
    }
   ],
   "source": [
    "# AM \n",
    "\n",
    "name = input('What is your name? ')\n",
    "for count in range(len(name)):\n",
    "        print(name[:count+1])"
   ]
  },
  {
   "cell_type": "code",
   "execution_count": 27,
   "metadata": {},
   "outputs": [
    {
     "name": "stdin",
     "output_type": "stream",
     "text": [
      "Enter your Name :  Reuven\n"
     ]
    },
    {
     "name": "stdout",
     "output_type": "stream",
     "text": [
      "R\n",
      "Re\n",
      "Reu\n",
      "Reuv\n",
      "Reuve\n",
      "Reuven\n"
     ]
    }
   ],
   "source": [
    "#JD \n",
    "\n",
    "name = input(\"Enter your Name : \").strip()\n",
    "\n",
    "for i in range(len(name)):\n",
    "    print(name[:i+1])"
   ]
  },
  {
   "cell_type": "code",
   "execution_count": 28,
   "metadata": {},
   "outputs": [
    {
     "name": "stdin",
     "output_type": "stream",
     "text": [
      "Enter your name:  Reuven\n"
     ]
    },
    {
     "name": "stdout",
     "output_type": "stream",
     "text": [
      "R\n",
      "Re\n",
      "Reu\n",
      "Reuv\n",
      "Reuve\n",
      "Reuven\n"
     ]
    }
   ],
   "source": [
    "# SK\n",
    "\n",
    "name = input(\"Enter your name: \")\n",
    "\n",
    "l = len(name)\n",
    "\n",
    "for t in range(l):\n",
    "    print(f'{name[:t+1]}')"
   ]
  },
  {
   "cell_type": "code",
   "execution_count": 33,
   "metadata": {},
   "outputs": [
    {
     "name": "stdin",
     "output_type": "stream",
     "text": [
      "Enter your text here :  Reuven\n"
     ]
    },
    {
     "name": "stdout",
     "output_type": "stream",
     "text": [
      "R\n",
      "Re\n",
      "Reu\n",
      "Reuv\n",
      "Reuve\n",
      "Reuven\n"
     ]
    }
   ],
   "source": [
    "# IG\n",
    "\n",
    "s=input('Enter your text here : ')\n",
    "v_g=0\n",
    "\n",
    "for n in range(len(s)):\n",
    "    v_g += 1\n",
    "    print(s[:v_g])    "
   ]
  },
  {
   "cell_type": "code",
   "execution_count": 32,
   "metadata": {},
   "outputs": [],
   "source": [
    "#there is a __len__ (\"dunder len\") method on strings, and it is connected to the len()\n",
    "# function. But any \"dunder\" method should *not* be invoked by us directly.\n",
    "\n"
   ]
  },
  {
   "cell_type": "markdown",
   "metadata": {},
   "source": [
    "# What is `__len__`?\n",
    "\n",
    "When we invoke `len(x)`, Python looks to see if there is a method `x.__len__`, and invokes it on our behalf. This is typical with many operators in Python; when we invoke `a + b`, Python invokes behind the scenes `a.__add__(b)`. There are lots of \"magic methods\" in Python that do this.\n",
    "\n",
    "In theory, you could run `__len__` on any object, and get its length. But that's frowned upon. You should really never be invoked magic methods unless you really know what you're doing -- and even then, it's a bad idea."
   ]
  },
  {
   "cell_type": "code",
   "execution_count": null,
   "metadata": {},
   "outputs": [],
   "source": []
  },
  {
   "cell_type": "code",
   "execution_count": null,
   "metadata": {},
   "outputs": [],
   "source": []
  },
  {
   "cell_type": "code",
   "execution_count": null,
   "metadata": {},
   "outputs": [],
   "source": []
  },
  {
   "cell_type": "markdown",
   "metadata": {},
   "source": [
    "# Next up:\n",
    "\n",
    "1. Indexes\n",
    "2. `while` loops\n"
   ]
  },
  {
   "cell_type": "markdown",
   "metadata": {},
   "source": [
    "In many other programming languages, the `for` loop has to keep track of an index. It starts that index at 0, and stops when it reaches a certain size/value, and does something in the loop body. The point of the index is to retrieve the right value from the string in each iteration.\n",
    "\n",
    "In Python, things work completely differently -- the object is in charge of its own index, and returns the next value with each time. \n",
    "\n",
    "Moreover, in other languages, we have an index because we need it to retrieve the value.\n",
    "\n",
    "In Python, we don't -- we just get the values directly! But there are times when we might want to print the index or use it for a calculation.\n",
    "\n"
   ]
  },
  {
   "cell_type": "code",
   "execution_count": 38,
   "metadata": {},
   "outputs": [
    {
     "name": "stdout",
     "output_type": "stream",
     "text": [
      "0: a\n",
      "1: b\n",
      "2: c\n",
      "3: d\n",
      "4: e\n"
     ]
    }
   ],
   "source": [
    "# option 1: Do it ourselves\n",
    "\n",
    "index = 0 \n",
    "s = 'abcde'\n",
    "\n",
    "for one_character in s:\n",
    "    print(f'{index}: {one_character}')\n",
    "    index += 1"
   ]
  },
  {
   "cell_type": "code",
   "execution_count": 40,
   "metadata": {},
   "outputs": [
    {
     "name": "stdout",
     "output_type": "stream",
     "text": [
      "0: a\n",
      "1: b\n",
      "2: c\n",
      "3: d\n"
     ]
    }
   ],
   "source": [
    "# option 2: use \"enumerate\"\n",
    "# this builtin function is surprisingly unknown: It takes an iterable value\n",
    "# as an argument. Enumerate is designed to be used inside of loops.\n",
    "\n",
    "for index, one_item in enumerate('abcd'):\n",
    "    print(f\"{index}: {one_item}\")"
   ]
  },
  {
   "cell_type": "markdown",
   "metadata": {},
   "source": [
    "# Exercise: Multiples of n indexes\n",
    "\n",
    "1. Ask the user to enter some text, and assign to `text`\n",
    "2. Ask the user to enter an integer, and assign to `n`.\n",
    "3. Go through the string, and print each of the characters whose index is a multple `n`. So if `n` is 2, you would print the charactres at even indexes.\n",
    "\n",
    "Example:\n",
    "\n",
    "    Enter some text: encyclopedia\n",
    "    Enter a number: 3     # meaning: show characters at indexes that are multiples of 3\n",
    "    y o d\n"
   ]
  },
  {
   "cell_type": "code",
   "execution_count": 43,
   "metadata": {},
   "outputs": [
    {
     "name": "stdin",
     "output_type": "stream",
     "text": [
      "Enter text:  encyclopedia\n",
      "Enter a number:  3\n"
     ]
    },
    {
     "name": "stdout",
     "output_type": "stream",
     "text": [
      "0: e\n",
      "3: y\n",
      "6: o\n",
      "9: d\n"
     ]
    }
   ],
   "source": [
    "text = input('Enter text: ').strip()\n",
    "n_string = input('Enter a number: ').strip()\n",
    "\n",
    "if n_string.isdigit():\n",
    "    n = int(n_string)\n",
    "\n",
    "    for index, one_character in enumerate(text):\n",
    "        if (index % n) == 0:\n",
    "            print(f'{index}: {one_character}')\n",
    "        "
   ]
  },
  {
   "cell_type": "code",
   "execution_count": null,
   "metadata": {},
   "outputs": [],
   "source": [
    "text = input('Enter text = ')\n",
    "n = int(input('Enter Integer = '))\n",
    "\n",
    "for index, each_character in enumerate(text):\n",
    "    if(index%n == 0):\n",
    "        print(f'{text[index]} {index}')"
   ]
  },
  {
   "cell_type": "markdown",
   "metadata": {},
   "source": [
    "`while` loops\n",
    "\n",
    "A `while` loop is just like a `for` statement:\n",
    "\n",
    "- `while` looks to its right for a `True` value.\n",
    "    - If it sees `False`, then the loop stops.\n",
    "    - If it sees `True`, then it executes the loop body again.\n",
    " \n",
    "If we don't know how many iterations we need, but we do know when we can stop looping."
   ]
  },
  {
   "cell_type": "code",
   "execution_count": 45,
   "metadata": {},
   "outputs": [
    {
     "name": "stdin",
     "output_type": "stream",
     "text": [
      "Enter text =  testing 123\n",
      "Enter Integer =  3\n"
     ]
    },
    {
     "name": "stdout",
     "output_type": "stream",
     "text": [
      "t 0\n",
      "t 3\n",
      "g 6\n",
      "2 9\n"
     ]
    }
   ],
   "source": [
    "# SY\n",
    "\n",
    "text = input('Enter text = ')\n",
    "n = int(input('Enter Integer = '))\n",
    "for index, each_character in enumerate(text):\n",
    "    if(index%n == 0):\n",
    "        print(f'{text[index]} {index}')"
   ]
  },
  {
   "cell_type": "code",
   "execution_count": null,
   "metadata": {},
   "outputs": [],
   "source": []
  },
  {
   "cell_type": "code",
   "execution_count": 44,
   "metadata": {},
   "outputs": [
    {
     "name": "stdout",
     "output_type": "stream",
     "text": [
      "5\n",
      "4\n",
      "3\n",
      "2\n",
      "1\n"
     ]
    }
   ],
   "source": [
    "x = 5\n",
    "\n",
    "while x > 0:\n",
    "    print(x)\n",
    "    x -= 1    # x = x -1"
   ]
  },
  {
   "cell_type": "markdown",
   "metadata": {},
   "source": [
    "# What's the difference?\n",
    "\n",
    "In a `for` loop, you go over every element once, and it has a chance to do something. But if you want to do something to each element of your sequence, use a `for` loop.\n",
    "\n",
    "In a `while` loop, you run the body until the test is `False`."
   ]
  },
  {
   "cell_type": "markdown",
   "metadata": {},
   "source": [
    "# Exercise: Sum to 100\n",
    "\n",
    "1. Set `total` to be 0.\n",
    "2. Repeatedly ask the user to enter a number.\n",
    "3. If the user's numbers get them over 100, then stop and print the total.\n",
    "\n",
    "Example: Sum to 100\n",
    "\n",
    "    Enter a number: 30\n",
    "    Enter a number: 10\n",
    "    Enter a nubmer: 50\n",
    "    Enter a number: 15\n",
    "    Total is 105\n",
    "    "
   ]
  },
  {
   "cell_type": "code",
   "execution_count": 48,
   "metadata": {},
   "outputs": [
    {
     "name": "stdin",
     "output_type": "stream",
     "text": [
      "Enter a number:  1\n",
      "Enter a number:  1\n",
      "Enter a number:  1\n",
      "Enter a number:  1\n",
      "Enter a number:  1\n",
      "Enter a number:  1\n",
      "Enter a number:  1\n",
      "Enter a number:  1\n",
      "Enter a number:  1\n",
      "Enter a number:  1\n",
      "Enter a number:  1\n",
      "Enter a number:  1\n",
      "Enter a number:  1\n",
      "Enter a number:  1\n",
      "Enter a number:  2\n",
      "Enter a number:  2\n",
      "Enter a number:  2\n",
      "Enter a number:  2\n",
      "Enter a number:  2\n",
      "Enter a number:  3\n",
      "Enter a number:  3\n",
      "Enter a number:  3\n",
      "Enter a number:  45\n",
      "Enter a number:  90\n"
     ]
    },
    {
     "name": "stdout",
     "output_type": "stream",
     "text": [
      "168\n"
     ]
    }
   ],
   "source": [
    "total = 0\n",
    "\n",
    "while total < 100:\n",
    "    s = input('Enter a number: ').strip()\n",
    "\n",
    "    if s.isdigit():\n",
    "        total += int(s)\n",
    "    else:\n",
    "        print('Ignoring non-intener {s}')\n",
    "\n",
    "print(total)"
   ]
  },
  {
   "cell_type": "code",
   "execution_count": 47,
   "metadata": {},
   "outputs": [
    {
     "name": "stdin",
     "output_type": "stream",
     "text": [
      "Enter a number:  10\n",
      "Enter a number:  30\n",
      "Enter a number:  50\n",
      "Enter a number:  70\n"
     ]
    },
    {
     "name": "stdout",
     "output_type": "stream",
     "text": [
      "Total: 160\n"
     ]
    }
   ],
   "source": [
    "# SK \n",
    "total = 0\n",
    "\n",
    "while total < 100:\n",
    "    a = input(\"Enter a number: \")\n",
    "    a = int(a)\n",
    "    total = total + a\n",
    "print(f'Total: {total}')\n"
   ]
  },
  {
   "cell_type": "code",
   "execution_count": null,
   "metadata": {},
   "outputs": [],
   "source": [
    "# MM\n",
    "\n",
    "total = 0\n",
    "is_not_max = True\n",
    "while is_not_max:\n",
    "    user = int(input(\"Type a number to add: \"))\n",
    "    if user > 0:\n",
    "        print(f\"{user} + {total}\")\n",
    "        total += user\n",
    "        if total >= 100:\n",
    "            print(f\"You've reached {total}\")\n",
    "            is_not_max = False"
   ]
  },
  {
   "cell_type": "code",
   "execution_count": 50,
   "metadata": {},
   "outputs": [
    {
     "data": {
      "text/plain": [
       "12345"
      ]
     },
     "execution_count": 50,
     "metadata": {},
     "output_type": "execute_result"
    }
   ],
   "source": [
    "# if you're going to use int(), then you don't need strip...\n",
    "\n",
    "s = '   12345    '\n",
    "int(s)     # int automatically removes whitespace from the front/back of the string"
   ]
  },
  {
   "cell_type": "code",
   "execution_count": 52,
   "metadata": {},
   "outputs": [
    {
     "data": {
      "text/plain": [
       "False"
      ]
     },
     "execution_count": 52,
     "metadata": {},
     "output_type": "execute_result"
    }
   ],
   "source": [
    "s.isdigit()   # because it contains spaces"
   ]
  },
  {
   "cell_type": "markdown",
   "metadata": {},
   "source": [
    "# Next up\n",
    "\n",
    "1. A bit more on looping, with `continue` and `break`\n",
    "2. Mainly, working on lists"
   ]
  },
  {
   "cell_type": "markdown",
   "metadata": {},
   "source": [
    "# How can we control our loop?\n",
    "\n",
    "So far, we've seen that we can run `for` and `while` loops. A `for` loop ends when we get through all of the elements of the iterable. A `while` loop ends when the condition is `False`, when checked at the top of the loop.\n",
    "\n",
    "But what if we want to exit the loop early? What if we've encountered an error, and need to break out of it? What if the current element isn't really appropriate, and we want to go onto the next one?\n",
    "\n",
    "We have two keywords we can use in our loops to do this:\n",
    "\n",
    "- `break`, which stops the loop *right now*, and continues to the code following the loop\n",
    "- `continue`, which stops the current iteration right now, but goes onto the next one. We don't break out of the loop, but we do immediate go to the next value in the loop.\n",
    "\n",
    "Where do I use these?  Typically, I'll use them at the *top* of a loop:\n",
    "- I'll use `break` to determine if I should stop the loop right away, if we've achieved our goals\n",
    "- I'll use `continue` to determine if the loop variable's value is inappropriate for our iteration, and we should get a next one."
   ]
  },
  {
   "cell_type": "code",
   "execution_count": 54,
   "metadata": {},
   "outputs": [
    {
     "name": "stdout",
     "output_type": "stream",
     "text": [
      "this\n",
      "is\n",
      "a\n",
      "bunch\n",
      "of\n",
      "words\n",
      "Sum of word lengths: 19\n"
     ]
    }
   ],
   "source": [
    "words = 'this is a bunch of words'.split()\n",
    "\n",
    "total = 0\n",
    "for one_word in words:\n",
    "    print(one_word)\n",
    "    total += len(one_word)\n",
    "\n",
    "print(f'Sum of word lengths: {total}')"
   ]
  },
  {
   "cell_type": "code",
   "execution_count": 57,
   "metadata": {},
   "outputs": [
    {
     "name": "stdout",
     "output_type": "stream",
     "text": [
      "this\n",
      "bunch\n",
      "words\n",
      "Sum of word lengths: 14\n"
     ]
    }
   ],
   "source": [
    "# what if I don't want to include words that are shorter than 3 characters?\n",
    "\n",
    "words = ['this', 'is',  'a', 'bunch', 'of', 'words']\n",
    "\n",
    "total = 0\n",
    "for one_word in words:\n",
    "    if len(one_word) < 3:\n",
    "        continue\n",
    "    \n",
    "    print(one_word)\n",
    "    total += len(one_word)\n",
    "\n",
    "print(f'Sum of word lengths: {total}')"
   ]
  },
  {
   "cell_type": "code",
   "execution_count": 58,
   "metadata": {},
   "outputs": [
    {
     "name": "stdin",
     "output_type": "stream",
     "text": [
      "Enter text:  \n"
     ]
    }
   ],
   "source": [
    "# here's one of my favorite ways to use \"break\"\n",
    "\n",
    "while True:   # yes, this is an infinite loop! \n",
    "    s = input('Enter text: ').strip()\n",
    "\n",
    "    if s == '':    # empty string?\n",
    "        break      # break!\n",
    "\n",
    "    print(f'Hello, {s}!')"
   ]
  },
  {
   "cell_type": "markdown",
   "metadata": {},
   "source": [
    "# Lists\n",
    "\n",
    "So far, we've seen a few data structures:\n",
    "\n",
    "- Numbers (ints and floats)\n",
    "- Strings\n",
    "\n",
    "Lists are container objects; they contain other objects. Indeed, a list can contain *any* number of *any* objects we want. Traditionally, a list contains only elements of one type, but that's a convention, not enforced anywhere.\n",
    "\n",
    "Lists look/feel a lot like arrays in other languages. But we call them \"lists,\" and we're technically correct."
   ]
  },
  {
   "cell_type": "code",
   "execution_count": 59,
   "metadata": {},
   "outputs": [],
   "source": [
    "# define a list with []\n",
    "# elements are separated by ,\n",
    "\n",
    "mylist = [10, 20, 30, 40, 50]\n"
   ]
  },
  {
   "cell_type": "code",
   "execution_count": 60,
   "metadata": {},
   "outputs": [
    {
     "data": {
      "text/plain": [
       "list"
      ]
     },
     "execution_count": 60,
     "metadata": {},
     "output_type": "execute_result"
    }
   ],
   "source": [
    "type(mylist)   # what kind of value is this?"
   ]
  },
  {
   "cell_type": "code",
   "execution_count": 61,
   "metadata": {},
   "outputs": [
    {
     "data": {
      "text/plain": [
       "5"
      ]
     },
     "execution_count": 61,
     "metadata": {},
     "output_type": "execute_result"
    }
   ],
   "source": [
    "len(mylist)    # how many elements?"
   ]
  },
  {
   "cell_type": "code",
   "execution_count": 62,
   "metadata": {},
   "outputs": [
    {
     "data": {
      "text/plain": [
       "10"
      ]
     },
     "execution_count": 62,
     "metadata": {},
     "output_type": "execute_result"
    }
   ],
   "source": [
    "mylist[0]   # first element"
   ]
  },
  {
   "cell_type": "code",
   "execution_count": 63,
   "metadata": {},
   "outputs": [
    {
     "data": {
      "text/plain": [
       "20"
      ]
     },
     "execution_count": 63,
     "metadata": {},
     "output_type": "execute_result"
    }
   ],
   "source": [
    "mylist[1]    # scond element"
   ]
  },
  {
   "cell_type": "code",
   "execution_count": 64,
   "metadata": {},
   "outputs": [
    {
     "data": {
      "text/plain": [
       "50"
      ]
     },
     "execution_count": 64,
     "metadata": {},
     "output_type": "execute_result"
    }
   ],
   "source": [
    "mylist[-1]   # final element\n"
   ]
  },
  {
   "cell_type": "code",
   "execution_count": 65,
   "metadata": {},
   "outputs": [
    {
     "data": {
      "text/plain": [
       "40"
      ]
     },
     "execution_count": 65,
     "metadata": {},
     "output_type": "execute_result"
    }
   ],
   "source": [
    "i = 3\n",
    "mylist[i]"
   ]
  },
  {
   "cell_type": "code",
   "execution_count": 66,
   "metadata": {},
   "outputs": [
    {
     "data": {
      "text/plain": [
       "[20, 30, 40]"
      ]
     },
     "execution_count": 66,
     "metadata": {},
     "output_type": "execute_result"
    }
   ],
   "source": [
    "# slice\n",
    "mylist[1:4]"
   ]
  },
  {
   "cell_type": "code",
   "execution_count": 67,
   "metadata": {},
   "outputs": [],
   "source": [
    "# Lists and strings are both *sequences*, with a common set of methods and operations"
   ]
  },
  {
   "cell_type": "code",
   "execution_count": 68,
   "metadata": {},
   "outputs": [
    {
     "name": "stdout",
     "output_type": "stream",
     "text": [
      "10\n",
      "20\n",
      "30\n",
      "40\n",
      "50\n"
     ]
    }
   ],
   "source": [
    "# We can iterate over a list\n",
    "\n",
    "for one_item in mylist:\n",
    "    print(one_item)"
   ]
  },
  {
   "cell_type": "code",
   "execution_count": 69,
   "metadata": {},
   "outputs": [
    {
     "data": {
      "text/plain": [
       "True"
      ]
     },
     "execution_count": 69,
     "metadata": {},
     "output_type": "execute_result"
    }
   ],
   "source": [
    "# search in a list with \"in\"\n",
    "\n",
    "40 in mylist"
   ]
  },
  {
   "cell_type": "code",
   "execution_count": 70,
   "metadata": {},
   "outputs": [
    {
     "data": {
      "text/plain": [
       "False"
      ]
     },
     "execution_count": 70,
     "metadata": {},
     "output_type": "execute_result"
    }
   ],
   "source": [
    "100 in mylist"
   ]
  },
  {
   "cell_type": "code",
   "execution_count": 73,
   "metadata": {},
   "outputs": [],
   "source": [
    "# lists are also *not* the same as strings\n",
    "# first, they can contain other objects (ints, floats, strings, other lists, dicts, etc.)\n",
    "# also: They are *mutable*, meaning that we can modify them\n",
    "\n",
    "mylist[0] = '!'   # if the index already exists, you can assign to it"
   ]
  },
  {
   "cell_type": "code",
   "execution_count": 74,
   "metadata": {},
   "outputs": [
    {
     "data": {
      "text/plain": [
       "['!', 20, 30, 40, 50]"
      ]
     },
     "execution_count": 74,
     "metadata": {},
     "output_type": "execute_result"
    }
   ],
   "source": [
    "mylist"
   ]
  },
  {
   "cell_type": "markdown",
   "metadata": {},
   "source": [
    "# Lists are mutable!\n",
    "\n",
    "We can modify the contents of a list. This is new! We don't have any other data, so far, that we can modify in this way.\n",
    "\n",
    "If two variables are referring to the same list, and one modifies the list, then other will also be modified. In other words, there's no rule in Python against having multiple variables refer to the same object. If the object changes, then all variables will see that change."
   ]
  },
  {
   "cell_type": "code",
   "execution_count": 75,
   "metadata": {},
   "outputs": [
    {
     "data": {
      "text/plain": [
       "[10, 20, 30, 40, 50, 100, [200, 300]]"
      ]
     },
     "execution_count": 75,
     "metadata": {},
     "output_type": "execute_result"
    }
   ],
   "source": [
    "# How do I add to the end of a list?\n",
    "# we use the \"append\" method, which adds one item to the end\n",
    "\n",
    "mylist = [10, 20, 30, 40, 50]\n",
    "mylist.append(100)\n",
    "mylist.append([200, 300])\n",
    "mylist"
   ]
  },
  {
   "cell_type": "markdown",
   "metadata": {},
   "source": [
    "# Where do we use lists?\n",
    "\n",
    "- Lists of users\n",
    "- Lists of servers\n",
    "- Lists of things in the refrigerator\n",
    "- Lists of books I'm supposed to read"
   ]
  },
  {
   "cell_type": "code",
   "execution_count": 76,
   "metadata": {},
   "outputs": [],
   "source": [
    "# to remove an item, you can use \"list.pop\", a method that removes (by default) from the\n",
    "# end of the list. It removes and returns it\n"
   ]
  },
  {
   "cell_type": "code",
   "execution_count": 77,
   "metadata": {},
   "outputs": [
    {
     "data": {
      "text/plain": [
       "[200, 300]"
      ]
     },
     "execution_count": 77,
     "metadata": {},
     "output_type": "execute_result"
    }
   ],
   "source": [
    "mylist.pop()"
   ]
  },
  {
   "cell_type": "code",
   "execution_count": 79,
   "metadata": {},
   "outputs": [
    {
     "data": {
      "text/plain": [
       "100"
      ]
     },
     "execution_count": 79,
     "metadata": {},
     "output_type": "execute_result"
    }
   ],
   "source": [
    "mylist.pop()"
   ]
  },
  {
   "cell_type": "code",
   "execution_count": 80,
   "metadata": {},
   "outputs": [
    {
     "data": {
      "text/plain": [
       "4"
      ]
     },
     "execution_count": 80,
     "metadata": {},
     "output_type": "execute_result"
    }
   ],
   "source": [
    "mylist = [10, 20, [30, 40, 50], 60]\n",
    "len(mylist)"
   ]
  },
  {
   "cell_type": "code",
   "execution_count": 81,
   "metadata": {},
   "outputs": [
    {
     "data": {
      "text/plain": [
       "[30, 40, 50]"
      ]
     },
     "execution_count": 81,
     "metadata": {},
     "output_type": "execute_result"
    }
   ],
   "source": [
    "mylist[2]   # get the sublist"
   ]
  },
  {
   "cell_type": "code",
   "execution_count": 82,
   "metadata": {
    "scrolled": true
   },
   "outputs": [
    {
     "data": {
      "text/plain": [
       "30"
      ]
     },
     "execution_count": 82,
     "metadata": {},
     "output_type": "execute_result"
    }
   ],
   "source": [
    "mylist[2][0]  # put multple sets of [] next to one another"
   ]
  },
  {
   "cell_type": "markdown",
   "metadata": {},
   "source": [
    "# Exercise: Odds and evens\n",
    "\n",
    "1. Create two lists, `odds` and `evens`.\n",
    "2. Repeatedly ask the user to enter a number.\n",
    "   - If they enter an empty string, stop asking and print\n",
    "3. If the value is non-numeric, scold the user and let them try again.\n",
    "4. If the value is numeric, then make it an integer and add it to either `odds` or `evens`, as appropriate\n",
    "    - Remember that you can find out if it's odd if you check the remainder of dividing by 2 -- if it's 1, then the number is odd\n",
    "5. Print both `odds` and `evens`.\n",
    "\n",
    "Example:\n",
    "\n",
    "    Enter a number: 10\n",
    "    Enter a number: 15\n",
    "    Enter a number: hello\n",
    "      hello is not numeric; try again\n",
    "    Enter a number: 12\n",
    "    Enter a number: 17\n",
    "    Enter a number: [ENTER]\n",
    "    \n",
    "    odds: [15, 17]\n",
    "    evens: 10, 12]"
   ]
  },
  {
   "cell_type": "code",
   "execution_count": 83,
   "metadata": {},
   "outputs": [
    {
     "name": "stdin",
     "output_type": "stream",
     "text": [
      "Enter a number:  10\n",
      "Enter a number:  11\n",
      "Enter a number:  15\n",
      "Enter a number:  19\n",
      "Enter a number:  22\n",
      "Enter a number:  28\n",
      "Enter a number:  76\n",
      "Enter a number:  \n"
     ]
    },
    {
     "name": "stdout",
     "output_type": "stream",
     "text": [
      "odds = [11, 15, 19]\n",
      "evens = [10, 22, 28, 76]\n"
     ]
    }
   ],
   "source": [
    "odds = []\n",
    "evens = []\n",
    "\n",
    "while True: \n",
    "    s = input('Enter a number: ').strip()\n",
    "\n",
    "    # is this an empty string? \n",
    "    if s == '':\n",
    "        break      # exit the loop if we got the empty string\n",
    "\n",
    "    # is the string numeric?\n",
    "    if not s.isdigit():\n",
    "        print(f'{s} is not numeric; try again')\n",
    "\n",
    "    n = int(s)\n",
    "\n",
    "    if n%2 == 0:   # even, because it divides evenly by 2\n",
    "        evens.append(n)\n",
    "    else:\n",
    "        odds.append(n)\n",
    "\n",
    "print(f'odds = {odds}')\n",
    "print(f'evens = {evens}')"
   ]
  },
  {
   "cell_type": "code",
   "execution_count": 84,
   "metadata": {},
   "outputs": [
    {
     "name": "stdin",
     "output_type": "stream",
     "text": [
      "Enter a number:  10\n",
      "Enter a number:  11\n",
      "Enter a number:  15\n",
      "Enter a number:  16\n",
      "Enter a number:  \n"
     ]
    },
    {
     "name": "stdout",
     "output_type": "stream",
     "text": [
      "YOu entered an empty string\n",
      "['10', '16']\n",
      "['11', '15']\n"
     ]
    }
   ],
   "source": [
    "# AM\n",
    "\n",
    "\n",
    "odds=[]\n",
    "evens=[]\n",
    "\n",
    "while True:\n",
    "    number=input('Enter a number: ')\n",
    "    if number == \"\":\n",
    "        print(f'YOu entered an empty string')\n",
    "        break\n",
    "    elif not number.isdigit():\n",
    "        print(f'{number} is not numeric!')\n",
    "    else:\n",
    "        int_number = int(number)\n",
    "        if int_number%2 == 0:\n",
    "            evens.append(number)\n",
    "        else:\n",
    "            odds.append(number)\n",
    "\n",
    "print(evens)\n",
    "print(odds)"
   ]
  },
  {
   "cell_type": "code",
   "execution_count": 85,
   "metadata": {},
   "outputs": [
    {
     "data": {
      "text/plain": [
       "[10, 20, 30, 50, 100, 200]"
      ]
     },
     "execution_count": 85,
     "metadata": {},
     "output_type": "execute_result"
    }
   ],
   "source": [
    "# what if we want to add multiple things to our list?\n",
    "# we can use the += operator on a list. It will run a for loop\n",
    "# on whatever is to its right, adding each element it gets to the list\n",
    "\n",
    "mylist = [10, 20, 30]\n",
    "\n",
    "mylist += [50, 100, 200]   # +=, so evey element on the right is appended to mylist\n",
    "\n",
    "mylist\n"
   ]
  },
  {
   "cell_type": "code",
   "execution_count": 86,
   "metadata": {},
   "outputs": [
    {
     "name": "stdin",
     "output_type": "stream",
     "text": [
      "Enter Number : 10\n"
     ]
    },
    {
     "name": "stdout",
     "output_type": "stream",
     "text": [
      "Even\n"
     ]
    },
    {
     "name": "stdin",
     "output_type": "stream",
     "text": [
      "Enter Number : 20\n"
     ]
    },
    {
     "name": "stdout",
     "output_type": "stream",
     "text": [
      "Even\n"
     ]
    },
    {
     "name": "stdin",
     "output_type": "stream",
     "text": [
      "Enter Number : hello\n"
     ]
    },
    {
     "ename": "ValueError",
     "evalue": "invalid literal for int() with base 10: 'hello'",
     "output_type": "error",
     "traceback": [
      "\u001b[0;31m---------------------------------------------------------------------------\u001b[0m",
      "\u001b[0;31mValueError\u001b[0m                                Traceback (most recent call last)",
      "Cell \u001b[0;32mIn[86], line 11\u001b[0m\n\u001b[1;32m      8\u001b[0m \u001b[38;5;28;01mif\u001b[39;00m number \u001b[38;5;241m==\u001b[39m \u001b[38;5;124m\"\u001b[39m\u001b[38;5;124m\"\u001b[39m:\n\u001b[1;32m      9\u001b[0m     \u001b[38;5;28;01mbreak\u001b[39;00m\n\u001b[0;32m---> 11\u001b[0m \u001b[38;5;28;01mif\u001b[39;00m \u001b[38;5;28;43mint\u001b[39;49m\u001b[43m(\u001b[49m\u001b[43mnumber\u001b[49m\u001b[43m)\u001b[49m \u001b[38;5;241m%\u001b[39m \u001b[38;5;241m2\u001b[39m \u001b[38;5;241m==\u001b[39m \u001b[38;5;241m0\u001b[39m:\n\u001b[1;32m     12\u001b[0m     \u001b[38;5;28mprint\u001b[39m(\u001b[38;5;124m\"\u001b[39m\u001b[38;5;124mEven\u001b[39m\u001b[38;5;124m\"\u001b[39m)\n\u001b[1;32m     13\u001b[0m     evens\u001b[38;5;241m.\u001b[39mappend(number)\n",
      "\u001b[0;31mValueError\u001b[0m: invalid literal for int() with base 10: 'hello'"
     ]
    }
   ],
   "source": [
    "# JD\n",
    "\n",
    "odds = []\n",
    "evens = []\n",
    "\n",
    "while True:\n",
    "    number = input(\"Enter Number :\")\n",
    "    if number == \"\":\n",
    "        break\n",
    "          \n",
    "    if int(number) % 2 == 0:\n",
    "        print(\"Even\")\n",
    "        evens.append(number)\n",
    "        #print(evens)\n",
    "    elif int(number) % 2 == 1:\n",
    "        print(\"Odd\")\n",
    "        odds.append(number)\n",
    "        #print(odds)\n",
    "    else:\n",
    "        if number == \"\":\n",
    "            break\n",
    "print(odds)\n",
    "print(evens)"
   ]
  },
  {
   "cell_type": "markdown",
   "metadata": {},
   "source": [
    "# Splitting strings\n",
    "\n",
    "We know that to turn a string into an int, we run `int` on it, and get back a new integer we can use.\n",
    "\n",
    "We can do the opposite, too -- pass an integer into a string with `str`, and get back a string related.\n",
    "\n",
    "As a general rule, if you have data `d` and you want to get it out as type `t`, you just run `t(d)`.\n",
    "\n",
    "Can I get a list back from a string by running `list(s)`? Yes, this will work!"
   ]
  },
  {
   "cell_type": "code",
   "execution_count": 87,
   "metadata": {},
   "outputs": [
    {
     "data": {
      "text/plain": [
       "['h', 'e', 'l', 'l', 'o', ' ', 'o', 'u', 't', ' ', 't', 'h', 'e', 'r', 'e']"
      ]
     },
     "execution_count": 87,
     "metadata": {},
     "output_type": "execute_result"
    }
   ],
   "source": [
    "s = 'hello out there'\n",
    "list(s)"
   ]
  },
  {
   "cell_type": "code",
   "execution_count": 88,
   "metadata": {},
   "outputs": [
    {
     "data": {
      "text/plain": [
       "'[10, 20, 30, 50, 100, 200]'"
      ]
     },
     "execution_count": 88,
     "metadata": {},
     "output_type": "execute_result"
    }
   ],
   "source": [
    "# what about str() on a list?\n",
    "str(mylist)"
   ]
  },
  {
   "cell_type": "markdown",
   "metadata": {},
   "source": [
    "There are many situations in which we have a string that would clearly benefit from being a list, broken apart into its piece.  (`str.split`)\n",
    "\n",
    "And similarly, there are many times when we want to take the elements of a list and weld them together. (`str.join`)"
   ]
  },
  {
   "cell_type": "code",
   "execution_count": 89,
   "metadata": {},
   "outputs": [
    {
     "data": {
      "text/plain": [
       "['abc', 'de', 'fghi']"
      ]
     },
     "execution_count": 89,
     "metadata": {},
     "output_type": "execute_result"
    }
   ],
   "source": [
    "# if I have a string, and want a list of strings, I can use str.split\n",
    "\n",
    "s = 'abc;de;fghi'\n",
    "\n",
    "s.split(';')   # this returns a list of strings, one element from between each `;`."
   ]
  },
  {
   "cell_type": "code",
   "execution_count": 90,
   "metadata": {},
   "outputs": [
    {
     "data": {
      "text/plain": [
       "['This', 'is', 'a', 'bunch', 'of', 'words', 'for', 'my', 'course']"
      ]
     },
     "execution_count": 90,
     "metadata": {},
     "output_type": "execute_result"
    }
   ],
   "source": [
    "words = 'This is a bunch of words for my course'\n",
    "words.split(' ')"
   ]
  },
  {
   "cell_type": "code",
   "execution_count": 91,
   "metadata": {},
   "outputs": [
    {
     "data": {
      "text/plain": [
       "['This',\n",
       " '',\n",
       " 'is',\n",
       " 'a',\n",
       " '',\n",
       " '',\n",
       " 'bunch',\n",
       " 'of',\n",
       " '',\n",
       " '',\n",
       " '',\n",
       " 'words',\n",
       " 'for',\n",
       " 'my',\n",
       " 'course']"
      ]
     },
     "execution_count": 91,
     "metadata": {},
     "output_type": "execute_result"
    }
   ],
   "source": [
    "# but what about this:\n",
    "\n",
    "\n",
    "words = 'This  is a   bunch of    words for my course'\n",
    "words.split(' ')"
   ]
  },
  {
   "cell_type": "code",
   "execution_count": 93,
   "metadata": {},
   "outputs": [
    {
     "data": {
      "text/plain": [
       "['This', 'is', 'a', 'bunch', 'of', 'words', 'for', 'my', 'course']"
      ]
     },
     "execution_count": 93,
     "metadata": {},
     "output_type": "execute_result"
    }
   ],
   "source": [
    "# passing no argument to str.split means that it'll use whitespace of any sort or combination,\n",
    "# including \\n and \\t.\n",
    "words.split()"
   ]
  },
  {
   "cell_type": "markdown",
   "metadata": {},
   "source": [
    "# Next up\n",
    "\n",
    "1. Exercise with `str.split`\n",
    "2. Talk about `str.join`\n",
    "3. Tuples + unpacking"
   ]
  },
  {
   "cell_type": "markdown",
   "metadata": {},
   "source": [
    "# Exercise: Pig Latin sentence\n",
    "\n",
    "You might remember that last week, we wrote a program that takes a single word and translates it into Pig Latin:\n",
    "\n",
    "```python\n",
    "word = input('Enter a word: ').strip()\n",
    "\n",
    "if word[0] in 'aeiou':\n",
    "    print(word[0] + 'way')\n",
    "else:\n",
    "    print(word[1:] + word[0] + 'ay')\n",
    "```\n",
    "\n",
    "I want you to:\n",
    "1. Get a sentence (all lowercase, no punctuation) from the user\n",
    "2. Print a translation of each word into Pig Latin\n",
    "3. Don't worry about whether the words are all on the same line.\n",
    "\n",
    "Example:\n",
    "\n",
    "    Enter text: this is a test\n",
    "    histay isway away esttay"
   ]
  },
  {
   "cell_type": "code",
   "execution_count": 98,
   "metadata": {},
   "outputs": [
    {
     "name": "stdin",
     "output_type": "stream",
     "text": [
      "Enter a sentence:  this is a test\n"
     ]
    },
    {
     "name": "stdout",
     "output_type": "stream",
     "text": [
      "histay\n",
      "isway\n",
      "away\n",
      "esttay\n"
     ]
    }
   ],
   "source": [
    "sentence = input('Enter a sentence: ').strip()\n",
    "\n",
    "for word in sentence.split():\n",
    "\n",
    "    if word[0] in 'aeiou':\n",
    "        print(word + 'way')\n",
    "    else:\n",
    "        print(word[1:] + word[0] + 'ay')\n"
   ]
  },
  {
   "cell_type": "code",
   "execution_count": 99,
   "metadata": {},
   "outputs": [
    {
     "name": "stdin",
     "output_type": "stream",
     "text": [
      "Enter the word =  this is a very important test\n"
     ]
    },
    {
     "name": "stdout",
     "output_type": "stream",
     "text": [
      "histay\n",
      "isway\n",
      "away\n",
      "eryvay\n",
      "importantway\n",
      "esttay\n"
     ]
    }
   ],
   "source": [
    "# SY\n",
    "str1 = input('Enter the word = ').split()\n",
    "\n",
    "for each_value in str1:\n",
    "    if(each_value[0] in 'aeiou'):\n",
    "        print(f'{each_value}way')\n",
    "    else:\n",
    "        print(f'{each_value[1:]}{each_value[0]}ay')"
   ]
  },
  {
   "cell_type": "markdown",
   "metadata": {},
   "source": [
    "# The opposite of `str.split` is `str.join`\n",
    "\n",
    "`str.join` is string method that returns a new string based on (a) a list of strings and (b) a stringm, which I call \"glue,\" which will go between them."
   ]
  },
  {
   "cell_type": "code",
   "execution_count": 100,
   "metadata": {},
   "outputs": [
    {
     "data": {
      "text/plain": [
       "'abcd*ef*ghij'"
      ]
     },
     "execution_count": 100,
     "metadata": {},
     "output_type": "execute_result"
    }
   ],
   "source": [
    "mylist = ['abcd', 'ef', 'ghij']\n",
    "\n",
    "'*'.join(mylist)"
   ]
  },
  {
   "cell_type": "code",
   "execution_count": 101,
   "metadata": {},
   "outputs": [
    {
     "data": {
      "text/plain": [
       "'abcdefghij'"
      ]
     },
     "execution_count": 101,
     "metadata": {},
     "output_type": "execute_result"
    }
   ],
   "source": [
    "# don't want any glue? Pass the empty string\n",
    "''.join(mylist)"
   ]
  },
  {
   "cell_type": "markdown",
   "metadata": {},
   "source": [
    "# Exercise: Pig Latin sentence (on one line)\n",
    "\n",
    "Repeat the last exercise, but make sure that the translation is all displayed on one line. You can (should?) use an empty list, and then `append` each of the translates words."
   ]
  },
  {
   "cell_type": "code",
   "execution_count": 103,
   "metadata": {},
   "outputs": [
    {
     "name": "stdin",
     "output_type": "stream",
     "text": [
      "Enter a sentence:  this is a test\n"
     ]
    },
    {
     "name": "stdout",
     "output_type": "stream",
     "text": [
      "histay isway away esttay\n"
     ]
    }
   ],
   "source": [
    "output = []\n",
    "\n",
    "sentence = input('Enter a sentence: ').strip()\n",
    "\n",
    "for word in sentence.split():\n",
    "\n",
    "    if word[0] in 'aeiou':\n",
    "        output.append(word + 'way')\n",
    "    else:\n",
    "        output.append(word[1:] + word[0] + 'ay')\n",
    "print(' '.join(output))"
   ]
  },
  {
   "cell_type": "code",
   "execution_count": 105,
   "metadata": {},
   "outputs": [
    {
     "name": "stdin",
     "output_type": "stream",
     "text": [
      "Enter a word:  this is a test\n"
     ]
    },
    {
     "name": "stdout",
     "output_type": "stream",
     "text": [
      "histay\n",
      "isway\n",
      "away\n",
      "esttay\n",
      "histay isway away esttay\n"
     ]
    }
   ],
   "source": [
    "# SK\n",
    " \n",
    "output_list = []\n",
    "sentence = input('Enter a word: ').lower()\n",
    "\n",
    "sentence = sentence.split()\n",
    "\n",
    "for word in sentence:\n",
    "    if word[0][0] in 'aeiou':\n",
    "        print(word + 'way')\n",
    "        output_list.append(word + 'way')\n",
    "    else:\n",
    "        print(word[1:] + word[0] + 'ay')\n",
    "        output_list.append(word[1:] + word[0] + 'ay')\n",
    "print(' '.join(output_list))\n"
   ]
  },
  {
   "cell_type": "code",
   "execution_count": null,
   "metadata": {},
   "outputs": [],
   "source": [
    "# SK\n",
    "\n",
    "list = []\n",
    "sentence = input('Enter a word: ').lower()\n",
    "\n",
    "sentence = sentence.split()\n",
    "\n",
    "for word in sentence:\n",
    "    if word[0][0] in 'aeiou':\n",
    "        print(word + 'way')\n",
    "        list.append(word + 'way')\n",
    "    else:\n",
    "        print(word[1:] + word[0] + 'ay')\n",
    "        list.append(word[1:] + word[0] + 'ay')\n",
    "print(list)\n",
    "''.join(list)"
   ]
  },
  {
   "cell_type": "markdown",
   "metadata": {},
   "source": [
    "# Tuples\n",
    "\n",
    "Tuples are the 3rd member of the \"sequence\" family, with the other two being strings and lists. \n",
    "\n",
    "- Strings:\n",
    "    - Can contain characters\n",
    "    - Immutable\n",
    "\n",
    "- Lists:\n",
    "    - Can contain anything\n",
    "    - Mutable\n",
    " \n",
    "- Tuples:\n",
    "    - Can contain anything\n",
    "    - Immutable\n",
    " \n",
    "The real reason tuples exist is for a kind of struct/record or multi-part storage of different types. Lists, by contrast, are meant to be used with a single type."
   ]
  },
  {
   "cell_type": "code",
   "execution_count": 106,
   "metadata": {},
   "outputs": [
    {
     "data": {
      "text/plain": [
       "tuple"
      ]
     },
     "execution_count": 106,
     "metadata": {},
     "output_type": "execute_result"
    }
   ],
   "source": [
    "# defining a tuple -- we normally use (), even though (as we'll see) they are optional\n",
    "\n",
    "t = (10, 20, 30, 40, 50)\n",
    "type(t)"
   ]
  },
  {
   "cell_type": "code",
   "execution_count": 107,
   "metadata": {},
   "outputs": [
    {
     "data": {
      "text/plain": [
       "10"
      ]
     },
     "execution_count": 107,
     "metadata": {},
     "output_type": "execute_result"
    }
   ],
   "source": [
    "t[0]"
   ]
  },
  {
   "cell_type": "code",
   "execution_count": 108,
   "metadata": {},
   "outputs": [
    {
     "data": {
      "text/plain": [
       "(20, 30, 40)"
      ]
     },
     "execution_count": 108,
     "metadata": {},
     "output_type": "execute_result"
    }
   ],
   "source": [
    "t[1:4]   # slice"
   ]
  },
  {
   "cell_type": "code",
   "execution_count": 109,
   "metadata": {},
   "outputs": [
    {
     "data": {
      "text/plain": [
       "True"
      ]
     },
     "execution_count": 109,
     "metadata": {},
     "output_type": "execute_result"
    }
   ],
   "source": [
    "30 in t"
   ]
  },
  {
   "cell_type": "code",
   "execution_count": 110,
   "metadata": {},
   "outputs": [
    {
     "name": "stdout",
     "output_type": "stream",
     "text": [
      "10\n",
      "20\n",
      "30\n",
      "40\n",
      "50\n"
     ]
    }
   ],
   "source": [
    "for one_item in t:\n",
    "    print(one_item)"
   ]
  },
  {
   "cell_type": "code",
   "execution_count": 111,
   "metadata": {},
   "outputs": [
    {
     "data": {
      "text/plain": [
       "(10, 20, 30, 40, 50)"
      ]
     },
     "execution_count": 111,
     "metadata": {},
     "output_type": "execute_result"
    }
   ],
   "source": [
    "# you don't even need () to use tuples\n",
    "\n",
    "t = 10, 20, 30, 40, 50\n",
    "t"
   ]
  },
  {
   "cell_type": "code",
   "execution_count": 112,
   "metadata": {},
   "outputs": [
    {
     "ename": "TypeError",
     "evalue": "'tuple' object does not support item assignment",
     "output_type": "error",
     "traceback": [
      "\u001b[0;31m---------------------------------------------------------------------------\u001b[0m",
      "\u001b[0;31mTypeError\u001b[0m                                 Traceback (most recent call last)",
      "Cell \u001b[0;32mIn[112], line 3\u001b[0m\n\u001b[1;32m      1\u001b[0m \u001b[38;5;66;03m# remember that tuples are immutable!\u001b[39;00m\n\u001b[0;32m----> 3\u001b[0m \u001b[43mt\u001b[49m\u001b[43m[\u001b[49m\u001b[38;5;241;43m3\u001b[39;49m\u001b[43m]\u001b[49m \u001b[38;5;241m=\u001b[39m \u001b[38;5;124m'\u001b[39m\u001b[38;5;124m!\u001b[39m\u001b[38;5;124m'\u001b[39m\n",
      "\u001b[0;31mTypeError\u001b[0m: 'tuple' object does not support item assignment"
     ]
    }
   ],
   "source": [
    "# remember that tuples are immutable!\n",
    "\n",
    "t[3] = '!'"
   ]
  },
  {
   "cell_type": "code",
   "execution_count": 113,
   "metadata": {},
   "outputs": [
    {
     "name": "stdout",
     "output_type": "stream",
     "text": [
      "[10, 20, 30]\n"
     ]
    }
   ],
   "source": [
    "# check this out:\n",
    "\n",
    "mylist = [10, 20, 30]\n",
    "x = mylist\n",
    "print(x)"
   ]
  },
  {
   "cell_type": "code",
   "execution_count": 114,
   "metadata": {},
   "outputs": [],
   "source": [
    "# tuple unpacking\n",
    "# on the right, we have a data source an iterable)\n",
    "# on the left, we have a tuple of variables\n",
    "\n",
    "x,y,z = mylist"
   ]
  },
  {
   "cell_type": "code",
   "execution_count": 115,
   "metadata": {},
   "outputs": [
    {
     "data": {
      "text/plain": [
       "10"
      ]
     },
     "execution_count": 115,
     "metadata": {},
     "output_type": "execute_result"
    }
   ],
   "source": [
    "x"
   ]
  },
  {
   "cell_type": "code",
   "execution_count": 116,
   "metadata": {},
   "outputs": [
    {
     "data": {
      "text/plain": [
       "20"
      ]
     },
     "execution_count": 116,
     "metadata": {},
     "output_type": "execute_result"
    }
   ],
   "source": [
    "y"
   ]
  },
  {
   "cell_type": "code",
   "execution_count": 117,
   "metadata": {},
   "outputs": [
    {
     "data": {
      "text/plain": [
       "30"
      ]
     },
     "execution_count": 117,
     "metadata": {},
     "output_type": "execute_result"
    }
   ],
   "source": [
    "z"
   ]
  },
  {
   "cell_type": "code",
   "execution_count": 121,
   "metadata": {},
   "outputs": [
    {
     "name": "stdout",
     "output_type": "stream",
     "text": [
      "0: a\n",
      "1: b\n",
      "2: c\n",
      "3: d\n"
     ]
    }
   ],
   "source": [
    "s = 'abcd'\n",
    "\n",
    "for one_item in enumerate(s):\n",
    "    key, value = one_item   # tuple unpacking\n",
    "    print(f'{key}: {value}')"
   ]
  },
  {
   "cell_type": "code",
   "execution_count": null,
   "metadata": {},
   "outputs": [],
   "source": [
    "# why work so hard?\n",
    "# there's an even better way.\n",
    "\n",
    "s = 'abcd'\n",
    "\n",
    "for key, value in enumerate(s):\n",
    "    print(f'{key}: {value}')"
   ]
  },
  {
   "cell_type": "markdown",
   "metadata": {},
   "source": [
    "# Homework for the 24th\n",
    "\n",
    "1. Implement vowels, digits, and others with three lists.\n",
    "2. The elements of each list will be the characters that you get from the user.\n",
    "3. Have the user enter text until they enter the empty string.\n",
    "4. When the user enters a non-empty string, the program should through it , one character at a time, and classify it as vowel/digit/other.\n",
    "5. The idea is that we'll have the three lists fill up with characters of the same type."
   ]
  },
  {
   "cell_type": "code",
   "execution_count": null,
   "metadata": {},
   "outputs": [],
   "source": []
  }
 ],
 "metadata": {
  "kernelspec": {
   "display_name": "Python 3 (ipykernel)",
   "language": "python",
   "name": "python3"
  },
  "language_info": {
   "codemirror_mode": {
    "name": "ipython",
    "version": 3
   },
   "file_extension": ".py",
   "mimetype": "text/x-python",
   "name": "python",
   "nbconvert_exporter": "python",
   "pygments_lexer": "ipython3",
   "version": "3.12.2"
  },
  "widgets": {
   "application/vnd.jupyter.widget-state+json": {
    "state": {},
    "version_major": 2,
    "version_minor": 0
   }
  }
 },
 "nbformat": 4,
 "nbformat_minor": 4
}
