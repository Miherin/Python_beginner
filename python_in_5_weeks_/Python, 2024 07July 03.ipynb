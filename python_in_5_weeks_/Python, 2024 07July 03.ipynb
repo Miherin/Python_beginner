{
 "cells": [
  {
   "cell_type": "markdown",
   "metadata": {},
   "source": [
    "# Agenda\n",
    "\n",
    "1. Basic Python fundamentals\n",
    "    - Values and variables\n",
    "    - Display values and get input from the user\n",
    "    - Assignment\n",
    "    - Comparison\n",
    "    - Conditional code\n",
    "    - Numbers (integers and floats)\n",
    "    - Strings (text)\n",
    "    - Methods (functionality we can run on an object)\n",
    "2. Loops, lists, and tuples\n",
    "    - Repeat functionality with a loop (`for` and `while`)\n",
    "    - Using lists -- how are they different from strings, and how are they the same?\n",
    "    - Tuples -- another data structure that's similar to strings and lists (\"sequence\")\n",
    "    - Tuple unpacking\n",
    "3. Dictionaries and files\n",
    "    - Creating and working with dicts\n",
    "    - Different paradigms for using dicts\n",
    "    - Read from files\n",
    "    - (A little) writing to files\n",
    "4. Functions\n",
    "    - Write functions\n",
    "    - Function bodies\n",
    "    - Arguments and parameters\n",
    "    - Return values\n",
    "5. Modules and packages\n",
    "    - How can we use modules in Python?\n",
    "    - How can write our own modules?\n",
    "    - PyPI (the Python Package Index)\n",
    "    - `pip`"
   ]
  },
  {
   "cell_type": "markdown",
   "metadata": {},
   "source": [
    "# What is a programming language? What is Python?\n",
    "\n",
    "A program is a set of instructions, telling the computer what to do. In the end, it's just a bunch of 1s and 0s. In order to write programs and keep track of them and debug them easily, we write in programming languages, which are then translated into 1s and 0s. (This process is sometimes known as interpretation and sometimes compilation.)\n",
    "\n",
    "Python is a high-level language.\n",
    "\n",
    "Python has been around for more than 30 years. It's now super super popular. Why? Python is a perfect language for an age in which people are expensive and computers are cheap. If we can increase the person's productivity in writing code, then that's worth having to pay more for computers.\n",
    "\n",
    "Python is popular in a wide variety of areas:\n",
    "- Data science and machine learning (#1)\n",
    "- Web development\n",
    "- Devops and system administration\n",
    "- Automated testing\n",
    "- Education\n",
    "\n",
    "Python is super consistent -- once you learn something in the language, you can use it forever.\n",
    "\n",
    "I sometimes call Python the Esperanto of programming languages, because it is so consistent.\n",
    "\n",
    "Jupyter gives us the illusion that we're running Python in the browser. There's a server on the back end that's actually running Python -- but it's a great illusion! I can type into it, and give you text (Markdown) or in code (Python)."
   ]
  },
  {
   "cell_type": "code",
   "execution_count": 1,
   "metadata": {},
   "outputs": [
    {
     "name": "stdout",
     "output_type": "stream",
     "text": [
      "Hello, world!\n"
     ]
    }
   ],
   "source": [
    "# if I type into a cell in Jupyter, then I can type Python code\n",
    "# this is a comment; Python ignores it completely. It's for me to leave hints/reminders to myself and other coders.\n",
    "# Just type # and go to the end of the line -- Python doesn't care what you write\n",
    "\n",
    "# print is a function, a verb in our programming language\n",
    "# print displays something on the screen\n",
    "# we need to use () to run the print function\n",
    "# whatever is inside of the () is displayed\n",
    "# note that if we want text (aka \"a string\") then it needs to be inside of '' (or \"\" if you prefer)\n",
    "\n",
    "# if I want to execute the contents of a cell, I press shift+ENTER\n",
    "print('Hello, world!')"
   ]
  },
  {
   "cell_type": "code",
   "execution_count": 2,
   "metadata": {},
   "outputs": [
    {
     "name": "stdout",
     "output_type": "stream",
     "text": [
      "5\n"
     ]
    }
   ],
   "source": [
    "# what else can I print?\n",
    "\n",
    "print(5)"
   ]
  },
  {
   "cell_type": "code",
   "execution_count": 4,
   "metadata": {},
   "outputs": [
    {
     "name": "stdout",
     "output_type": "stream",
     "text": [
      "8\n"
     ]
    }
   ],
   "source": [
    "# before print executes, and displays something on the screen,\n",
    "# whatever is inside of its parentheses needs to be \"evaluated,\" or run\n",
    "\n",
    "# in this example, first 5+3 is evaluated, we get back 8, and then print\n",
    "# only sees print(8), which it executes\n",
    "\n",
    "print(5 + 3)"
   ]
  },
  {
   "cell_type": "code",
   "execution_count": 6,
   "metadata": {},
   "outputs": [
    {
     "name": "stdout",
     "output_type": "stream",
     "text": [
      "helloworld\n"
     ]
    }
   ],
   "source": [
    "# I can use + with numbers\n",
    "# can I use + with text, also?\n",
    "\n",
    "print('hello' + 'world')    # yes, we can use + !   ... but... there isn't any space between the words"
   ]
  },
  {
   "cell_type": "markdown",
   "metadata": {},
   "source": [
    "# The most important thing to remember\n",
    "\n",
    "Computers do what you tell them to do, not what you want them to do."
   ]
  },
  {
   "cell_type": "code",
   "execution_count": 7,
   "metadata": {},
   "outputs": [
    {
     "name": "stdout",
     "output_type": "stream",
     "text": [
      "hello world\n"
     ]
    }
   ],
   "source": [
    "print('hello' + ' ' + 'world') "
   ]
  },
  {
   "cell_type": "code",
   "execution_count": 11,
   "metadata": {},
   "outputs": [
    {
     "name": "stdout",
     "output_type": "stream",
     "text": [
      "hello world\n"
     ]
    }
   ],
   "source": [
    "print('hello ' + 'world')"
   ]
  },
  {
   "cell_type": "markdown",
   "metadata": {},
   "source": [
    "# Storing our values\n",
    "\n",
    "What we saw above with text and numbers are *values*. Those are the nouns in a programming language. We're going to spend much of the next three weeks talking about different types of values, and how they work.\n",
    "\n",
    "But what if we want to store a value somewhere? Then we use a *variable*. A variable is a pronoun in a programming language, which refers to an actual value.\n",
    "\n",
    "If I want to associate a value with a variable, I need to *assign* the value to it. We do this with the `=` sign, known as the \"assignment operator.\"\n",
    "\n",
    "# VERY VERY IMPORTANT -- `=` is not the same in Python as in math!\n",
    "\n",
    "In Python, `=` means:\n",
    "- Take the value on the right\n",
    "- Assign it to the variable on the left\n",
    "- If the variable didn't yet exist, now it does!"
   ]
  },
  {
   "cell_type": "code",
   "execution_count": 8,
   "metadata": {},
   "outputs": [],
   "source": [
    "name = 'Reuven'"
   ]
  },
  {
   "cell_type": "code",
   "execution_count": 9,
   "metadata": {},
   "outputs": [
    {
     "name": "stdout",
     "output_type": "stream",
     "text": [
      "name\n"
     ]
    }
   ],
   "source": [
    "# now I can refer to 'Reuven' via the variable name!\n",
    "# note that text has quotes around it, but variables don't.\n",
    "\n",
    "print('name')   # this will display the literal word 'name'"
   ]
  },
  {
   "cell_type": "code",
   "execution_count": 10,
   "metadata": {},
   "outputs": [
    {
     "name": "stdout",
     "output_type": "stream",
     "text": [
      "Reuven\n"
     ]
    }
   ],
   "source": [
    "print(name)   # this will display the value in the variable name"
   ]
  },
  {
   "cell_type": "markdown",
   "metadata": {},
   "source": [
    "# Variable names\n",
    "\n",
    "What names can we use for variables?\n",
    "\n",
    "Any combination of letters, digits, and `_`, but:\n",
    "\n",
    "- You cannot start with a digit\n",
    "- You SHOULD NOT start or end with `_` (because they have special meaning to Python)\n",
    "- Capital and lowercase letters are different, so the variable `x` and the variable `X` have nothing to do with one another\n",
    "\n",
    "Python has some \"reserved words\" that you cannot assign to, such as `for` and `def` and `with`. Trying to assign to those will result in an error.\n",
    "\n",
    "There are also words that you shouldn't assign to, such as `print`, `len`, `sum`, and `list` and `dict`. If you see your editor (or Jupyter) change the color of the word when you have a variable name, don't use that variable!"
   ]
  },
  {
   "cell_type": "code",
   "execution_count": 12,
   "metadata": {},
   "outputs": [
    {
     "name": "stdout",
     "output_type": "stream",
     "text": [
      "Reuven\n"
     ]
    }
   ],
   "source": [
    "name = 'Reuven'    # value on the right, variable on the left\n",
    "print(name)"
   ]
  },
  {
   "cell_type": "code",
   "execution_count": 13,
   "metadata": {},
   "outputs": [
    {
     "name": "stdout",
     "output_type": "stream",
     "text": [
      "12345\n"
     ]
    }
   ],
   "source": [
    "number = 12345     # value on the right, variable on the left\n",
    "print(number)"
   ]
  },
  {
   "cell_type": "code",
   "execution_count": 14,
   "metadata": {},
   "outputs": [
    {
     "name": "stdout",
     "output_type": "stream",
     "text": [
      "7\n"
     ]
    }
   ],
   "source": [
    "number = 2+5    # value on the right is 2+5 -> 7, and that is assigned to number\n",
    "print(number)"
   ]
  },
  {
   "cell_type": "code",
   "execution_count": 15,
   "metadata": {},
   "outputs": [
    {
     "data": {
      "text/plain": [
       "7"
      ]
     },
     "execution_count": 15,
     "metadata": {},
     "output_type": "execute_result"
    }
   ],
   "source": [
    "# in Jupyter, and *ONLY* in Jupyter, there's a fancy feature that says:\n",
    "# if a value is on the final line of the cell, then executing the cell shows that value\n",
    "\n",
    "number"
   ]
  },
  {
   "cell_type": "code",
   "execution_count": 16,
   "metadata": {},
   "outputs": [
    {
     "data": {
      "text/plain": [
       "12"
      ]
     },
     "execution_count": 16,
     "metadata": {},
     "output_type": "execute_result"
    }
   ],
   "source": [
    "number + 5"
   ]
  },
  {
   "cell_type": "code",
   "execution_count": 17,
   "metadata": {},
   "outputs": [
    {
     "name": "stdout",
     "output_type": "stream",
     "text": [
      "30\n"
     ]
    }
   ],
   "source": [
    "x = 10   # assigning 10 to x\n",
    "y = 20   # assigning 20 to y\n",
    "\n",
    "print(x + y)"
   ]
  },
  {
   "cell_type": "code",
   "execution_count": 18,
   "metadata": {},
   "outputs": [
    {
     "data": {
      "text/plain": [
       "20"
      ]
     },
     "execution_count": 18,
     "metadata": {},
     "output_type": "execute_result"
    }
   ],
   "source": [
    "x = 10   # assigning the integer 10 to x\n",
    "y = '20'  # assigning the text string '20' to y\n",
    "\n",
    "x + x"
   ]
  },
  {
   "cell_type": "code",
   "execution_count": 19,
   "metadata": {},
   "outputs": [
    {
     "data": {
      "text/plain": [
       "'2020'"
      ]
     },
     "execution_count": 19,
     "metadata": {},
     "output_type": "execute_result"
    }
   ],
   "source": [
    "y + y"
   ]
  },
  {
   "cell_type": "code",
   "execution_count": 20,
   "metadata": {
    "scrolled": true
   },
   "outputs": [
    {
     "ename": "TypeError",
     "evalue": "unsupported operand type(s) for +: 'int' and 'str'",
     "output_type": "error",
     "traceback": [
      "\u001b[0;31m---------------------------------------------------------------------------\u001b[0m",
      "\u001b[0;31mTypeError\u001b[0m                                 Traceback (most recent call last)",
      "Cell \u001b[0;32mIn[20], line 2\u001b[0m\n\u001b[1;32m      1\u001b[0m \u001b[38;5;66;03m# so what will happen when I try adding x and y?\u001b[39;00m\n\u001b[0;32m----> 2\u001b[0m \u001b[43mx\u001b[49m\u001b[43m \u001b[49m\u001b[38;5;241;43m+\u001b[39;49m\u001b[43m \u001b[49m\u001b[43my\u001b[49m\n",
      "\u001b[0;31mTypeError\u001b[0m: unsupported operand type(s) for +: 'int' and 'str'"
     ]
    }
   ],
   "source": [
    "# so what will happen when I try adding x and y?\n",
    "x + y"
   ]
  },
  {
   "cell_type": "code",
   "execution_count": 21,
   "metadata": {},
   "outputs": [
    {
     "ename": "TypeError",
     "evalue": "can only concatenate str (not \"int\") to str",
     "output_type": "error",
     "traceback": [
      "\u001b[0;31m---------------------------------------------------------------------------\u001b[0m",
      "\u001b[0;31mTypeError\u001b[0m                                 Traceback (most recent call last)",
      "Cell \u001b[0;32mIn[21], line 1\u001b[0m\n\u001b[0;32m----> 1\u001b[0m \u001b[43my\u001b[49m\u001b[43m \u001b[49m\u001b[38;5;241;43m+\u001b[39;49m\u001b[43m \u001b[49m\u001b[43mx\u001b[49m\n",
      "\u001b[0;31mTypeError\u001b[0m: can only concatenate str (not \"int\") to str"
     ]
    }
   ],
   "source": [
    "y + x"
   ]
  },
  {
   "cell_type": "markdown",
   "metadata": {},
   "source": [
    "# You have to be careful about types!\n",
    "\n",
    "Different types of data cannot be mixed together willy nilly. You need to make sure that both values you're adding (or anything else) are the same type. We will talk about how to convert one type to another."
   ]
  },
  {
   "cell_type": "markdown",
   "metadata": {},
   "source": [
    "# Exercise: Simple calculator\n",
    "\n",
    "Assign two whole numbers (i.e., just digits 0-9) to two different variables. (You get to choose their names!) Add them together, and assign the result to a third variable. Print that third variable on the screen."
   ]
  },
  {
   "cell_type": "code",
   "execution_count": 22,
   "metadata": {},
   "outputs": [
    {
     "data": {
      "text/plain": [
       "57"
      ]
     },
     "execution_count": 22,
     "metadata": {},
     "output_type": "execute_result"
    }
   ],
   "source": [
    "first = 25    # assigning the integer 25 to first\n",
    "second = 32   # assigning the integer 32 t second\n",
    "\n",
    "first + second"
   ]
  },
  {
   "cell_type": "code",
   "execution_count": 23,
   "metadata": {},
   "outputs": [
    {
     "data": {
      "text/plain": [
       "'2532'"
      ]
     },
     "execution_count": 23,
     "metadata": {},
     "output_type": "execute_result"
    }
   ],
   "source": [
    "# let's try something else\n",
    "first = '25'    # assigning the text string '25' to first\n",
    "second = '32'   # assigning the text string '32' to second\n",
    "\n",
    "first + second"
   ]
  },
  {
   "cell_type": "code",
   "execution_count": 24,
   "metadata": {},
   "outputs": [
    {
     "name": "stdout",
     "output_type": "stream",
     "text": [
      "57\n"
     ]
    }
   ],
   "source": [
    "first = 25    # assigning the integer 25 to first\n",
    "second = 32   # assigning the integer 32 t second\n",
    "\n",
    "total = first + second\n",
    "\n",
    "print(total)"
   ]
  },
  {
   "cell_type": "code",
   "execution_count": 25,
   "metadata": {},
   "outputs": [
    {
     "ename": "TypeError",
     "evalue": "can only concatenate str (not \"int\") to str",
     "output_type": "error",
     "traceback": [
      "\u001b[0;31m---------------------------------------------------------------------------\u001b[0m",
      "\u001b[0;31mTypeError\u001b[0m                                 Traceback (most recent call last)",
      "Cell \u001b[0;32mIn[25], line 3\u001b[0m\n\u001b[1;32m      1\u001b[0m \u001b[38;5;66;03m# what if I want to print some text along with that number?\u001b[39;00m\n\u001b[0;32m----> 3\u001b[0m \u001b[38;5;28mprint\u001b[39m(\u001b[38;5;124;43m'\u001b[39;49m\u001b[38;5;124;43mYour total is \u001b[39;49m\u001b[38;5;124;43m'\u001b[39;49m\u001b[43m \u001b[49m\u001b[38;5;241;43m+\u001b[39;49m\u001b[43m \u001b[49m\u001b[43mtotal\u001b[49m)\n",
      "\u001b[0;31mTypeError\u001b[0m: can only concatenate str (not \"int\") to str"
     ]
    }
   ],
   "source": [
    "# what if I want to print some text along with that number?\n",
    "\n",
    "print('Your total is ' + total)"
   ]
  },
  {
   "cell_type": "code",
   "execution_count": 28,
   "metadata": {},
   "outputs": [
    {
     "name": "stdout",
     "output_type": "stream",
     "text": [
      "25 + 32 = 57\n"
     ]
    }
   ],
   "source": [
    "# however, we can use a special kind of text string called an f-string\n",
    "# (that's short for format string or fancy string)\n",
    "\n",
    "# you put an f before the opening '\n",
    "# inside of the f-string, you can put {} with any Python expression inside\n",
    "# that will be turned into a text string!\n",
    "\n",
    "print(f'{first} + {second} = {total}')    # value of first, value of second, value of total are *INTERPOLATED* into the string"
   ]
  },
  {
   "cell_type": "code",
   "execution_count": 31,
   "metadata": {},
   "outputs": [
    {
     "name": "stdout",
     "output_type": "stream",
     "text": [
      "Hello, strange!\n"
     ]
    }
   ],
   "source": [
    "name = 'strange'\n",
    "\n",
    "print(f'Hello, {name}!')   # this f-string's value depends on the value of the variable name"
   ]
  },
  {
   "cell_type": "markdown",
   "metadata": {},
   "source": [
    "# What does an f-string do?\n",
    "\n",
    "In a standard, traditional string, what we type is (basically) what we get. \n",
    "\n",
    "What we want, though, is a string in which there's some *dynamic* content. That is, some part of it will change its value based on what a variable contains. \n",
    "\n",
    "- If your string won't ever change, then don't use an f-string. (You lose nothing!)\n",
    "- If your string contains values from variables, then an f-string is a godsend.\n",
    "- The types of values you put in an f-string don't matter, because they're all converted into text strings behind the scenes.\n"
   ]
  },
  {
   "cell_type": "code",
   "execution_count": 32,
   "metadata": {},
   "outputs": [
    {
     "name": "stdout",
     "output_type": "stream",
     "text": [
      "10 + 20 + 30 = 60\n"
     ]
    }
   ],
   "source": [
    "# Think of the {} as a tiny Python program\n",
    "\n",
    "x = 10\n",
    "y = 20\n",
    "z = 30\n",
    "\n",
    "print(f'{x} + {y} + {z} = {x+y+z}')  # inside of {} we can have any expression, not just a variable"
   ]
  },
  {
   "cell_type": "code",
   "execution_count": 34,
   "metadata": {},
   "outputs": [
    {
     "name": "stdin",
     "output_type": "stream",
     "text": [
      "Enter your name:  someone else\n"
     ]
    },
    {
     "name": "stdout",
     "output_type": "stream",
     "text": [
      "Hello, someone else!\n"
     ]
    }
   ],
   "source": [
    "# what if I want to get input from the user, and not hard-code it in my program?\n",
    "\n",
    "# I can use the \"input\" function, which pauses the program and asks the user to enter something\n",
    "# whatever the user entered is \"returned\" by that function, and can be assigned to a variable\n",
    "\n",
    "# here's the typical look of input:\n",
    "\n",
    "# when we assign, the right side runs before the left side\n",
    "# the right side asks the user to enter their name\n",
    "# whatever the user types is returned as a string (the right side will contain a string)\n",
    "# that string is assigned to the variable name\n",
    "\n",
    "name = input('Enter your name: ')\n",
    "print(f'Hello, {name}!')"
   ]
  },
  {
   "cell_type": "markdown",
   "metadata": {},
   "source": [
    "# Exercise: User input\n",
    "\n",
    "1. Ask the user to enter their name, and assign that to a variable `name`.\n",
    "2. Ask the user to enter their city, and assign that to a variable `city`.\n",
    "3. Print output to the user, greeting them from their city.\n",
    "\n",
    "Example:\n",
    "\n",
    "    Enter your name: Reuven\n",
    "    Enter your city: Modi'in\n",
    "    Hello Reuven from Modi'in!"
   ]
  },
  {
   "cell_type": "code",
   "execution_count": 35,
   "metadata": {
    "scrolled": true
   },
   "outputs": [
    {
     "name": "stdin",
     "output_type": "stream",
     "text": [
      "Enter your name:  Reuven\n",
      "Enter your city:  Modi'in\n"
     ]
    },
    {
     "name": "stdout",
     "output_type": "stream",
     "text": [
      "Hello, Reuven from Modi'in!\n"
     ]
    }
   ],
   "source": [
    "name = input('Enter your name: ')\n",
    "city = input('Enter your city: ')\n",
    "\n",
    "print(f'Hello, {name} from {city}!')"
   ]
  },
  {
   "cell_type": "code",
   "execution_count": 36,
   "metadata": {
    "scrolled": true
   },
   "outputs": [
    {
     "name": "stdin",
     "output_type": "stream",
     "text": [
      "Enter your name:  Reuven\n",
      "Enter your city:  Modi'in\n"
     ]
    },
    {
     "name": "stdout",
     "output_type": "stream",
     "text": [
      "Hello, Reuven, from, Modi'in!\n"
     ]
    }
   ],
   "source": [
    "name = input('Enter your name: ')\n",
    "city = input('Enter your city: ')\n",
    "\n",
    "print(f'Hello, {name}, from, {city}!')"
   ]
  },
  {
   "cell_type": "code",
   "execution_count": 37,
   "metadata": {},
   "outputs": [
    {
     "ename": "SyntaxError",
     "evalue": "unterminated string literal (detected at line 4) (3214737825.py, line 4)",
     "output_type": "error",
     "traceback": [
      "\u001b[0;36m  Cell \u001b[0;32mIn[37], line 4\u001b[0;36m\u001b[0m\n\u001b[0;31m    print(f'{name}'s city is {city}!')\u001b[0m\n\u001b[0m                                    ^\u001b[0m\n\u001b[0;31mSyntaxError\u001b[0m\u001b[0;31m:\u001b[0m unterminated string literal (detected at line 4)\n"
     ]
    }
   ],
   "source": [
    "name = input('Enter your name: ')\n",
    "city = input('Enter your city: ')\n",
    "\n",
    "print(f'{name}\\'s city is {city}!')   # inside of a '' string, you can use \\' to mean: give me a literal ', not the end of the string"
   ]
  },
  {
   "cell_type": "markdown",
   "metadata": {},
   "source": [
    "# Next up\n",
    "\n",
    "- Comparing values\n",
    "- Conditional execution"
   ]
  },
  {
   "cell_type": "markdown",
   "metadata": {},
   "source": [
    "# Conditions\n",
    "\n",
    "We've seen that we can use `+` on values to add them together (numbers or text strings). But there are many operators, too. One of them is `==`, which is the *equality operator*. It tells us if two things are the same.\n",
    "\n",
    "## `=` and `==` are *VERY* different!\n",
    "\n",
    "- `=`, as we saw before, is the assignment operator. It takes the value on the right and assigns to the variable on the left.\n",
    "- `==` has a completely different role; it returns either `True` or `False`, depending on if the values on its left and right are the same."
   ]
  },
  {
   "cell_type": "code",
   "execution_count": 38,
   "metadata": {},
   "outputs": [
    {
     "data": {
      "text/plain": [
       "False"
      ]
     },
     "execution_count": 38,
     "metadata": {},
     "output_type": "execute_result"
    }
   ],
   "source": [
    "10 == 20   # what will this return"
   ]
  },
  {
   "cell_type": "code",
   "execution_count": 39,
   "metadata": {},
   "outputs": [
    {
     "data": {
      "text/plain": [
       "True"
      ]
     },
     "execution_count": 39,
     "metadata": {},
     "output_type": "execute_result"
    }
   ],
   "source": [
    "10 == 10"
   ]
  },
  {
   "cell_type": "code",
   "execution_count": 40,
   "metadata": {},
   "outputs": [
    {
     "data": {
      "text/plain": [
       "False"
      ]
     },
     "execution_count": 40,
     "metadata": {},
     "output_type": "execute_result"
    }
   ],
   "source": [
    "10 == '10'  "
   ]
  },
  {
   "cell_type": "code",
   "execution_count": 41,
   "metadata": {},
   "outputs": [
    {
     "data": {
      "text/plain": [
       "True"
      ]
     },
     "execution_count": 41,
     "metadata": {},
     "output_type": "execute_result"
    }
   ],
   "source": [
    "'abcd' == 'abcd'  "
   ]
  },
  {
   "cell_type": "code",
   "execution_count": 42,
   "metadata": {},
   "outputs": [
    {
     "data": {
      "text/plain": [
       "False"
      ]
     },
     "execution_count": 42,
     "metadata": {},
     "output_type": "execute_result"
    }
   ],
   "source": [
    "'abcd' == ' abcd'"
   ]
  },
  {
   "cell_type": "code",
   "execution_count": 43,
   "metadata": {},
   "outputs": [
    {
     "data": {
      "text/plain": [
       "False"
      ]
     },
     "execution_count": 43,
     "metadata": {},
     "output_type": "execute_result"
    }
   ],
   "source": [
    "'abcd' == 'Abcd'"
   ]
  },
  {
   "cell_type": "markdown",
   "metadata": {},
   "source": [
    "# Comparison operators\n",
    "\n",
    "We can compare two values in a number of ways:\n",
    "\n",
    "- `==` -- are they the same?\n",
    "- `!=` -- are they *not* the same?\n",
    "- `<` -- is the value on the left less than the value on the right?\n",
    "- `<=` -- is the value on the left less than or equal to the value on the right?\n",
    "- `>` -- is the value on the left greater than the value on the right?\n",
    "- `>=` -- is the value on the left greater than or equal to the value on the right?\n",
    " "
   ]
  },
  {
   "cell_type": "markdown",
   "metadata": {},
   "source": [
    "# Conditionals \n",
    "\n",
    "So far, when we've had code in our program, it always ran. Conditionals allow us to say, \"This code should only run sometimes, under the following conditions.\"\n",
    "\n",
    "The way we do this is with the `if` statement.\n",
    "\n",
    "1. `if` looks to its right, and checks if there is a `True` or `False` value. Very often, we're going to have a comparison there, often (but not always) with `==`.\n",
    "2. At the end of that line, there must be a `:`.\n",
    "3. Starting on the following line, we have a \"block\" of code. How does Python know where the block starts? Right after the colon. How does it know when it ends? When the indentation ends. There is no `end` or `}` or other syntax in Python to indicate the end of a block; it's just indentation.\n",
    "4. A block must contain at least one line. Whatever is in the `if` block runs if the condition for `if` was `True`.\n",
    "5. If the condition for the `if` was `False`, and if there's an `else` clause, then the `else` block runs.\n",
    "6. `else` does *not* have a condition! It runs if the previous clause was `False`.\n",
    "7. `else` has a `:` at the end of the line, and its own block, which can be any length.\n",
    "8. If you don't have an `else` clause, then `if` might or might run.\n",
    "9. If you *do* have an `else` clause, then either `if` or `else` will run -- one of them is guaranteed to run; not zero and not both of them."
   ]
  },
  {
   "cell_type": "code",
   "execution_count": 46,
   "metadata": {},
   "outputs": [
    {
     "ename": "IndentationError",
     "evalue": "expected an indented block after 'if' statement on line 3 (2268419397.py, line 4)",
     "output_type": "error",
     "traceback": [
      "\u001b[0;36m  Cell \u001b[0;32mIn[46], line 4\u001b[0;36m\u001b[0m\n\u001b[0;31m    print('Hello, boss!')\u001b[0m\n\u001b[0m    ^\u001b[0m\n\u001b[0;31mIndentationError\u001b[0m\u001b[0;31m:\u001b[0m expected an indented block after 'if' statement on line 3\n"
     ]
    }
   ],
   "source": [
    "name = input('Enter your name: ')\n",
    "\n",
    "if name == 'Reuven':\n",
    "    print('Hello, boss!')\n",
    "    print('It is great to see you again!')\n",
    "else:\n",
    "    print(f'Who are you, {name}?')"
   ]
  },
  {
   "cell_type": "markdown",
   "metadata": {},
   "source": [
    "# Exercise: Which word comes first?\n",
    "\n",
    "1. Ask the user to enter a word, and assign it to a variable.\n",
    "2. Ask the user to enter a second word, and assign it to another variable.\n",
    "3. If the first word comes before the second one alphabetically, say so.\n",
    "4. If the second word comes before the first one alphabetically, say so.\n",
    "\n",
    "Some things to keep in mind:\n",
    "- Yes, you can use `<` and `>` on text strings! \"Less\" in this case means \"comes earlier alphabetically.\"\n",
    "- Assume the user entered two different words.\n",
    "- Also assume that the words contain only lowercase letters (no digits, symbols, spaces, etc.)"
   ]
  },
  {
   "cell_type": "markdown",
   "metadata": {},
   "source": [
    "# Single vs. double quotes\n",
    "\n",
    "In some programming languages, it's very important to distinguish between `'` and `\"`. Not so in Python! You can define strings with either one, and they are identical. The only difference is whether you have `'` inside of a single-quoted string or `\"` inside of a double-quoted string, which is annoying.\n",
    "\n"
   ]
  },
  {
   "cell_type": "code",
   "execution_count": 48,
   "metadata": {},
   "outputs": [
    {
     "name": "stdin",
     "output_type": "stream",
     "text": [
      "Enter first word:  taxi\n",
      "Enter second word:  cab\n"
     ]
    },
    {
     "name": "stdout",
     "output_type": "stream",
     "text": [
      "cab comes before taxi\n"
     ]
    }
   ],
   "source": [
    "first = input('Enter first word: ')\n",
    "second = input('Enter second word: ')\n",
    "\n",
    "if first < second:\n",
    "    print(f'{first} comes before {second}')\n",
    "else:\n",
    "    print(f'{second} comes before {first}')"
   ]
  },
  {
   "cell_type": "markdown",
   "metadata": {},
   "source": [
    "# Indentation\n",
    "\n",
    "Python knows where a block starts/ends with indentation. The indentation is MANDATORY. It's not just decorative.\n",
    "\n",
    "What counts as indentation? Any combination of spaces and tabs **BUT** you must be consistent, always using precisely the same combination. Most people in the Python world have settled on four spaces for indentation.\n",
    "\n",
    "To end a block, just backspace and end the indentation.\n",
    "\n",
    "To indent a line that wasn't before, use tab to move it in four spaces. You can also normally use shift-tab to reverse-indent."
   ]
  },
  {
   "cell_type": "markdown",
   "metadata": {},
   "source": [
    "# More sophisticated conditions\n",
    "\n",
    "`elif` allows us to deal with more than two options. It works as another `if` statement that only checks things if the original `if` condition returned `False`.\n",
    "\n",
    "You can have as many `elif` clauses as you want. Each has its own condition, and each is checked in turn. The first that is `True` wins."
   ]
  },
  {
   "cell_type": "code",
   "execution_count": 51,
   "metadata": {},
   "outputs": [
    {
     "name": "stdin",
     "output_type": "stream",
     "text": [
      "Enter your name:  sadfasdfasfsasafa\n"
     ]
    },
    {
     "name": "stdout",
     "output_type": "stream",
     "text": [
      "I have no idea what to say to you, sadfasdfasfsasafa.\n"
     ]
    }
   ],
   "source": [
    "name = input('Enter your name: ')\n",
    "\n",
    "if name == 'Reuven':\n",
    "    print('Hi, boss!')\n",
    "elif name == 'someone else':\n",
    "    print('Is that really a name?!?')\n",
    "elif name == 'whatever':\n",
    "    print('Oh, you must be a teenager')\n",
    "else:\n",
    "    print(f'I have no idea what to say to you, {name}.')"
   ]
  },
  {
   "cell_type": "markdown",
   "metadata": {},
   "source": [
    "# Exercise: Which word comes first?\n",
    "\n",
    "Repeat the previous exercise, but now deal with the possiblity that the person entered the same word twice. In such a case, tell them that they entered the word twice."
   ]
  },
  {
   "cell_type": "code",
   "execution_count": 53,
   "metadata": {},
   "outputs": [
    {
     "name": "stdin",
     "output_type": "stream",
     "text": [
      "Enter first word:  hello\n",
      "Enter second word:  goodbye\n"
     ]
    },
    {
     "name": "stdout",
     "output_type": "stream",
     "text": [
      "goodbye comes before hello\n"
     ]
    }
   ],
   "source": [
    "first = input('Enter first word: ')\n",
    "second = input('Enter second word: ')\n",
    "\n",
    "if first < second:\n",
    "    print(f'{first} comes before {second}')\n",
    "elif first > second:\n",
    "    print(f'{second} comes before {first}')\n",
    "else:\n",
    "    print(f'{first} and {second} are the same')"
   ]
  },
  {
   "cell_type": "code",
   "execution_count": null,
   "metadata": {},
   "outputs": [],
   "source": [
    "# SY\n",
    "\n",
    "# Which word comes first (elif)\n",
    "\n",
    "word1 = input('Enter Word 1 = ')\n",
    "word2 = input('Enter Word 2 = ')\n",
    "if word1 == word2:\n",
    "    print('You have entered the same word twice')\n",
    "elif word1<word2:\n",
    "    print(f'{word1} comes before {word2}')\n",
    "else:\n",
    "    print(f'{word2} comes before {word1}')"
   ]
  },
  {
   "cell_type": "markdown",
   "metadata": {},
   "source": [
    "# What about combining conditions?\n",
    "\n",
    "Sometimes, I want to check two different things, and only perform an action if both are `True`. In such a case, I'll need to use `and` or `or`.\n",
    "\n",
    "- `and` returns `True` if it sees `True` on both its left and right\n",
    "- `or` returns `True` if it sees `True` on either its left or right\n",
    "\n",
    "It's typical for us to use `and` or `or` to the right of an `if` or `elif`."
   ]
  },
  {
   "cell_type": "code",
   "execution_count": 54,
   "metadata": {},
   "outputs": [
    {
     "name": "stdout",
     "output_type": "stream",
     "text": [
      "Yes, they are what you want!\n"
     ]
    }
   ],
   "source": [
    "x = 10\n",
    "y = 20\n",
    "\n",
    "#      True     and       True -> True\n",
    "if   x == 10    and    y == 20:\n",
    "    print('Yes, they are what you want!')"
   ]
  },
  {
   "cell_type": "code",
   "execution_count": 56,
   "metadata": {},
   "outputs": [],
   "source": [
    "x = 10\n",
    "y = 20\n",
    "\n",
    "#      True     and       False -> False\n",
    "if   x == 10    and    y == 35:\n",
    "    print('Yes, they are what you want!')    # the condition is False and there's no else clause, so .. silence"
   ]
  },
  {
   "cell_type": "code",
   "execution_count": 57,
   "metadata": {},
   "outputs": [
    {
     "name": "stdout",
     "output_type": "stream",
     "text": [
      "Yes, at least one is what you want!\n"
     ]
    }
   ],
   "source": [
    "x = 10\n",
    "y = 20\n",
    "\n",
    "#      True      or     False  :    True\n",
    "if   x == 10    or    y == 35:\n",
    "    print('Yes, at least one is what you want!')"
   ]
  },
  {
   "cell_type": "markdown",
   "metadata": {},
   "source": [
    "If you get this error:\n",
    "\n",
    "```\n",
    "could you please help: and 'PyodideFuture\n",
    "\n",
    "\n",
    "\n",
    "what is TypeError: '<' not supported between instances of 'PyodideFuture' and 'PyodideFuture' error, I got this when I use in string comparion. if str1 < str2:\n",
    "```\n",
    "\n",
    "You're using something called JupyterLite, which runs *only* in the browser.  "
   ]
  },
  {
   "cell_type": "markdown",
   "metadata": {},
   "source": [
    "# Exercise: Name and company\n",
    "\n",
    "1. Ask the user to enter their name\n",
    "2. Ask them to enter their company's name\n",
    "3. Print one of four sentences:\n",
    "    - if both are the same as you, print \"You must be me!\"\n",
    "    - if the name is the same (but not the company), compliment their name\n",
    "    - if the company is the same (but not the name), compliment the company and call them a colleague\n",
    "    - if neither is the same, then be snarky toward them"
   ]
  },
  {
   "cell_type": "code",
   "execution_count": 60,
   "metadata": {},
   "outputs": [
    {
     "name": "stdin",
     "output_type": "stream",
     "text": [
      "Enter your name:  Someone\n",
      "Enter your company:  Lerner\n"
     ]
    },
    {
     "name": "stdout",
     "output_type": "stream",
     "text": [
      "Hey, my amazing colleague!\n"
     ]
    }
   ],
   "source": [
    "name = input('Enter your name: ')\n",
    "company = input('Enter your company: ')\n",
    "\n",
    "if name == 'Reuven' and company == 'Lerner':\n",
    "    print('You must be me!')\n",
    "elif name == 'Reuven':\n",
    "    print('Great name, bad company')\n",
    "elif company == 'Lerner':\n",
    "    print('Hey, my amazing colleague!')\n",
    "else:\n",
    "    print('Who are you and why do I care?')"
   ]
  },
  {
   "cell_type": "markdown",
   "metadata": {},
   "source": [
    "# Next up\n",
    "\n",
    "1. Numbers (Integers and floats)\n",
    "2. Text strings"
   ]
  },
  {
   "cell_type": "markdown",
   "metadata": {},
   "source": [
    "# Numbers\n",
    "\n",
    "In Python (and most modern computers), we have two types of numbers in the system (including in the CPU):\n",
    "- Integers (whole numbers)\n",
    "- Floats (with a decimal point + fractional part)\n",
    "\n"
   ]
  },
  {
   "cell_type": "code",
   "execution_count": 61,
   "metadata": {},
   "outputs": [
    {
     "data": {
      "text/plain": [
       "int"
      ]
     },
     "execution_count": 61,
     "metadata": {},
     "output_type": "execute_result"
    }
   ],
   "source": [
    "x = 10    # is this an integer? Yes, because it doesn't have any decimal point\n",
    "\n",
    "# I can ask Python: What kind of value is this?\n",
    "type(x)   "
   ]
  },
  {
   "cell_type": "code",
   "execution_count": 62,
   "metadata": {},
   "outputs": [
    {
     "data": {
      "text/plain": [
       "13"
      ]
     },
     "execution_count": 62,
     "metadata": {},
     "output_type": "execute_result"
    }
   ],
   "source": [
    "# what can I do with an integer?\n",
    "\n",
    "x = 10\n",
    "y = 3\n",
    "\n",
    "x + y   # addition"
   ]
  },
  {
   "cell_type": "code",
   "execution_count": 63,
   "metadata": {},
   "outputs": [
    {
     "data": {
      "text/plain": [
       "7"
      ]
     },
     "execution_count": 63,
     "metadata": {},
     "output_type": "execute_result"
    }
   ],
   "source": [
    "x - y   # subtraction"
   ]
  },
  {
   "cell_type": "code",
   "execution_count": 64,
   "metadata": {},
   "outputs": [
    {
     "data": {
      "text/plain": [
       "30"
      ]
     },
     "execution_count": 64,
     "metadata": {},
     "output_type": "execute_result"
    }
   ],
   "source": [
    "x * y    # multiplication"
   ]
  },
  {
   "cell_type": "code",
   "execution_count": 65,
   "metadata": {},
   "outputs": [
    {
     "data": {
      "text/plain": [
       "3.3333333333333335"
      ]
     },
     "execution_count": 65,
     "metadata": {},
     "output_type": "execute_result"
    }
   ],
   "source": [
    "x / y     # division -- truediv, meaning that we'll get a floating point value back"
   ]
  },
  {
   "cell_type": "code",
   "execution_count": 67,
   "metadata": {},
   "outputs": [
    {
     "data": {
      "text/plain": [
       "3"
      ]
     },
     "execution_count": 67,
     "metadata": {},
     "output_type": "execute_result"
    }
   ],
   "source": [
    "x // y     # division -- floordiv, meaning that we'll get an integer back, chopping off (not rounding) any fractional part"
   ]
  },
  {
   "cell_type": "code",
   "execution_count": 68,
   "metadata": {},
   "outputs": [
    {
     "data": {
      "text/plain": [
       "1000"
      ]
     },
     "execution_count": 68,
     "metadata": {},
     "output_type": "execute_result"
    }
   ],
   "source": [
    "x ** y     # exponentiation"
   ]
  },
  {
   "cell_type": "code",
   "execution_count": 69,
   "metadata": {},
   "outputs": [
    {
     "data": {
      "text/plain": [
       "1"
      ]
     },
     "execution_count": 69,
     "metadata": {},
     "output_type": "execute_result"
    }
   ],
   "source": [
    "x % y    # modulus -- the remainder after integer division"
   ]
  },
  {
   "cell_type": "code",
   "execution_count": 70,
   "metadata": {},
   "outputs": [],
   "source": [
    "# if you're wondering why we need a % operator\n",
    "# (a) very useful for checking for even/odd numbers\n",
    "# (b) very useful in modern cryptography"
   ]
  },
  {
   "cell_type": "code",
   "execution_count": 71,
   "metadata": {},
   "outputs": [
    {
     "data": {
      "text/plain": [
       "11"
      ]
     },
     "execution_count": 71,
     "metadata": {},
     "output_type": "execute_result"
    }
   ],
   "source": [
    "# what if I want to add 1 to an integer?\n",
    "\n",
    "x = 10\n",
    "x = x + 1   # this looks crazy -- it really means, add 1 to x and assign back to x\n",
    "\n",
    "x"
   ]
  },
  {
   "cell_type": "code",
   "execution_count": 73,
   "metadata": {},
   "outputs": [
    {
     "data": {
      "text/plain": [
       "11"
      ]
     },
     "execution_count": 73,
     "metadata": {},
     "output_type": "execute_result"
    }
   ],
   "source": [
    "# I could also say\n",
    "\n",
    "x = 10\n",
    "x += 1   # this is the same as x = x + 1\n",
    "\n",
    "x"
   ]
  },
  {
   "cell_type": "code",
   "execution_count": 74,
   "metadata": {},
   "outputs": [
    {
     "data": {
      "text/plain": [
       "False"
      ]
     },
     "execution_count": 74,
     "metadata": {},
     "output_type": "execute_result"
    }
   ],
   "source": [
    "x = 10\n",
    "y = '10'   \n",
    "\n",
    "x == y"
   ]
  },
  {
   "cell_type": "code",
   "execution_count": 76,
   "metadata": {},
   "outputs": [
    {
     "data": {
      "text/plain": [
       "True"
      ]
     },
     "execution_count": 76,
     "metadata": {},
     "output_type": "execute_result"
    }
   ],
   "source": [
    "# when I use the \"input\" function, I get back a string\n",
    "# it's always a string, even if the string contains digits\n",
    "\n",
    "# how can I take a string, and based on it get back an integer?\n",
    "# answer: int\n",
    "# if we invoke int() on a string that contains only digits, we get back an integer\n",
    "\n",
    "x == int(y)    # now we're comparing an integer (x) with an integer (int(y))"
   ]
  },
  {
   "cell_type": "markdown",
   "metadata": {},
   "source": [
    "# Exercise: Guessing game\n",
    "\n",
    "1. Define a variable `number` to be an integer.\n",
    "2. Ask the user to guess the number, and assign to `guess`.\n",
    "3. Print one of three things:\n",
    "    - Too high\n",
    "    - Too low\n",
    "    - You got it!"
   ]
  },
  {
   "cell_type": "code",
   "execution_count": 82,
   "metadata": {},
   "outputs": [
    {
     "name": "stdin",
     "output_type": "stream",
     "text": [
      "Guess my secret number! 1234\n"
     ]
    },
    {
     "name": "stdout",
     "output_type": "stream",
     "text": [
      "Too high!\n"
     ]
    }
   ],
   "source": [
    "number = 72\n",
    "\n",
    "guess = input('Guess my secret number!' )\n",
    "guess = int(guess)    # get an integer based on the user's input string\n",
    "\n",
    "# you could also use this:\n",
    "# guess = int(input('Enter a number: '))\n",
    "\n",
    "if guess == number:\n",
    "    print('You got it!')\n",
    "elif guess < number:\n",
    "    print('Too low!')\n",
    "else:\n",
    "    print('Too high!')"
   ]
  },
  {
   "cell_type": "markdown",
   "metadata": {},
   "source": [
    "# Floats\n",
    "\n",
    "Floating-point numbers have a decimal point and a fractional part (which can be 0)."
   ]
  },
  {
   "cell_type": "code",
   "execution_count": 83,
   "metadata": {},
   "outputs": [
    {
     "data": {
      "text/plain": [
       "float"
      ]
     },
     "execution_count": 83,
     "metadata": {},
     "output_type": "execute_result"
    }
   ],
   "source": [
    "n = 12.34\n",
    "type(n)"
   ]
  },
  {
   "cell_type": "code",
   "execution_count": 85,
   "metadata": {},
   "outputs": [
    {
     "data": {
      "text/plain": [
       "15.5"
      ]
     },
     "execution_count": 85,
     "metadata": {},
     "output_type": "execute_result"
    }
   ],
   "source": [
    "# what happens if I use floats and ints together?\n",
    "# I get a float back\n",
    "\n",
    "10 + 5.5"
   ]
  },
  {
   "cell_type": "code",
   "execution_count": 86,
   "metadata": {},
   "outputs": [
    {
     "data": {
      "text/plain": [
       "12.34"
      ]
     },
     "execution_count": 86,
     "metadata": {},
     "output_type": "execute_result"
    }
   ],
   "source": [
    "# how can I convert a string into a float?\n",
    "# answer: call float() on the string, just as we called int() on the string earlier\n",
    "\n",
    "float('12.34')"
   ]
  },
  {
   "cell_type": "code",
   "execution_count": 87,
   "metadata": {},
   "outputs": [
    {
     "data": {
      "text/plain": [
       "12.0"
      ]
     },
     "execution_count": 87,
     "metadata": {},
     "output_type": "execute_result"
    }
   ],
   "source": [
    "float('12')"
   ]
  },
  {
   "cell_type": "code",
   "execution_count": 89,
   "metadata": {},
   "outputs": [
    {
     "data": {
      "text/plain": [
       "0.30000000000000004"
      ]
     },
     "execution_count": 89,
     "metadata": {},
     "output_type": "execute_result"
    }
   ],
   "source": [
    "# floats are not always accurate!\n",
    "# (they're very close, but ...)\n",
    "\n",
    "0.1 + 0.2"
   ]
  },
  {
   "cell_type": "code",
   "execution_count": 90,
   "metadata": {},
   "outputs": [
    {
     "data": {
      "text/plain": [
       "12"
      ]
     },
     "execution_count": 90,
     "metadata": {},
     "output_type": "execute_result"
    }
   ],
   "source": [
    "int(12.34)   "
   ]
  },
  {
   "cell_type": "markdown",
   "metadata": {},
   "source": [
    "# Exercise: Add the fractional part\n",
    "\n",
    "1. Ask the user to enter two floats, and assign to two variables. (Don't forget that `input` returns a string, so you'll need to convert to `float`. Assume that the user will really enter digits and a decimal point.)\n",
    "2. Add the fraction parts of these two floats together, ignoring the integer part.\n",
    "\n",
    "Example:\n",
    "\n",
    "    Enter first number: 12.34\n",
    "    Enter second number: 56.34\n",
    "    Total is 0.68"
   ]
  },
  {
   "cell_type": "code",
   "execution_count": 93,
   "metadata": {},
   "outputs": [
    {
     "name": "stdin",
     "output_type": "stream",
     "text": [
      "Enter first number:  12.34\n",
      "Enter second number:  56.34\n"
     ]
    },
    {
     "name": "stdout",
     "output_type": "stream",
     "text": [
      "0.33999999999999986 + 0.3400000000000034 = 0.6800000000000033\n"
     ]
    }
   ],
   "source": [
    "first = input('Enter first number: ')\n",
    "second = input('Enter second number: ')\n",
    "\n",
    "f1 = float(first)\n",
    "f1 = f1 - int(f1)\n",
    "\n",
    "f2 = float(second)\n",
    "f2 = f2 - int(f2)\n",
    "\n",
    "print(f'{f1} + {f2} = {f1+f2}')"
   ]
  },
  {
   "cell_type": "code",
   "execution_count": 94,
   "metadata": {},
   "outputs": [
    {
     "data": {
      "text/plain": [
       "0"
      ]
     },
     "execution_count": 94,
     "metadata": {},
     "output_type": "execute_result"
    }
   ],
   "source": [
    "# we can use the \"round\" function on a float to round it to a certain number of digits\n",
    "# after the decimal point\n",
    "\n",
    "round(0.33999999999999986)"
   ]
  },
  {
   "cell_type": "code",
   "execution_count": 97,
   "metadata": {},
   "outputs": [
    {
     "data": {
      "text/plain": [
       "0.34"
      ]
     },
     "execution_count": 97,
     "metadata": {},
     "output_type": "execute_result"
    }
   ],
   "source": [
    "# how many digits do we want after the decimal point?\n",
    "round(0.33999999999999986, 2)"
   ]
  },
  {
   "cell_type": "code",
   "execution_count": 98,
   "metadata": {},
   "outputs": [
    {
     "name": "stdin",
     "output_type": "stream",
     "text": [
      "Enter first number:  12.34\n",
      "Enter second number:  56.34\n"
     ]
    },
    {
     "name": "stdout",
     "output_type": "stream",
     "text": [
      "0.34 + 0.34 = 0.68\n"
     ]
    }
   ],
   "source": [
    "first = input('Enter first number: ')\n",
    "second = input('Enter second number: ')\n",
    "\n",
    "f1 = float(first)\n",
    "f1 = round(f1 - int(f1), 2)\n",
    "\n",
    "f2 = float(second)\n",
    "f2 = round(f2 - int(f2), 2)\n",
    "\n",
    "print(f'{f1} + {f2} = {f1+f2}')"
   ]
  },
  {
   "cell_type": "code",
   "execution_count": 99,
   "metadata": {},
   "outputs": [
    {
     "name": "stdin",
     "output_type": "stream",
     "text": [
      "enter first float 12.34\n",
      "enter second float 56.34\n"
     ]
    },
    {
     "name": "stdout",
     "output_type": "stream",
     "text": [
      " enter first number 12.34\n",
      " enter second number 56.34\n",
      " total is 0.6800000000000068\n"
     ]
    }
   ],
   "source": [
    "# EG\n",
    "\n",
    "float1 = float(input ('enter first float'))\n",
    "float2 = float(input ('enter second float'))\n",
    "\n",
    "print (f' enter first number {float1}')\n",
    "print (f' enter second number {float2}')\n",
    "print (f' total is {float1+float2-int(float1+float2)}')"
   ]
  },
  {
   "cell_type": "code",
   "execution_count": 100,
   "metadata": {},
   "outputs": [
    {
     "data": {
      "text/plain": [
       "'1234'"
      ]
     },
     "execution_count": 100,
     "metadata": {},
     "output_type": "execute_result"
    }
   ],
   "source": [
    "# it's great that we can call int() on a value to get an integer, or float on a value to get a float.\n",
    "# *BUT* what if I want a string?\n",
    "# we can call str() on anything in all of Python, and it'll work, giving me back a string based on the value\n",
    "\n",
    "str(1234)"
   ]
  },
  {
   "cell_type": "code",
   "execution_count": 101,
   "metadata": {},
   "outputs": [
    {
     "data": {
      "text/plain": [
       "'12.34'"
      ]
     },
     "execution_count": 101,
     "metadata": {},
     "output_type": "execute_result"
    }
   ],
   "source": [
    "str(12.34)\n"
   ]
  },
  {
   "cell_type": "markdown",
   "metadata": {},
   "source": [
    "# Next up\n",
    "\n",
    "1. Strings\n",
    "2. Methods (especially string methods)"
   ]
  },
  {
   "cell_type": "markdown",
   "metadata": {},
   "source": [
    "# Strings\n",
    "\n",
    "Strings are where/how we store text in Python. Whether it's a single character or many gigabytes, strings are for text. Strings can contain any characters from all of Unicode (i.e., any language in the world). \n",
    "\n",
    "We create a string using quotes -- either `''` or `\"\"`, either one is fine, just be consistent in each string. "
   ]
  },
  {
   "cell_type": "code",
   "execution_count": 102,
   "metadata": {},
   "outputs": [
    {
     "data": {
      "text/plain": [
       "26"
      ]
     },
     "execution_count": 102,
     "metadata": {},
     "output_type": "execute_result"
    }
   ],
   "source": [
    "s = 'abcdefghijklmnopqrstuvwxyz'\n",
    "\n",
    "# I can find the length of the string with the len() function\n",
    "len(s) "
   ]
  },
  {
   "cell_type": "code",
   "execution_count": 103,
   "metadata": {},
   "outputs": [
    {
     "data": {
      "text/plain": [
       "'a'"
      ]
     },
     "execution_count": 103,
     "metadata": {},
     "output_type": "execute_result"
    }
   ],
   "source": [
    "# how can I retrieve characters from this string?\n",
    "# I can [] with an index, and the index starts with 0\n",
    "\n",
    "s[0] "
   ]
  },
  {
   "cell_type": "code",
   "execution_count": 104,
   "metadata": {},
   "outputs": [
    {
     "data": {
      "text/plain": [
       "'b'"
      ]
     },
     "execution_count": 104,
     "metadata": {},
     "output_type": "execute_result"
    }
   ],
   "source": [
    "s[1]"
   ]
  },
  {
   "cell_type": "code",
   "execution_count": 105,
   "metadata": {},
   "outputs": [
    {
     "data": {
      "text/plain": [
       "'f'"
      ]
     },
     "execution_count": 105,
     "metadata": {},
     "output_type": "execute_result"
    }
   ],
   "source": [
    "# I can use a variable, rather than a number\n",
    "i = 5\n",
    "\n",
    "s[i]"
   ]
  },
  {
   "cell_type": "code",
   "execution_count": 106,
   "metadata": {},
   "outputs": [
    {
     "data": {
      "text/plain": [
       "'z'"
      ]
     },
     "execution_count": 106,
     "metadata": {},
     "output_type": "execute_result"
    }
   ],
   "source": [
    "# since there are 26 letters\n",
    "# and the first letter is at index 0\n",
    "# the final letter (z) is at index 25\n",
    "\n",
    "s[25]"
   ]
  },
  {
   "cell_type": "code",
   "execution_count": 107,
   "metadata": {},
   "outputs": [
    {
     "data": {
      "text/plain": [
       "'z'"
      ]
     },
     "execution_count": 107,
     "metadata": {},
     "output_type": "execute_result"
    }
   ],
   "source": [
    "i = len(s) - 1   # the final element will always be at 1 before the length\n",
    "s[i]"
   ]
  },
  {
   "cell_type": "code",
   "execution_count": 108,
   "metadata": {},
   "outputs": [
    {
     "data": {
      "text/plain": [
       "'z'"
      ]
     },
     "execution_count": 108,
     "metadata": {},
     "output_type": "execute_result"
    }
   ],
   "source": [
    "# put it all inside of the square brackets!\n",
    "s[ len(s)-1 ]"
   ]
  },
  {
   "cell_type": "code",
   "execution_count": 109,
   "metadata": {},
   "outputs": [
    {
     "data": {
      "text/plain": [
       "'z'"
      ]
     },
     "execution_count": 109,
     "metadata": {},
     "output_type": "execute_result"
    }
   ],
   "source": [
    "# we can just use negative indexes\n",
    "s[-1]   # this is the same as s[len(s)-1]"
   ]
  },
  {
   "cell_type": "code",
   "execution_count": 110,
   "metadata": {},
   "outputs": [
    {
     "data": {
      "text/plain": [
       "'y'"
      ]
     },
     "execution_count": 110,
     "metadata": {},
     "output_type": "execute_result"
    }
   ],
   "source": [
    "s[-2]"
   ]
  },
  {
   "cell_type": "code",
   "execution_count": 111,
   "metadata": {},
   "outputs": [
    {
     "data": {
      "text/plain": [
       "'x'"
      ]
     },
     "execution_count": 111,
     "metadata": {},
     "output_type": "execute_result"
    }
   ],
   "source": [
    "s[-3]"
   ]
  },
  {
   "cell_type": "code",
   "execution_count": 112,
   "metadata": {},
   "outputs": [
    {
     "ename": "IndexError",
     "evalue": "string index out of range",
     "output_type": "error",
     "traceback": [
      "\u001b[0;31m---------------------------------------------------------------------------\u001b[0m",
      "\u001b[0;31mIndexError\u001b[0m                                Traceback (most recent call last)",
      "Cell \u001b[0;32mIn[112], line 1\u001b[0m\n\u001b[0;32m----> 1\u001b[0m \u001b[43ms\u001b[49m\u001b[43m[\u001b[49m\u001b[38;5;241;43m-\u001b[39;49m\u001b[38;5;241;43m100\u001b[39;49m\u001b[43m]\u001b[49m   \n",
      "\u001b[0;31mIndexError\u001b[0m: string index out of range"
     ]
    }
   ],
   "source": [
    "s[-100]   "
   ]
  },
  {
   "cell_type": "code",
   "execution_count": 113,
   "metadata": {},
   "outputs": [
    {
     "ename": "IndexError",
     "evalue": "string index out of range",
     "output_type": "error",
     "traceback": [
      "\u001b[0;31m---------------------------------------------------------------------------\u001b[0m",
      "\u001b[0;31mIndexError\u001b[0m                                Traceback (most recent call last)",
      "Cell \u001b[0;32mIn[113], line 1\u001b[0m\n\u001b[0;32m----> 1\u001b[0m \u001b[43ms\u001b[49m\u001b[43m[\u001b[49m\u001b[38;5;241;43m100\u001b[39;49m\u001b[43m]\u001b[49m\n",
      "\u001b[0;31mIndexError\u001b[0m: string index out of range"
     ]
    }
   ],
   "source": [
    "s[100]"
   ]
  },
  {
   "cell_type": "markdown",
   "metadata": {},
   "source": [
    "# Exercise: Retrieve a character\n",
    "\n",
    "1. Ask the user to enter a string, and assign to a variable.\n",
    "2. Ask the user to enter an integer, which we'll use as an index in the string.\n",
    "3. If the integer is < 0, scold the user for giving something too small\n",
    "4. If the integer is >= len(string), scold them for giving something too big\n",
    "5. Otherwise, print the character and its index\n",
    "\n",
    "Example:\n",
    "\n",
    "    Enter text: hello out there\n",
    "    Enter an index: 7\n",
    "    index 7 in hello out there is u"
   ]
  },
  {
   "cell_type": "code",
   "execution_count": 118,
   "metadata": {},
   "outputs": [
    {
     "name": "stdin",
     "output_type": "stream",
     "text": [
      "Enter text:  hello\n",
      "Enter index:  5\n"
     ]
    },
    {
     "name": "stdout",
     "output_type": "stream",
     "text": [
      "Too high\n"
     ]
    }
   ],
   "source": [
    "s = input('Enter text: ')\n",
    "i = input('Enter index: ')\n",
    "index = int(i)\n",
    "\n",
    "if index < 0:\n",
    "    print(f'Too low')\n",
    "elif index >= len(s):\n",
    "    print(f'Too high')\n",
    "else:\n",
    "    print(f'Index {index} in {s} is {s[index]}')"
   ]
  },
  {
   "cell_type": "code",
   "execution_count": null,
   "metadata": {},
   "outputs": [],
   "source": [
    "# JD \n",
    "string = input(\"Enter a String: \")\n",
    "integer = int(input(\"ENter a number: \"))\n",
    "\n",
    "if integer < 0:\n",
    "    print(\"please enter a bigger number\")\n",
    "elif integer >= len(string):\n",
    "    print(\"please give a smaller number\")\n",
    "else:\n",
    "    print(f'index {integer} in {string} is {string[integer]}')"
   ]
  },
  {
   "cell_type": "markdown",
   "metadata": {},
   "source": [
    "# Other string functionality\n",
    "\n",
    "1. We can retrieve more than one character with a \"slice\": `s[start:finish]` returns a subset of `s`, starting at index `start` and going up to and not including index `finish`. This is known as a \"slice.\" If we don't include either `start` or `finish`, we start from that end.\n",
    "2. We can search in a string to see if a character is there using the `in` operator, which returns `True` if the left side is in the right side."
   ]
  },
  {
   "cell_type": "code",
   "execution_count": 121,
   "metadata": {},
   "outputs": [
    {
     "data": {
      "text/plain": [
       "26"
      ]
     },
     "execution_count": 121,
     "metadata": {},
     "output_type": "execute_result"
    }
   ],
   "source": [
    "s = 'abcdefghijklmnopqrstuvwxyz'\n",
    "len(s)"
   ]
  },
  {
   "cell_type": "code",
   "execution_count": 122,
   "metadata": {},
   "outputs": [
    {
     "data": {
      "text/plain": [
       "'klmnopqrst'"
      ]
     },
     "execution_count": 122,
     "metadata": {},
     "output_type": "execute_result"
    }
   ],
   "source": [
    "s[10:20]   # from 10, until (not including) 20\n"
   ]
  },
  {
   "cell_type": "code",
   "execution_count": 123,
   "metadata": {},
   "outputs": [
    {
     "data": {
      "text/plain": [
       "'abcdefghijklmnopqrst'"
      ]
     },
     "execution_count": 123,
     "metadata": {},
     "output_type": "execute_result"
    }
   ],
   "source": [
    "s[:20]   # from the start, up to and not including index 20"
   ]
  },
  {
   "cell_type": "code",
   "execution_count": 124,
   "metadata": {},
   "outputs": [
    {
     "data": {
      "text/plain": [
       "'klmnopqrstuvwxyz'"
      ]
     },
     "execution_count": 124,
     "metadata": {},
     "output_type": "execute_result"
    }
   ],
   "source": [
    "s[10:]   # from index 10, through the end"
   ]
  },
  {
   "cell_type": "code",
   "execution_count": 125,
   "metadata": {},
   "outputs": [
    {
     "data": {
      "text/plain": [
       "True"
      ]
     },
     "execution_count": 125,
     "metadata": {},
     "output_type": "execute_result"
    }
   ],
   "source": [
    "# search in a string with \"in\"\n",
    "\n",
    "'b' in s"
   ]
  },
  {
   "cell_type": "code",
   "execution_count": 127,
   "metadata": {},
   "outputs": [
    {
     "data": {
      "text/plain": [
       "True"
      ]
     },
     "execution_count": 127,
     "metadata": {},
     "output_type": "execute_result"
    }
   ],
   "source": [
    "'tuv' in s"
   ]
  },
  {
   "cell_type": "markdown",
   "metadata": {},
   "source": [
    "# Strings are IMMUTABLE\n",
    "\n",
    "Once you create a string, its contents cannot be changed.\n",
    "\n"
   ]
  },
  {
   "cell_type": "code",
   "execution_count": 128,
   "metadata": {},
   "outputs": [
    {
     "ename": "TypeError",
     "evalue": "'str' object does not support item assignment",
     "output_type": "error",
     "traceback": [
      "\u001b[0;31m---------------------------------------------------------------------------\u001b[0m",
      "\u001b[0;31mTypeError\u001b[0m                                 Traceback (most recent call last)",
      "Cell \u001b[0;32mIn[128], line 1\u001b[0m\n\u001b[0;32m----> 1\u001b[0m \u001b[43ms\u001b[49m\u001b[43m[\u001b[49m\u001b[38;5;241;43m0\u001b[39;49m\u001b[43m]\u001b[49m \u001b[38;5;241m=\u001b[39m \u001b[38;5;124m'\u001b[39m\u001b[38;5;124m!\u001b[39m\u001b[38;5;124m'\u001b[39m\n",
      "\u001b[0;31mTypeError\u001b[0m: 'str' object does not support item assignment"
     ]
    }
   ],
   "source": [
    "s[0] = '!'"
   ]
  },
  {
   "cell_type": "markdown",
   "metadata": {},
   "source": [
    "# Exercise: Pig Latin\n",
    "\n",
    "To translate a word from English to Pig Latin, look at the first letter of the word:\n",
    "\n",
    "- If the first letter is a vowel (a, e, i, o, u), then add `way` to the end of the word.\n",
    "- Otherwise, move the first letter to the end, and add `ay`.\n",
    "\n",
    "Examples:\n",
    "- `computer` -> `omputercay`\n",
    "- `papaya` -> `apayapay`\n",
    "- `apple` -> `appleway`\n",
    "\n",
    "1. Ask the user to enter a word\n",
    "2. Translate the word into Pig Latin."
   ]
  },
  {
   "cell_type": "code",
   "execution_count": 130,
   "metadata": {},
   "outputs": [
    {
     "name": "stdin",
     "output_type": "stream",
     "text": [
      "Enter word:  computer\n"
     ]
    }
   ],
   "source": [
    "word = input('Enter word: ')\n",
    "\n",
    "if word[0] == 'a' or word[0] == 'e' or word[0] == 'i' or word[0] == 'o' or word[0] == 'u':\n",
    "    print(word + 'way')"
   ]
  },
  {
   "cell_type": "code",
   "execution_count": 133,
   "metadata": {},
   "outputs": [
    {
     "name": "stdin",
     "output_type": "stream",
     "text": [
      "Enter word:  elephant\n"
     ]
    },
    {
     "name": "stdout",
     "output_type": "stream",
     "text": [
      "elephantway\n"
     ]
    }
   ],
   "source": [
    "word = input('Enter word: ')\n",
    "\n",
    "if word[0] in 'aeiou':   # this is the standard/Pythonic way to do it\n",
    "    print(word + 'way')\n",
    "else:\n",
    "    print(word[1:] + word[0] + 'ay')  # move the first letter to the end"
   ]
  },
  {
   "cell_type": "code",
   "execution_count": null,
   "metadata": {},
   "outputs": [],
   "source": [
    "# SY\n",
    "\n",
    "str1 = input('Enter the word = ')\n",
    "\n",
    "if('a' in str1[0] or 'e' in str1[0] or 'i' in str1[0] or 'o' in str1[0] or 'u' in str1[0]):\n",
    "    print(f'{str1}way')\n",
    "else:\n",
    "    print(f'{str1[1:]}{str1[0]}ay')"
   ]
  },
  {
   "cell_type": "code",
   "execution_count": null,
   "metadata": {},
   "outputs": [],
   "source": [
    "# JD\n",
    "\n",
    "word = input(\"Enter a word: \")\n",
    "\n",
    "if word[0] in ['a','e','i','o','u'] or word[0] in ['A','E','I','O','U']:\n",
    "    #word = str(word) + \"way\"\n",
    "    print(f'{word}way')\n",
    "else:\n",
    "    print(word[1:] + word[0] + 'ay')"
   ]
  },
  {
   "cell_type": "code",
   "execution_count": null,
   "metadata": {},
   "outputs": [],
   "source": [
    "# P\n",
    "\n",
    "s= input(\"Entera word: \")\n",
    "a= 'a','e','i','o','u'\n",
    "if s[0] in a: \n",
    "    print(f'{s[1:]}way')\n",
    "else:\n",
    "    print(f'{s[1:]}{s[0]}ay')"
   ]
  },
  {
   "cell_type": "markdown",
   "metadata": {},
   "source": [
    "# Methods (vs. functions)\n",
    "\n",
    "We've seen that functions are the verbs in a programming language:\n",
    "\n",
    "- `input`\n",
    "- `print`\n",
    "- `len`\n",
    "\n",
    "But there is another kind of verb, called a \"method\", in Python. Methods are different from functions, in that they are attached to objects. We don't say\n",
    "\n",
    "   FUNC(DATA)\n",
    "\n",
    "instead, we say\n",
    "\n",
    "    DATA.METHOD(ARG1, ARG2)\n",
    "\n",
    "We need data to run it on!\n",
    "\n",
    "Example:\n",
    "\n",
    "    The method str.lower, which is invoked on a string, and returns a new string similar to the old but all lowercase"
   ]
  },
  {
   "cell_type": "code",
   "execution_count": 135,
   "metadata": {},
   "outputs": [
    {
     "data": {
      "text/plain": [
       "'abcdeabcde'"
      ]
     },
     "execution_count": 135,
     "metadata": {},
     "output_type": "execute_result"
    }
   ],
   "source": [
    "'abcdeABCDE'.lower()"
   ]
  },
  {
   "cell_type": "code",
   "execution_count": 137,
   "metadata": {},
   "outputs": [
    {
     "name": "stdin",
     "output_type": "stream",
     "text": [
      "Enter your name:                  Reuven          \n"
     ]
    },
    {
     "name": "stdout",
     "output_type": "stream",
     "text": [
      "Hello,                 Reuven          !\n"
     ]
    }
   ],
   "source": [
    "# let's get the user's name\n",
    "\n",
    "name = input('Enter your name: ')\n",
    "\n",
    "print(f'Hello, {name}!')"
   ]
  },
  {
   "cell_type": "code",
   "execution_count": 138,
   "metadata": {},
   "outputs": [
    {
     "name": "stdin",
     "output_type": "stream",
     "text": [
      "Enter your name:           Reuven      \n"
     ]
    },
    {
     "name": "stdout",
     "output_type": "stream",
     "text": [
      "Hello, Reuven!\n"
     ]
    }
   ],
   "source": [
    "\n",
    "name = input('Enter your name: ').strip()    # strip is a method that returns a string without leading/trailing whitespace\n",
    "\n",
    "print(f'Hello, {name}!')"
   ]
  },
  {
   "cell_type": "code",
   "execution_count": 139,
   "metadata": {},
   "outputs": [
    {
     "data": {
      "text/plain": [
       "'Reuven'"
      ]
     },
     "execution_count": 139,
     "metadata": {},
     "output_type": "execute_result"
    }
   ],
   "source": [
    "name"
   ]
  },
  {
   "cell_type": "code",
   "execution_count": null,
   "metadata": {},
   "outputs": [],
   "source": []
  }
 ],
 "metadata": {
  "kernelspec": {
   "display_name": "Python 3 (ipykernel)",
   "language": "python",
   "name": "python3"
  },
  "language_info": {
   "codemirror_mode": {
    "name": "ipython",
    "version": 3
   },
   "file_extension": ".py",
   "mimetype": "text/x-python",
   "name": "python",
   "nbconvert_exporter": "python",
   "pygments_lexer": "ipython3",
   "version": "3.12.1"
  }
 },
 "nbformat": 4,
 "nbformat_minor": 4
}
