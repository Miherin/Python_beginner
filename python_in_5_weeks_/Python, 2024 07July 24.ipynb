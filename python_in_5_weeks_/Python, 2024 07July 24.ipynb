{
 "cells": [
  {
   "cell_type": "markdown",
   "id": "c7754417-2ce3-4ce4-91d7-e114102acdbc",
   "metadata": {},
   "source": [
    "# Agenda, week 3\n",
    "\n",
    "0. Homework from last time + Q&A\n",
    "1. Dictionaries\n",
    "    - Creating dicts\n",
    "    - Retrieving from them\n",
    "    - Use cases (three paradigms for dict use)\n",
    "    - Iterating over them\n",
    "    - How are they implemented?\n",
    "2. Files (text files)\n",
    "    - Read from them\n",
    "    - Different ways to use them and work with them\n",
    "    - A little bit about writing to them, also"
   ]
  },
  {
   "cell_type": "markdown",
   "id": "fae39a79-b24a-4e6b-ad76-2a3fd35ca0be",
   "metadata": {},
   "source": [
    "# Homework!\n",
    "\n",
    "1. Implement vowels, digits, and others with three lists.\n",
    "2. The elements of each list will be the characters that you get from the user.\n",
    "3. Have the user enter text until they enter the empty string.\n",
    "4. When the user enters a non-empty string, the program should through it , one character at a time, and classify it as vowel/digit/other.\n",
    "5. The idea is that we'll have the three lists fill up with characters of the same type."
   ]
  },
  {
   "cell_type": "code",
   "execution_count": 3,
   "id": "bc098f59-ec50-4954-bbab-4403b539901e",
   "metadata": {},
   "outputs": [
    {
     "name": "stdin",
     "output_type": "stream",
     "text": [
      "Enter text:  \n"
     ]
    },
    {
     "name": "stdout",
     "output_type": "stream",
     "text": [
      "vowels = []\n",
      "digits = []\n",
      "others = []\n"
     ]
    }
   ],
   "source": [
    "vowels = []\n",
    "digits = []\n",
    "others = []\n",
    "\n",
    "while True:\n",
    "    s = input('Enter text: ').strip()\n",
    "\n",
    "    if s == '':\n",
    "        break\n",
    "    \n",
    "    for one_character in s:\n",
    "        if one_character.isdigit():\n",
    "            digits.append(one_character)\n",
    "        elif one_character in 'aeiou':\n",
    "            vowels.append(one_character)\n",
    "        else:\n",
    "            others.append(one_character)\n",
    "\n",
    "print(f'vowels = {vowels}')\n",
    "print(f'digits = {digits}')\n",
    "print(f'others = {others}')\n"
   ]
  },
  {
   "cell_type": "code",
   "execution_count": 4,
   "id": "7f9b1ef4-e017-450e-a807-7d4aa8b6e985",
   "metadata": {},
   "outputs": [
    {
     "name": "stdin",
     "output_type": "stream",
     "text": [
      "Enter some text:  \n"
     ]
    },
    {
     "name": "stdout",
     "output_type": "stream",
     "text": [
      "The vowels entered are: []\n",
      "\n",
      "The digits entered are: []\n",
      "\n",
      "The other characters entered are []\n",
      "\n"
     ]
    }
   ],
   "source": [
    "# BD\n",
    "vowels = []\n",
    "digits = []\n",
    "others = []\n",
    "\n",
    "userInput = input('Enter some text: ').strip()\n",
    "\n",
    "while userInput != '':\n",
    "  if userInput != '':\n",
    "    for item in userInput:\n",
    "      if item.isdigit():\n",
    "        digits += item\n",
    "      elif item in 'aeiou':\n",
    "        vowels += item\n",
    "      else: \n",
    "        others += item\n",
    "  userInput = input('Enter some text: ').strip()\n",
    "\n",
    "print(f'The vowels entered are: {vowels}\\n')\n",
    "print(f'The digits entered are: {digits}\\n')\n",
    "print(f'The other characters entered are {others}\\n')\n"
   ]
  },
  {
   "cell_type": "code",
   "execution_count": 6,
   "id": "de0307af-f70d-4c9a-b682-6f2489f90707",
   "metadata": {},
   "outputs": [
    {
     "name": "stdin",
     "output_type": "stream",
     "text": [
      "Enter some text:  asdfa\n",
      "Enter some text:  12341\n",
      "Enter some text:  '#$%@#\n",
      "Enter some text:  \n"
     ]
    },
    {
     "name": "stdout",
     "output_type": "stream",
     "text": [
      "The vowels entered are: ['a', 'a']\n",
      "\n",
      "The digits entered are: ['1', '2', '3', '4', '1']\n",
      "\n",
      "The other characters entered are ['s', 'd', 'f', \"'\", '#', '$', '%', '@', '#']\n",
      "\n"
     ]
    }
   ],
   "source": [
    "# walrus operator is the \"assignment expression\" operator, and allows you to both assign and get a value back\n",
    "# the operator is colon-equal, aka :=\n",
    "\n",
    "vowels = []\n",
    "digits = []\n",
    "others = []\n",
    "\n",
    "while userInput := input('Enter some text: ').strip():\n",
    "  if userInput != '':\n",
    "    for item in userInput:\n",
    "      if item.isdigit():\n",
    "        digits += item\n",
    "      elif item in 'aeiou':\n",
    "        vowels += item\n",
    "      else: \n",
    "        others += item\n",
    "\n",
    "print(f'The vowels entered are: {vowels}\\n')\n",
    "print(f'The digits entered are: {digits}\\n')\n",
    "print(f'The other characters entered are {others}\\n')\n"
   ]
  },
  {
   "cell_type": "markdown",
   "id": "a6196152-85c0-4acd-8847-c4d21599385d",
   "metadata": {},
   "source": [
    "# Dictionaries (aka dicts)\n",
    "\n",
    "Dicts aren't unique to Python. They exist in *many* other programming languages, but usually with a different name:\n",
    "\n",
    "- Hash tables\n",
    "- Hashes\n",
    "- Hash maps\n",
    "- Maps\n",
    "- Associative arrays\n",
    "- Key-value stores\n",
    "- Name-value stores\n",
    "\n",
    "The idea of a dict is that of a name-value store: We have *pairs* of values, not just individual values. Each pair has a key and a value:\n",
    "\n",
    "- Every key in a dict has a value.\n",
    "- Every value in a dict has a key.\n",
    "- The keys can be any immutable type, aka numbers or strings.\n",
    "- The keys cannot repeat themselves.\n",
    "- The values can be anything you want, without exception, in Python. (They can repeat, too.)\n",
    "\n",
    "In some ways, you can think of a dict as a list in which we get to determine the index as well as the value.\n",
    "\n",
    "It turns out that *many* problems lend themselves to two-column tables, like a dict.\n",
    "\n",
    "As much as *we* use dicts in Python, the language itself uses them a lot, as well.\n",
    "\n",
    "To define a dict:\n",
    "\n",
    "- Use `{}`\n",
    "- You enter each key-value pair as `key:value`.\n",
    "- Pairs are separated from one another with commas.\n",
    "\n",
    "Examples:\n",
    "- Empty dict is `{}`\n",
    "- A small dict is `{'a':10}`\n",
    "- A larger one is `{'first':'Reuven', 'last':'Lerner', 'email':'reuven@lerner.co.il'}`"
   ]
  },
  {
   "cell_type": "code",
   "execution_count": 7,
   "id": "5903884b-ab0c-4626-9680-742142272f82",
   "metadata": {},
   "outputs": [
    {
     "data": {
      "text/plain": [
       "3"
      ]
     },
     "execution_count": 7,
     "metadata": {},
     "output_type": "execute_result"
    }
   ],
   "source": [
    "# the length of a dict is the number of pairs\n",
    "\n",
    "d = {'a':10, 'b':20, 'c':30}\n",
    "\n",
    "len(d)"
   ]
  },
  {
   "cell_type": "code",
   "execution_count": 8,
   "id": "bd4a4924-fed2-4822-a7a5-84530c44cefe",
   "metadata": {},
   "outputs": [
    {
     "data": {
      "text/plain": [
       "10"
      ]
     },
     "execution_count": 8,
     "metadata": {},
     "output_type": "execute_result"
    }
   ],
   "source": [
    "# I can retrieve a value by putting its key in []\n",
    "d['a']"
   ]
  },
  {
   "cell_type": "code",
   "execution_count": 9,
   "id": "b8504c7d-675d-47a9-9c23-10157732fd27",
   "metadata": {},
   "outputs": [
    {
     "data": {
      "text/plain": [
       "20"
      ]
     },
     "execution_count": 9,
     "metadata": {},
     "output_type": "execute_result"
    }
   ],
   "source": [
    "d['b']"
   ]
  },
  {
   "cell_type": "code",
   "execution_count": 10,
   "id": "43bc5ba5-5e4f-49ea-b929-e5a03641e33c",
   "metadata": {},
   "outputs": [
    {
     "data": {
      "text/plain": [
       "30"
      ]
     },
     "execution_count": 10,
     "metadata": {},
     "output_type": "execute_result"
    }
   ],
   "source": [
    "d['c']"
   ]
  },
  {
   "cell_type": "code",
   "execution_count": 11,
   "id": "188fc01b-2ed5-44f9-8f95-953d42b16b0f",
   "metadata": {},
   "outputs": [
    {
     "ename": "KeyError",
     "evalue": "'q'",
     "output_type": "error",
     "traceback": [
      "\u001b[0;31m---------------------------------------------------------------------------\u001b[0m",
      "\u001b[0;31mKeyError\u001b[0m                                  Traceback (most recent call last)",
      "Cell \u001b[0;32mIn[11], line 1\u001b[0m\n\u001b[0;32m----> 1\u001b[0m \u001b[43md\u001b[49m\u001b[43m[\u001b[49m\u001b[38;5;124;43m'\u001b[39;49m\u001b[38;5;124;43mq\u001b[39;49m\u001b[38;5;124;43m'\u001b[39;49m\u001b[43m]\u001b[49m   \u001b[38;5;66;03m# this key doesn't exist\u001b[39;00m\n",
      "\u001b[0;31mKeyError\u001b[0m: 'q'"
     ]
    }
   ],
   "source": [
    "d['q']   # this key doesn't exist"
   ]
  },
  {
   "cell_type": "code",
   "execution_count": 12,
   "id": "8acaa1e5-b77d-4cb2-a2f9-757e63ddad2b",
   "metadata": {},
   "outputs": [
    {
     "data": {
      "text/plain": [
       "True"
      ]
     },
     "execution_count": 12,
     "metadata": {},
     "output_type": "execute_result"
    }
   ],
   "source": [
    "# to avoid problems, we can check first to see if a key is in the dict\n",
    "# to do this, we use the \"in\" operator\n",
    "# Note that \"in\" only checks on the dict keys, not the values!\n",
    "\n",
    "'a' in d"
   ]
  },
  {
   "cell_type": "code",
   "execution_count": 13,
   "id": "e537e728-69ed-4871-8931-58949eacae9f",
   "metadata": {},
   "outputs": [
    {
     "data": {
      "text/plain": [
       "False"
      ]
     },
     "execution_count": 13,
     "metadata": {},
     "output_type": "execute_result"
    }
   ],
   "source": [
    "'q' in d"
   ]
  },
  {
   "cell_type": "code",
   "execution_count": 14,
   "id": "4fa53806-2f5f-4d41-b293-4a41c3a0f720",
   "metadata": {},
   "outputs": [
    {
     "data": {
      "text/plain": [
       "False"
      ]
     },
     "execution_count": 14,
     "metadata": {},
     "output_type": "execute_result"
    }
   ],
   "source": [
    "10 in d"
   ]
  },
  {
   "cell_type": "markdown",
   "id": "6f652e3a-5a6a-4ff0-8426-1216c0949723",
   "metadata": {},
   "source": [
    "# Exercise: Restaurant\n",
    "\n",
    "1. Define a dict, `menu`, in which the keys are strings, items on a restaurant menu. The values are integers, the prices of those items on the menu.\n",
    "2. Set `total` to be 0.\n",
    "3. Ask the user, repeatedly, to order something from the menu. (You don't need to display it.)\n",
    "    - If the user enters an empty string, stop asking and print the total\n",
    "    - If the user enters something that is on the menu, then print the item, price, and new total.\n",
    "    - If the user enters something *NOT* on the menu, then scold them appropriately.\n",
    "4. Print the total.\n",
    "\n",
    "Example:\n",
    "\n",
    "    Order: sandwich\n",
    "    sandwich is 15, total is 15\n",
    "    Order: tea\n",
    "    tea is 8, total is 23\n",
    "    Order: elephant\n",
    "    we're out of elephant today, I'm afraid\n",
    "    Order: [ENTER]\n",
    "    total is 23"
   ]
  },
  {
   "cell_type": "code",
   "execution_count": 15,
   "id": "13629f5d-155d-4302-b7aa-b9950d44e849",
   "metadata": {},
   "outputs": [
    {
     "data": {
      "text/plain": [
       "15"
      ]
     },
     "execution_count": 15,
     "metadata": {},
     "output_type": "execute_result"
    }
   ],
   "source": [
    "menu = {'sandwich':15, 'tea':8, 'apple':3, 'cake':12}\n",
    "\n",
    "menu['sandwich']"
   ]
  },
  {
   "cell_type": "code",
   "execution_count": 16,
   "id": "93a9371f-27ae-40ef-83a7-4550cc91c99d",
   "metadata": {},
   "outputs": [
    {
     "data": {
      "text/plain": [
       "15"
      ]
     },
     "execution_count": 16,
     "metadata": {},
     "output_type": "execute_result"
    }
   ],
   "source": [
    "order = 'sandwich'\n",
    "menu[order]"
   ]
  },
  {
   "cell_type": "code",
   "execution_count": 17,
   "id": "a5d3ff29-644f-44c3-85c1-bf8283e8644a",
   "metadata": {},
   "outputs": [
    {
     "name": "stdin",
     "output_type": "stream",
     "text": [
      "Order:  sandwich\n"
     ]
    },
    {
     "name": "stdout",
     "output_type": "stream",
     "text": [
      "sandwich is 15; total is now 15\n"
     ]
    },
    {
     "name": "stdin",
     "output_type": "stream",
     "text": [
      "Order:  tea\n"
     ]
    },
    {
     "name": "stdout",
     "output_type": "stream",
     "text": [
      "tea is 8; total is now 23\n"
     ]
    },
    {
     "name": "stdin",
     "output_type": "stream",
     "text": [
      "Order:  cherry pie\n"
     ]
    },
    {
     "name": "stdout",
     "output_type": "stream",
     "text": [
      "Sorry, we are out of cherry pie today!\n"
     ]
    },
    {
     "name": "stdin",
     "output_type": "stream",
     "text": [
      "Order:  apple\n"
     ]
    },
    {
     "name": "stdout",
     "output_type": "stream",
     "text": [
      "apple is 3; total is now 26\n"
     ]
    },
    {
     "name": "stdin",
     "output_type": "stream",
     "text": [
      "Order:  \n"
     ]
    },
    {
     "name": "stdout",
     "output_type": "stream",
     "text": [
      "Total is 26\n"
     ]
    }
   ],
   "source": [
    "menu = {'sandwich':15, 'tea':8, 'apple':3, 'cake':12}\n",
    "total = 0\n",
    "\n",
    "while True:\n",
    "    s = input('Order: ').strip()\n",
    "\n",
    "    if s == '':\n",
    "        break     # got an empty string? exit the loop!\n",
    "\n",
    "    # is the person's requested order a key in the menu? Check with \"in\"\n",
    "    if s in menu:\n",
    "        price = menu[s]   # get the price\n",
    "        total += price\n",
    "        print(f'{s} is {price}; total is now {total}')\n",
    "    else:\n",
    "        print(f'Sorry, we are out of {s} today!')\n",
    "\n",
    "print(f'Total is {total}')"
   ]
  },
  {
   "cell_type": "code",
   "execution_count": 20,
   "id": "6fc6f468-5dd7-4c56-b898-742f42322d22",
   "metadata": {},
   "outputs": [
    {
     "name": "stdin",
     "output_type": "stream",
     "text": [
      "Menu: sandwich and tea, which would you like:  sandwich\n",
      "Menu: sandwich and tea, which would you like:  apple\n",
      "Menu: sandwich and tea, which would you like:  nothing\n",
      "Menu: sandwich and tea, which would you like:  \n"
     ]
    }
   ],
   "source": [
    "# MM\n",
    "\n",
    "menu = {\n",
    "    \"sandwich\": 15,\n",
    "    \"tea\": 8,\n",
    "    \"apple\": 3\n",
    "}\n",
    "user_order = []\n",
    "\n",
    "while True:\n",
    "    user_input = input(\"Menu: sandwich and tea, which would you like: \")\n",
    "    if user_input == '':\n",
    "        break\n",
    "    if user_input in menu:   # this means that user_input is a key in the menu dict\n",
    "        user_order.append(menu[user_input])   # use the key to retrieve the value (i.e., the price)\n",
    "    if user_input == 'finish':\n",
    "        print(f\"The total is {user_order}\")\n",
    "       "
   ]
  },
  {
   "cell_type": "code",
   "execution_count": 21,
   "id": "6c883988-d289-49b1-b126-235de4398bba",
   "metadata": {},
   "outputs": [
    {
     "data": {
      "text/plain": [
       "[15, 3]"
      ]
     },
     "execution_count": 21,
     "metadata": {},
     "output_type": "execute_result"
    }
   ],
   "source": [
    "user_order"
   ]
  },
  {
   "cell_type": "code",
   "execution_count": 22,
   "id": "021fbcf7-6167-4252-9422-ece9cb23de03",
   "metadata": {},
   "outputs": [
    {
     "data": {
      "text/plain": [
       "18"
      ]
     },
     "execution_count": 22,
     "metadata": {},
     "output_type": "execute_result"
    }
   ],
   "source": [
    "# how can I sum those up?\n",
    "# (1) for loop\n",
    "total = 0\n",
    "\n",
    "for one_price in user_order:\n",
    "    total += one_price\n",
    "\n",
    "total"
   ]
  },
  {
   "cell_type": "code",
   "execution_count": 23,
   "id": "ffc01ca8-317b-40f7-9914-f594169511f7",
   "metadata": {},
   "outputs": [
    {
     "data": {
      "text/plain": [
       "18"
      ]
     },
     "execution_count": 23,
     "metadata": {},
     "output_type": "execute_result"
    }
   ],
   "source": [
    "# option (2) Use the builtin \"sum\" function in Python\n",
    "\n",
    "sum(user_order)"
   ]
  },
  {
   "cell_type": "markdown",
   "id": "716ea8c0-3922-4f8d-8e31-f8b47f2a6e72",
   "metadata": {},
   "source": [
    "# Mutable or immutable?\n",
    "\n",
    "We've talked a lot about what data types in Python are mutable vs. those that are immutable:\n",
    "\n",
    "- Immutable (we cannot change the value once it's created): Numbers, strings, tuples\n",
    "- Mutable (we *can* change the value after it's created): Lists\n",
    "\n",
    "Dictionaries are mutable! We can add to them, remove from them, and update them."
   ]
  },
  {
   "cell_type": "code",
   "execution_count": 24,
   "id": "30ba735a-ad6b-4922-be27-c2e42a847a7d",
   "metadata": {},
   "outputs": [
    {
     "data": {
      "text/plain": [
       "{'a': 999, 'b': 20, 'c': 30}"
      ]
     },
     "execution_count": 24,
     "metadata": {},
     "output_type": "execute_result"
    }
   ],
   "source": [
    "d = {'a':10, 'b':20, 'c':30}\n",
    "\n",
    "# to update an existing value, just assign to the key\n",
    "d['a'] = 999\n",
    "\n",
    "d"
   ]
  },
  {
   "cell_type": "code",
   "execution_count": 25,
   "id": "28acdb66-bb16-4057-a310-74ef2e012518",
   "metadata": {},
   "outputs": [
    {
     "data": {
      "text/plain": [
       "{'a': 999, 'b': 20, 'c': 30, 'x': 888}"
      ]
     },
     "execution_count": 25,
     "metadata": {},
     "output_type": "execute_result"
    }
   ],
   "source": [
    "# how can we add a new key-value pair to our dict?\n",
    "# in a list, we use the \"append\" method\n",
    "# but in a dict, we use... assignment, JUST LIKE UPDATING A VALUE\n",
    "\n",
    "d['x'] = 888\n",
    "d"
   ]
  },
  {
   "cell_type": "code",
   "execution_count": 26,
   "id": "cdb1d06a-687c-4e79-9da8-31a287a33b29",
   "metadata": {},
   "outputs": [
    {
     "data": {
      "text/plain": [
       "{'yes': 11, 'no': 5}"
      ]
     },
     "execution_count": 26,
     "metadata": {},
     "output_type": "execute_result"
    }
   ],
   "source": [
    "votes = {'yes':0, 'no':0}\n",
    "\n",
    "votes['yes'] += 1\n",
    "votes['no'] += 5\n",
    "votes['yes'] += 10\n",
    "\n",
    "votes"
   ]
  },
  {
   "cell_type": "code",
   "execution_count": 27,
   "id": "355573a0-9144-4a68-ba0d-d37e9a6f79b1",
   "metadata": {},
   "outputs": [
    {
     "data": {
      "text/plain": [
       "{'a': 999, 'b': 20, 'c': 30, 'x': 888}"
      ]
     },
     "execution_count": 27,
     "metadata": {},
     "output_type": "execute_result"
    }
   ],
   "source": [
    "# what about removing items from a dict?\n",
    "# we can use the \"pop\" method, which takes a key as an argument\n",
    "# the key-value pair is removed, and the value is returned\n",
    "\n",
    "d"
   ]
  },
  {
   "cell_type": "code",
   "execution_count": 28,
   "id": "2db0c41e-3c66-4d29-a37a-1f970c9ba625",
   "metadata": {},
   "outputs": [
    {
     "data": {
      "text/plain": [
       "888"
      ]
     },
     "execution_count": 28,
     "metadata": {},
     "output_type": "execute_result"
    }
   ],
   "source": [
    "d.pop('x')"
   ]
  },
  {
   "cell_type": "code",
   "execution_count": 29,
   "id": "2cbb49a9-e9b3-474a-b730-6b90c17a1c07",
   "metadata": {},
   "outputs": [
    {
     "data": {
      "text/plain": [
       "{'a': 999, 'b': 20, 'c': 30}"
      ]
     },
     "execution_count": 29,
     "metadata": {},
     "output_type": "execute_result"
    }
   ],
   "source": [
    "d"
   ]
  },
  {
   "cell_type": "code",
   "execution_count": 30,
   "id": "fafb7f9c-b95e-4a03-aad5-89eea31fd322",
   "metadata": {},
   "outputs": [
    {
     "name": "stdin",
     "output_type": "stream",
     "text": [
      "Enter a key:  a\n"
     ]
    },
    {
     "name": "stdout",
     "output_type": "stream",
     "text": [
      "10\n"
     ]
    },
    {
     "name": "stdin",
     "output_type": "stream",
     "text": [
      "Enter a key:  abcd\n"
     ]
    },
    {
     "name": "stdout",
     "output_type": "stream",
     "text": [
      "abcd is not a key in d\n"
     ]
    },
    {
     "name": "stdin",
     "output_type": "stream",
     "text": [
      "Enter a key:  \n"
     ]
    }
   ],
   "source": [
    "d = {'a':10, 'b':20, 'c':30}\n",
    "\n",
    "while True:\n",
    "    k = input('Enter a key: ').strip()\n",
    "\n",
    "    if k == '':\n",
    "        break\n",
    "\n",
    "    if k in d:  # if k is a key in d, then print the value\n",
    "        print(d[k])\n",
    "    else:\n",
    "        print(f'{k} is not a key in d')"
   ]
  },
  {
   "cell_type": "markdown",
   "id": "fd392d96-a45c-40bf-afab-b623ccc05d3c",
   "metadata": {},
   "source": [
    "# Accumulating in dicts\n",
    "\n",
    "One of the main paradigms we can use with dicts is to accumulate with them. That is: We don't add or remove keys, but we do update the values based on what we see.  We'll basically use our dict to keep a number of different tallies.\n",
    "\n"
   ]
  },
  {
   "cell_type": "code",
   "execution_count": 31,
   "id": "63887153-d661-43d9-b6f8-95c81e1dce75",
   "metadata": {},
   "outputs": [
    {
     "name": "stdin",
     "output_type": "stream",
     "text": [
      "Enter a number:  10\n",
      "Enter a number:  15\n",
      "Enter a number:  17\n",
      "Enter a number:  21\n",
      "Enter a number:  20\n",
      "Enter a number:  \n"
     ]
    },
    {
     "name": "stdout",
     "output_type": "stream",
     "text": [
      "{'evens': 2, 'odds': 3}\n"
     ]
    }
   ],
   "source": [
    "counts = {'evens':0, 'odds':0}\n",
    "\n",
    "# I'll ask the user to enter a number\n",
    "# each time I get a number, I\"ll check if it's odd or even\n",
    "# then I'll update the appropriate counter\n",
    "\n",
    "while True:\n",
    "    s = input('Enter a number: ').strip()\n",
    "\n",
    "    if s == '':\n",
    "        break\n",
    "\n",
    "    if not s.isdigit():\n",
    "        print(f'{s} is not numeric; try again!')\n",
    "        continue\n",
    "\n",
    "    n = int(s)\n",
    "\n",
    "    if n % 2 == 1:\n",
    "        counts['odds'] += 1\n",
    "    else:\n",
    "        counts['evens'] += 1\n",
    "\n",
    "print(counts)"
   ]
  },
  {
   "cell_type": "markdown",
   "id": "1f66f44a-eeef-4823-b229-d81d4139c45f",
   "metadata": {},
   "source": [
    "# Exercise: Vowels, digits, and others (dict edition)\n",
    "\n",
    "1. Ask the user, repeatedly, to enter a string.\n",
    "2. Stop asking when you get the empty string.\n",
    "3. You'll accumulate (counts) in a dict which has three keys: `vowels`, `digits`, and `others`, all starting with a value of 0.\n",
    "4. When you get the user's empty string, print the dict.\n",
    "\n",
    "Example:\n",
    "\n",
    "    Enter text: hello!\n",
    "    Enter text: 123\n",
    "    Enter text: huh?\n",
    "    Enter text: [ENTER]\n",
    "\n",
    "    {'vowels': 3,\n",
    "     'digits': 3,\n",
    "     'others': 7}\n"
   ]
  },
  {
   "cell_type": "code",
   "execution_count": 32,
   "id": "75950402-e21f-437e-b114-13b4b90728db",
   "metadata": {},
   "outputs": [
    {
     "name": "stdin",
     "output_type": "stream",
     "text": [
      "Enter text:  hello???\n",
      "Enter text:  12345\n",
      "Enter text:  goodbye!\n",
      "Enter text:  \n"
     ]
    },
    {
     "name": "stdout",
     "output_type": "stream",
     "text": [
      "{'vowels': 5, 'digits': 5, 'others': 11}\n"
     ]
    }
   ],
   "source": [
    "counts = {'vowels':0, \n",
    "          'digits':0,\n",
    "          'others':0}\n",
    "\n",
    "while True:\n",
    "    s = input('Enter text: ').strip()\n",
    "\n",
    "    if s == '':\n",
    "        break\n",
    "\n",
    "    for one_character in s:\n",
    "        if one_character in 'aeiou':\n",
    "            counts['vowels'] += 1\n",
    "        elif one_character.isdigit():\n",
    "            counts['digits'] += 1\n",
    "        else:\n",
    "            counts['others'] += 1\n",
    "\n",
    "print(counts)\n"
   ]
  },
  {
   "cell_type": "markdown",
   "id": "a72367fa-fa21-42dd-bcb6-62df8f4cfd68",
   "metadata": {},
   "source": [
    "# Next up: \n",
    "\n",
    "- Accumulating the unknown with dicts\n",
    "- Looping over dicts\n",
    "- How dicts work\n",
    "- Additional dict methods\n",
    "\n"
   ]
  },
  {
   "cell_type": "code",
   "execution_count": 36,
   "id": "6c99f538-a993-4e92-8875-f31483eadaf2",
   "metadata": {},
   "outputs": [
    {
     "name": "stdin",
     "output_type": "stream",
     "text": [
      "Enter digits:  12c232b342a345\n"
     ]
    },
    {
     "name": "stdout",
     "output_type": "stream",
     "text": [
      "Ignoring c\n",
      "Ignoring b\n",
      "Ignoring a\n",
      "{'1': 1, '2': 4, '3': 3, '4': 2, '5': 1}\n"
     ]
    }
   ],
   "source": [
    "# I want to know how often each digit appears in the user's input.\n",
    "\n",
    "counts = {}   # empty dict!\n",
    "\n",
    "s = input('Enter digits: ').strip()\n",
    "\n",
    "for one_digit in s:\n",
    "    if not one_digit.isdigit():\n",
    "        print(f'Ignoring {one_digit}')\n",
    "        continue\n",
    "    if one_digit in counts:      # have we seen this digit before? If so, then add 1 to its count\n",
    "        counts[one_digit] += 1   \n",
    "    else:                        # first time encountering this digit?\n",
    "        counts[one_digit] = 1        # add the key-value pair with a count of 1\n",
    "\n",
    "print(counts)"
   ]
  },
  {
   "cell_type": "code",
   "execution_count": 35,
   "id": "78d8b4cf-bdb8-4a41-9b2f-c086164529a2",
   "metadata": {},
   "outputs": [
    {
     "name": "stdin",
     "output_type": "stream",
     "text": [
      "Enter text:  this is a truly amazing program that everyone in the world should purchase\n"
     ]
    },
    {
     "name": "stdout",
     "output_type": "stream",
     "text": [
      "{'t': 5, 'h': 5, 'i': 4, 's': 4, ' ': 12, 'a': 6, 'r': 6, 'u': 3, 'l': 3, 'y': 2, 'm': 2, 'z': 1, 'n': 3, 'g': 2, 'p': 2, 'o': 4, 'e': 5, 'v': 1, 'w': 1, 'd': 2, 'c': 1}\n"
     ]
    }
   ],
   "source": [
    "\n",
    "counts = {}   # empty dict!\n",
    "\n",
    "s = input('Enter text: ').strip()\n",
    "\n",
    "for one_character in s:\n",
    "    if one_character in counts:      # have we seen this digit before? If so, then add 1 to its count\n",
    "        counts[one_character] += 1   \n",
    "    else:                        # first time encountering this digit?\n",
    "        counts[one_character] = 1        # add the key-value pair with a count of 1\n",
    "\n",
    "print(counts)"
   ]
  },
  {
   "cell_type": "markdown",
   "id": "51cdb630-92f4-4ba4-8e33-d66cd9891dd7",
   "metadata": {},
   "source": [
    "# Exercise: Rainfall\n",
    "\n",
    "You are to populate and update a dict keeping track of cities (strings, the keys) and rainfall amounts (integers, the values -- in mm of rain).\n",
    "\n",
    "- Ask the user to enter a city name.\n",
    "- If you get an empty string, stop asking and print the dict.\n",
    "- If the city name is *not* blank, ask the user a second question, the number of mm of rain that fell.\n",
    "- If this is the first time you're encountering the city, add the key-value pair to the dict\n",
    "- If you have seen this city before, then add the new mm rain to the existing value.\n",
    "- After the user enters [ENTER], print the entire dict.\n",
    "\n",
    "Example:\n",
    "\n",
    "    City: a\n",
    "    Rainfall: 5\n",
    "    City: b\n",
    "    Rainfall: 4\n",
    "    City: a\n",
    "    Rainfall: 3\n",
    "    City: [ENTER]\n",
    "    {'a':8, 'b':4}"
   ]
  },
  {
   "cell_type": "code",
   "execution_count": 39,
   "id": "5cafd7c0-98ea-431f-a845-99e3c7b12396",
   "metadata": {},
   "outputs": [
    {
     "name": "stdin",
     "output_type": "stream",
     "text": [
      "City:  a\n",
      "Rainfall:  5\n",
      "City:  b\n",
      "Rainfall:  4\n",
      "City:  a\n",
      "Rainfall:  3\n",
      "City:  b\n",
      "Rainfall:  2\n",
      "City:  \n"
     ]
    },
    {
     "name": "stdout",
     "output_type": "stream",
     "text": [
      "{'a': 8, 'b': 6}\n"
     ]
    }
   ],
   "source": [
    "rainfall = {}\n",
    "\n",
    "while True:\n",
    "    city_name = input('City: ').strip()\n",
    "\n",
    "    if city_name == '':\n",
    "        break\n",
    "\n",
    "    mm_rain = input('Rainfall: ').strip()\n",
    "\n",
    "    # assume we got digits\n",
    "    mm_rain = int(mm_rain)\n",
    "\n",
    "    if city_name in rainfall:    # have we seen this city before?\n",
    "        rainfall[city_name] += mm_rain   # add to its value\n",
    "    else:\n",
    "        rainfall[city_name] = mm_rain    # initialize the pair\n",
    "\n",
    "print(rainfall)"
   ]
  },
  {
   "cell_type": "code",
   "execution_count": 41,
   "id": "e82b1d7b-0d6e-429e-89cf-edd8fe07c4dc",
   "metadata": {},
   "outputs": [
    {
     "name": "stdout",
     "output_type": "stream",
     "text": [
      "a\n",
      "b\n",
      "c\n"
     ]
    }
   ],
   "source": [
    "# what if we iterate over a dict?\n",
    "\n",
    "d = {'a':10, 'b':20, 'c':30}\n",
    "\n",
    "for one_item in d:     # iterating over a dict gives us the keys\n",
    "    print(one_item)"
   ]
  },
  {
   "cell_type": "code",
   "execution_count": 42,
   "id": "35dad299-29aa-4bdf-8755-f33e13997854",
   "metadata": {},
   "outputs": [
    {
     "name": "stdout",
     "output_type": "stream",
     "text": [
      "a: 10\n",
      "b: 20\n",
      "c: 30\n"
     ]
    }
   ],
   "source": [
    "# we can print both keys and values\n",
    "\n",
    "for one_key in d:\n",
    "    print(f'{one_key}: {d[one_key]}')"
   ]
  },
  {
   "cell_type": "code",
   "execution_count": 43,
   "id": "b81f9098-c84f-4a5c-a4e1-f5c693ece260",
   "metadata": {},
   "outputs": [
    {
     "name": "stdout",
     "output_type": "stream",
     "text": [
      "a: 10\n",
      "b: 20\n",
      "c: 30\n"
     ]
    }
   ],
   "source": [
    "# I actually like to do it a different way\n",
    "# I prefer to use the dict.items method, which returns a (key, value) 2-element tuple with each iteration\n",
    "\n",
    "for t in d.items():\n",
    "    key, value = t   # use unpacking to grab the key and value\n",
    "    print(f'{key}: {value}')"
   ]
  },
  {
   "cell_type": "code",
   "execution_count": 44,
   "id": "5bb4498e-b81b-4121-abd7-d18695c6444b",
   "metadata": {},
   "outputs": [
    {
     "name": "stdout",
     "output_type": "stream",
     "text": [
      "a: 10\n",
      "b: 20\n",
      "c: 30\n"
     ]
    }
   ],
   "source": [
    "# we can do even better than this!\n",
    "# we can unpack in the first line of hte \"for\" loop\n",
    "\n",
    "for key, value in d.items():  \n",
    "    print(f'{key}: {value}')"
   ]
  },
  {
   "cell_type": "markdown",
   "id": "070c88fe-fc17-4179-968a-cf4eaad5372c",
   "metadata": {},
   "source": [
    "# Exercise: Family ages\n",
    "\n",
    "1. Start with an empty dict, `people`.\n",
    "2. We're going to populate it with names and ages:\n",
    "    - Ask the user to enter a name + age, separated by a space. (Assume that there aren't spaces in the names.)\n",
    "    - If the user enters an empty string, then stop asking.\n",
    "3. Break apart the name and age\n",
    "4. Add the name-age pair to the dict.\n",
    "5. When the user enters an empty string, print the dict *and* iterate over the dict, printing names and ages.\n",
    "\n",
    "Example:\n",
    "\n",
    "    Enter name and age: Reuven 54\n",
    "    Enter name and age: Atara 23\n",
    "    Enter name and age: Shikma 21\n",
    "    Enter name and age: [ENTER]\n",
    "\n",
    "    {'Reuven': 54, 'Atara':23, 'Shikma':21}\n",
    "\n",
    "    Reuven 54\n",
    "    Atara 23\n",
    "    Shikma 21\n",
    "    "
   ]
  },
  {
   "cell_type": "code",
   "execution_count": 46,
   "id": "a9359601-801f-409b-80dc-046c3f2c43a1",
   "metadata": {},
   "outputs": [
    {
     "name": "stdin",
     "output_type": "stream",
     "text": [
      "Enter name and age:  a 50\n",
      "Enter name and age:  b 40\n",
      "Enter name and age:  c 25\n",
      "Enter name and age:  d 35\n",
      "Enter name and age:  \n"
     ]
    },
    {
     "name": "stdout",
     "output_type": "stream",
     "text": [
      "{'a': 50, 'b': 40, 'c': 25, 'd': 35}\n",
      "a: 50\n",
      "b: 40\n",
      "c: 25\n",
      "d: 35\n"
     ]
    }
   ],
   "source": [
    "people = {}\n",
    "\n",
    "while True:\n",
    "    s = input('Enter name and age: ').strip()\n",
    "\n",
    "    if s == '':\n",
    "        break\n",
    "\n",
    "    # assume that there is only one space\n",
    "    name, age = s.split()\n",
    "\n",
    "    people[name] = int(age)    # again, assume that we only got digits here\n",
    "\n",
    "# print the whole dict\n",
    "print(people)\n",
    "\n",
    "# print key-value pairs, one at a time\n",
    "for key, value in people.items():\n",
    "    print(f'{key}: {value}')"
   ]
  },
  {
   "cell_type": "markdown",
   "id": "258ef13f-12cb-49e2-8a83-9ca66bfbed58",
   "metadata": {},
   "source": [
    "# How do dicts work?\n",
    "\n",
    "Searching for a value in a list can take a long time. The longer the list, the more time it can take.\n",
    "\n",
    "But not with dicts! Searching for a key in a dict takes the same amount of time, no matter how big (or small) the dict is.\n",
    "\n",
    "That's thanks to a special function called `hash`. A hash function returns a number based on its input. Every time it gets the same input, it returns the same number. But you can't easily predict what that number will be.\n",
    "\n",
    "When Python wants to store a key-value pair, it runs `hash(key)`. The number it gets back tells Python where to store the key-value pair. \n",
    "\n",
    "Then, when we ask to retrieve (or find) the key, Python runs `hash(key)`, jumps to that location in memory, and retrieves it -- or figures out that it isn't there and tells us so."
   ]
  },
  {
   "cell_type": "code",
   "execution_count": 47,
   "id": "977fc506-36f9-4660-9295-dd11515781fd",
   "metadata": {},
   "outputs": [
    {
     "data": {
      "text/plain": [
       "3546203532104433535"
      ]
     },
     "execution_count": 47,
     "metadata": {},
     "output_type": "execute_result"
    }
   ],
   "source": [
    "hash('a')"
   ]
  },
  {
   "cell_type": "code",
   "execution_count": 48,
   "id": "ecd695a2-580d-4fa8-9ac8-762403a4f9b3",
   "metadata": {},
   "outputs": [
    {
     "data": {
      "text/plain": [
       "7709606094361829015"
      ]
     },
     "execution_count": 48,
     "metadata": {},
     "output_type": "execute_result"
    }
   ],
   "source": [
    "hash('b')"
   ]
  },
  {
   "cell_type": "code",
   "execution_count": 49,
   "id": "97f4c449-6f1b-4d3d-83b9-9ae2ceda3712",
   "metadata": {},
   "outputs": [
    {
     "data": {
      "text/plain": [
       "True"
      ]
     },
     "execution_count": 49,
     "metadata": {},
     "output_type": "execute_result"
    }
   ],
   "source": [
    "# when I want to know \n",
    "\n",
    "'a' in d"
   ]
  },
  {
   "cell_type": "code",
   "execution_count": 50,
   "id": "e4c895f6-7cb1-45df-8fec-76f0d5f981f1",
   "metadata": {},
   "outputs": [],
   "source": [
    "# Python checks is the memory location at hash('a') populated with 'a'?"
   ]
  },
  {
   "cell_type": "markdown",
   "id": "6d1c5901-d5fd-4b5b-bee5-d2ebed8e1888",
   "metadata": {},
   "source": [
    "# Next up: Files!\n",
    "\n",
    "If you want to play along at home / do exercises, download the following zipfile with a few text files we'll use in the exercises: https://files.lerner.co.il/exercise-files.zip"
   ]
  },
  {
   "cell_type": "markdown",
   "id": "cfa33c61-381e-4174-9e50-3bd38a8926b2",
   "metadata": {},
   "source": [
    "# Files\n",
    "\n",
    "We all use files on our computers. There are many different types of files. You can think of a file as a data structure (list, tuple, dict, or some combination of them) written in a way that when we next need them, they can be loaded from disk into those data structures.\n",
    "\n",
    "Just as each data structure is a bit different, every file is a bit different. This is especially true for commercial applications, which use binary file formats.  \n",
    "\n",
    "We're going to be talking about text files, which are far easier to work with. Python can handle binary files, but it's far more complicated.\n",
    "\n",
    "If we want to read from a (text) file, how can we do it? Can we just ask the disk to give us the file?\n",
    "\n",
    "NO.  On modern computers, a program asks the OS for a file, and the OS asks the disk on our behalf. What we do is \"open\" a file, meaning that we ask the OS to open it on our behalf and then to give us an \"agent\" we can use to work with the file. Via that \"agent,\" we can read from the file, write to it, etc. When we don't need to do any more, we can \"close\" the file and lose the agent.\n",
    "\n",
    "On many systems, the agent is known as a \"file handle.\" But in Python, we call them... file objects.\n",
    "\n",
    "- To get a file object based on a filename, we can use the `open` function, passing the filename (a string) as an argument\n",
    "- The object we get back lets us work with the file and the OS"
   ]
  },
  {
   "cell_type": "code",
   "execution_count": 52,
   "id": "12945087-8df1-4c98-b1fe-a2a0822a32e1",
   "metadata": {},
   "outputs": [
    {
     "name": "stdout",
     "output_type": "stream",
     "text": [
      "8542\n"
     ]
    }
   ],
   "source": [
    "# I'm on a Mac (which runs Unix)\n",
    "# Unix machines all have a file called /etc/passwd\n",
    "# Unix machines' disks are arranged under a \"root\" directory called / and then each level is another /\n",
    "# if you're on Windows, you are using \\ to separate levels. Moreover, you don't have /etc/passwd\n",
    "\n",
    "f = open('/etc/passwd')   # open the file, i.e., ask the OS to communicate with the disk on my behalf\n",
    "s = f.read()              # return a string with the entire file's contents\n",
    "print(len(s))             # how long is this file?"
   ]
  },
  {
   "cell_type": "code",
   "execution_count": 54,
   "id": "bebb5e2f-5713-42c7-92d2-8be6d4db5c93",
   "metadata": {},
   "outputs": [
    {
     "name": "stdout",
     "output_type": "stream",
     "text": [
      "##\n",
      "# User Database\n",
      "#\n",
      "# Note that this file is consulted directly only when the system is running\n",
      "# in single-user mode.  At other times this information is provided by\n",
      "# Open Directory.\n",
      "#\n",
      "# See the opendirectoryd(8) man page for additional information about\n",
      "# Open Directory.\n",
      "##\n",
      "nobody:*:-2:-2:Unprivileged User:/var/empty:/usr/bin/false\n",
      "root:*:0:0:System Administrator:/var/root:/bin/sh\n",
      "daemon:*:1:1:System Services:/var/root:/usr/bin/false\n",
      "_uucp:*:4:4:Unix to Unix Copy Protocol:/var/spool/uucp:/usr/sbin/uucico\n",
      "_taskgated:*:13:13:Task Gate Daemon:/var/empty:/usr/bin/false\n",
      "_networkd:*:24:24:Network Services:/var/networkd:/usr/bin/false\n",
      "_installassistant:*:25:25:Install Assistant:/var/empty:/usr/bin/false\n",
      "_lp:*:26:26:Printing Services:/var/spool/cups:/usr/bin/false\n",
      "_postfix:*:27:27:Postfix Mail Server:/var/spool/postfix:/usr/bin/false\n",
      "_scsd:*:31:31:Service Configuration Service:/var/empty:/usr/bin/false\n",
      "_ces:*:32:32:Certificate Enrollment Service:/var/empty:/usr/bin/false\n",
      "_appstore:*:33:33:Mac App Store Service:/var/db/appstore:/usr/bin/false\n",
      "_mcxalr:*:54:54:MCX AppLaunch:/var/empty:/usr/bin/false\n",
      "_appleevents:*:55:55:AppleEvents Daemon:/var/empty:/usr/bin/false\n",
      "_geod:*:56:56:Geo Services Daemon:/var/db/geod:/usr/bin/false\n",
      "_devdocs:*:59:59:Developer Documentation:/var/empty:/usr/bin/false\n",
      "_sandbox:*:60:60:Seatbelt:/var/empty:/usr/bin/false\n",
      "_mdnsresponder:*:65:65:mDNSResponder:/var/empty:/usr/bin/false\n",
      "_ard:*:67:67:Apple Remote Desktop:/var/empty:/usr/bin/false\n",
      "_www:*:70:70:World Wide Web Server:/Library/WebServer:/usr/bin/false\n",
      "_eppc:*:71:71:Apple Events User:/var/empty:/usr/bin/false\n",
      "_cvs:*:72:72:CVS Server:/var/empty:/usr/bin/false\n",
      "_svn:*:73:73:SVN Server:/var/empty:/usr/bin/false\n",
      "_mysql:*:74:74:MySQL Server:/var/empty:/usr/bin/false\n",
      "_sshd:*:75:75:sshd Privilege separation:/var/empty:/usr/bin/false\n",
      "_qtss:*:76:76:QuickTime Streaming Server:/var/empty:/usr/bin/false\n",
      "_cyrus:*:77:6:Cyrus Administrator:/var/imap:/usr/bin/false\n",
      "_mailman:*:78:78:Mailman List Server:/var/empty:/usr/bin/false\n",
      "_appserver:*:79:79:Application Server:/var/empty:/usr/bin/false\n",
      "_clamav:*:82:82:ClamAV Daemon:/var/virusmails:/usr/bin/false\n",
      "_amavisd:*:83:83:AMaViS Daemon:/var/virusmails:/usr/bin/false\n",
      "_jabber:*:84:84:Jabber XMPP Server:/var/empty:/usr/bin/false\n",
      "_appowner:*:87:87:Application Owner:/var/empty:/usr/bin/false\n",
      "_windowserver:*:88:88:WindowServer:/var/empty:/usr/bin/false\n",
      "_spotlight:*:89:89:Spotlight:/var/empty:/usr/bin/false\n",
      "_tokend:*:91:91:Token Daemon:/var/empty:/usr/bin/false\n",
      "_securityagent:*:92:92:SecurityAgent:/var/db/securityagent:/usr/bin/false\n",
      "_calendar:*:93:93:Calendar:/var/empty:/usr/bin/false\n",
      "_teamsserver:*:94:94:TeamsServer:/var/teamsserver:/usr/bin/false\n",
      "_update_sharing:*:95:-2:Update Sharing:/var/empty:/usr/bin/false\n",
      "_installer:*:96:-2:Installer:/var/empty:/usr/bin/false\n",
      "_atsserver:*:97:97:ATS Server:/var/empty:/usr/bin/false\n",
      "_ftp:*:98:-2:FTP Daemon:/var/empty:/usr/bin/false\n",
      "_unknown:*:99:99:Unknown User:/var/empty:/usr/bin/false\n",
      "_softwareupdate:*:200:200:Software Update Service:/var/db/softwareupdate:/usr/bin/false\n",
      "_coreaudiod:*:202:202:Core Audio Daemon:/var/empty:/usr/bin/false\n",
      "_screensaver:*:203:203:Screensaver:/var/empty:/usr/bin/false\n",
      "_locationd:*:205:205:Location Daemon:/var/db/locationd:/usr/bin/false\n",
      "_trustevaluationagent:*:208:208:Trust Evaluation Agent:/var/empty:/usr/bin/false\n",
      "_timezone:*:210:210:AutoTimeZoneDaemon:/var/empty:/usr/bin/false\n",
      "_lda:*:211:211:Local Delivery Agent:/var/empty:/usr/bin/false\n",
      "_cvmsroot:*:212:212:CVMS Root:/var/empty:/usr/bin/false\n",
      "_usbmuxd:*:213:213:iPhone OS Device Helper:/var/db/lockdown:/usr/bin/false\n",
      "_dovecot:*:214:6:Dovecot Administrator:/var/empty:/usr/bin/false\n",
      "_dpaudio:*:215:215:DP Audio:/var/empty:/usr/bin/false\n",
      "_postgres:*:216:216:PostgreSQL Server:/var/empty:/usr/bin/false\n",
      "_krbtgt:*:217:-2:Kerberos Ticket Granting Ticket:/var/empty:/usr/bin/false\n",
      "_kadmin_admin:*:218:-2:Kerberos Admin Service:/var/empty:/usr/bin/false\n",
      "_kadmin_changepw:*:219:-2:Kerberos Change Password Service:/var/empty:/usr/bin/false\n",
      "_devicemgr:*:220:220:Device Management Server:/var/empty:/usr/bin/false\n",
      "_webauthserver:*:221:221:Web Auth Server:/var/empty:/usr/bin/false\n",
      "_netbios:*:222:222:NetBIOS:/var/empty:/usr/bin/false\n",
      "_warmd:*:224:224:Warm Daemon:/var/empty:/usr/bin/false\n",
      "_dovenull:*:227:227:Dovecot Authentication:/var/empty:/usr/bin/false\n",
      "_netstatistics:*:228:228:Network Statistics Daemon:/var/empty:/usr/bin/false\n",
      "_avbdeviced:*:229:-2:Ethernet AVB Device Daemon:/var/empty:/usr/bin/false\n",
      "_krb_krbtgt:*:230:-2:Open Directory Kerberos Ticket Granting Ticket:/var/empty:/usr/bin/false\n",
      "_krb_kadmin:*:231:-2:Open Directory Kerberos Admin Service:/var/empty:/usr/bin/false\n",
      "_krb_changepw:*:232:-2:Open Directory Kerberos Change Password Service:/var/empty:/usr/bin/false\n",
      "_krb_kerberos:*:233:-2:Open Directory Kerberos:/var/empty:/usr/bin/false\n",
      "_krb_anonymous:*:234:-2:Open Directory Kerberos Anonymous:/var/empty:/usr/bin/false\n",
      "_assetcache:*:235:235:Asset Cache Service:/var/empty:/usr/bin/false\n",
      "_coremediaiod:*:236:236:Core Media IO Daemon:/var/empty:/usr/bin/false\n",
      "_launchservicesd:*:239:239:_launchservicesd:/var/empty:/usr/bin/false\n",
      "_iconservices:*:240:240:IconServices:/var/empty:/usr/bin/false\n",
      "_distnote:*:241:241:DistNote:/var/empty:/usr/bin/false\n",
      "_nsurlsessiond:*:242:242:NSURLSession Daemon:/var/db/nsurlsessiond:/usr/bin/false\n",
      "_displaypolicyd:*:244:244:Display Policy Daemon:/var/empty:/usr/bin/false\n",
      "_astris:*:245:245:Astris Services:/var/db/astris:/usr/bin/false\n",
      "_krbfast:*:246:-2:Kerberos FAST Account:/var/empty:/usr/bin/false\n",
      "_gamecontrollerd:*:247:247:Game Controller Daemon:/var/empty:/usr/bin/false\n",
      "_mbsetupuser:*:248:248:Setup User:/var/setup:/bin/bash\n",
      "_ondemand:*:249:249:On Demand Resource Daemon:/var/db/ondemand:/usr/bin/false\n",
      "_xserverdocs:*:251:251:macOS Server Documents Service:/var/empty:/usr/bin/false\n",
      "_wwwproxy:*:252:252:WWW Proxy:/var/empty:/usr/bin/false\n",
      "_mobileasset:*:253:253:MobileAsset User:/var/ma:/usr/bin/false\n",
      "_findmydevice:*:254:254:Find My Device Daemon:/var/db/findmydevice:/usr/bin/false\n",
      "_datadetectors:*:257:257:DataDetectors:/var/db/datadetectors:/usr/bin/false\n",
      "_captiveagent:*:258:258:captiveagent:/var/empty:/usr/bin/false\n",
      "_ctkd:*:259:259:ctkd Account:/var/empty:/usr/bin/false\n",
      "_applepay:*:260:260:applepay Account:/var/db/applepay:/usr/bin/false\n",
      "_hidd:*:261:261:HID Service User:/var/db/hidd:/usr/bin/false\n",
      "_cmiodalassistants:*:262:262:CoreMedia IO Assistants User:/var/db/cmiodalassistants:/usr/bin/false\n",
      "_analyticsd:*:263:263:Analytics Daemon:/var/db/analyticsd:/usr/bin/false\n",
      "_fpsd:*:265:265:FPS Daemon:/var/db/fpsd:/usr/bin/false\n",
      "_timed:*:266:266:Time Sync Daemon:/var/db/timed:/usr/bin/false\n",
      "_nearbyd:*:268:268:Proximity and Ranging Daemon:/var/db/nearbyd:/usr/bin/false\n",
      "_reportmemoryexception:*:269:269:ReportMemoryException:/var/db/reportmemoryexception:/usr/bin/false\n",
      "_driverkit:*:270:270:DriverKit:/var/empty:/usr/bin/false\n",
      "_diskimagesiod:*:271:271:DiskImages IO Daemon:/var/db/diskimagesiod:/usr/bin/false\n",
      "_logd:*:272:272:Log Daemon:/var/db/diagnostics:/usr/bin/false\n",
      "_appinstalld:*:273:273:App Install Daemon:/var/db/appinstalld:/usr/bin/false\n",
      "_installcoordinationd:*:274:274:Install Coordination Daemon:/var/db/installcoordinationd:/usr/bin/false\n",
      "_demod:*:275:275:Demo Daemon:/var/empty:/usr/bin/false\n",
      "_rmd:*:277:277:Remote Management Daemon:/var/db/rmd:/usr/bin/false\n",
      "_accessoryupdater:*:278:278:Accessory Update Daemon:/var/db/accessoryupdater:/usr/bin/false\n",
      "_knowledgegraphd:*:279:279:Knowledge Graph Daemon:/var/db/knowledgegraphd:/usr/bin/false\n",
      "_coreml:*:280:280:CoreML Services:/var/db/coreml:/usr/bin/false\n",
      "_sntpd:*:281:281:SNTP Server Daemon:/var/empty:/usr/bin/false\n",
      "_trustd:*:282:282:trustd:/var/empty:/usr/bin/false\n",
      "_mmaintenanced:*:283:283:mmaintenanced:/var/db/mmaintenanced:/usr/bin/false\n",
      "_darwindaemon:*:284:284:Darwin Daemon:/var/db/darwindaemon:/usr/bin/false\n",
      "_notification_proxy:*:285:285:Notification Proxy:/var/empty:/usr/bin/false\n",
      "_avphidbridge:*:288:288:Apple Virtual Platform HID Bridge:/var/empty:/usr/bin/false\n",
      "_biome:*:289:289:Biome:/var/db/biome:/usr/bin/false\n",
      "_backgroundassets:*:291:291:Background Assets Service:/var/empty:/usr/bin/false\n",
      "_mobilegestalthelper:*:293:293:MobileGestaltHelper:/var/empty:/usr/bin/false\n",
      "_audiomxd:*:294:294:Audio and MediaExperience Daemon:/var/db/audiomxd:/usr/bin/false\n",
      "_terminusd:*:295:295:Terminus:/var/empty:/usr/bin/false\n",
      "_neuralengine:*:296:296:AppleNeuralEngine:/var/db/neuralengine:/usr/bin/false\n",
      "_eligibilityd:*:297:297:OS Eligibility Daemon:/var/db/eligibilityd:/usr/bin/false\n",
      "_oahd:*:441:441:OAH Daemon:/var/empty:/usr/bin/false\n"
     ]
    }
   ],
   "source": [
    "# if the file were 20 TB in size, Python would have tried to read it into memory, and it \n",
    "# would have been bad for Python, and maybe even for the computer.\n",
    "\n",
    "# reading a file into memory like that is a bad idea unless you know the size of the file.\n",
    "# what's another option?\n",
    "\n",
    "# iterate over the file object! You'll get one line from the file (ending in \\n) with each iteration.\n",
    "# Each line is unlikley to give us memory problems.\n",
    "\n",
    "f = open('/etc/passwd')\n",
    "\n",
    "for one_line in f:\n",
    "    print(one_line.strip())  # print adds \\n when it displays things, and one_line ends in \\n, so we have double spaced output"
   ]
  },
  {
   "cell_type": "code",
   "execution_count": 57,
   "id": "c172d932-b840-45bb-b00c-85dd91df8043",
   "metadata": {},
   "outputs": [
    {
     "name": "stdout",
     "output_type": "stream",
     "text": [
      "nobody\n",
      "root\n",
      "daemon\n",
      "_uucp\n",
      "_taskgated\n",
      "_networkd\n",
      "_installassistant\n",
      "_lp\n",
      "_postfix\n",
      "_scsd\n",
      "_ces\n",
      "_appstore\n",
      "_mcxalr\n",
      "_appleevents\n",
      "_geod\n",
      "_devdocs\n",
      "_sandbox\n",
      "_mdnsresponder\n",
      "_ard\n",
      "_www\n",
      "_eppc\n",
      "_cvs\n",
      "_svn\n",
      "_mysql\n",
      "_sshd\n",
      "_qtss\n",
      "_cyrus\n",
      "_mailman\n",
      "_appserver\n",
      "_clamav\n",
      "_amavisd\n",
      "_jabber\n",
      "_appowner\n",
      "_windowserver\n",
      "_spotlight\n",
      "_tokend\n",
      "_securityagent\n",
      "_calendar\n",
      "_teamsserver\n",
      "_update_sharing\n",
      "_installer\n",
      "_atsserver\n",
      "_ftp\n",
      "_unknown\n",
      "_softwareupdate\n",
      "_coreaudiod\n",
      "_screensaver\n",
      "_locationd\n",
      "_trustevaluationagent\n",
      "_timezone\n",
      "_lda\n",
      "_cvmsroot\n",
      "_usbmuxd\n",
      "_dovecot\n",
      "_dpaudio\n",
      "_postgres\n",
      "_krbtgt\n",
      "_kadmin_admin\n",
      "_kadmin_changepw\n",
      "_devicemgr\n",
      "_webauthserver\n",
      "_netbios\n",
      "_warmd\n",
      "_dovenull\n",
      "_netstatistics\n",
      "_avbdeviced\n",
      "_krb_krbtgt\n",
      "_krb_kadmin\n",
      "_krb_changepw\n",
      "_krb_kerberos\n",
      "_krb_anonymous\n",
      "_assetcache\n",
      "_coremediaiod\n",
      "_launchservicesd\n",
      "_iconservices\n",
      "_distnote\n",
      "_nsurlsessiond\n",
      "_displaypolicyd\n",
      "_astris\n",
      "_krbfast\n",
      "_gamecontrollerd\n",
      "_mbsetupuser\n",
      "_ondemand\n",
      "_xserverdocs\n",
      "_wwwproxy\n",
      "_mobileasset\n",
      "_findmydevice\n",
      "_datadetectors\n",
      "_captiveagent\n",
      "_ctkd\n",
      "_applepay\n",
      "_hidd\n",
      "_cmiodalassistants\n",
      "_analyticsd\n",
      "_fpsd\n",
      "_timed\n",
      "_nearbyd\n",
      "_reportmemoryexception\n",
      "_driverkit\n",
      "_diskimagesiod\n",
      "_logd\n",
      "_appinstalld\n",
      "_installcoordinationd\n",
      "_demod\n",
      "_rmd\n",
      "_accessoryupdater\n",
      "_knowledgegraphd\n",
      "_coreml\n",
      "_sntpd\n",
      "_trustd\n",
      "_mmaintenanced\n",
      "_darwindaemon\n",
      "_notification_proxy\n",
      "_avphidbridge\n",
      "_biome\n",
      "_backgroundassets\n",
      "_mobilegestalthelper\n",
      "_audiomxd\n",
      "_terminusd\n",
      "_neuralengine\n",
      "_eligibilityd\n",
      "_oahd\n"
     ]
    }
   ],
   "source": [
    "# let's print the usernames from this file\n",
    "# (the username is the first field on each line, before the first : character)\n",
    "\n",
    "f = open('/etc/passwd')\n",
    "\n",
    "for one_line in f:\n",
    "    if one_line[0] != '#':\n",
    "        print(one_line.split(':')[0])"
   ]
  },
  {
   "cell_type": "code",
   "execution_count": 58,
   "id": "d2505e51-bd7f-43fc-80b5-d80fdb9c65fd",
   "metadata": {},
   "outputs": [
    {
     "name": "stdout",
     "output_type": "stream",
     "text": [
      "nobody\n",
      "root\n",
      "daemon\n",
      "_uucp\n",
      "_taskgated\n",
      "_networkd\n",
      "_installassistant\n",
      "_lp\n",
      "_postfix\n",
      "_scsd\n",
      "_ces\n",
      "_appstore\n",
      "_mcxalr\n",
      "_appleevents\n",
      "_geod\n",
      "_devdocs\n",
      "_sandbox\n",
      "_mdnsresponder\n",
      "_ard\n",
      "_www\n",
      "_eppc\n",
      "_cvs\n",
      "_svn\n",
      "_mysql\n",
      "_sshd\n",
      "_qtss\n",
      "_cyrus\n",
      "_mailman\n",
      "_appserver\n",
      "_clamav\n",
      "_amavisd\n",
      "_jabber\n",
      "_appowner\n",
      "_windowserver\n",
      "_spotlight\n",
      "_tokend\n",
      "_securityagent\n",
      "_calendar\n",
      "_teamsserver\n",
      "_update_sharing\n",
      "_installer\n",
      "_atsserver\n",
      "_ftp\n",
      "_unknown\n",
      "_softwareupdate\n",
      "_coreaudiod\n",
      "_screensaver\n",
      "_locationd\n",
      "_trustevaluationagent\n",
      "_timezone\n",
      "_lda\n",
      "_cvmsroot\n",
      "_usbmuxd\n",
      "_dovecot\n",
      "_dpaudio\n",
      "_postgres\n",
      "_krbtgt\n",
      "_kadmin_admin\n",
      "_kadmin_changepw\n",
      "_devicemgr\n",
      "_webauthserver\n",
      "_netbios\n",
      "_warmd\n",
      "_dovenull\n",
      "_netstatistics\n",
      "_avbdeviced\n",
      "_krb_krbtgt\n",
      "_krb_kadmin\n",
      "_krb_changepw\n",
      "_krb_kerberos\n",
      "_krb_anonymous\n",
      "_assetcache\n",
      "_coremediaiod\n",
      "_launchservicesd\n",
      "_iconservices\n",
      "_distnote\n",
      "_nsurlsessiond\n",
      "_displaypolicyd\n",
      "_astris\n",
      "_krbfast\n",
      "_gamecontrollerd\n",
      "_mbsetupuser\n",
      "_ondemand\n",
      "_xserverdocs\n",
      "_wwwproxy\n",
      "_mobileasset\n",
      "_findmydevice\n",
      "_datadetectors\n",
      "_captiveagent\n",
      "_ctkd\n",
      "_applepay\n",
      "_hidd\n",
      "_cmiodalassistants\n",
      "_analyticsd\n",
      "_fpsd\n",
      "_timed\n",
      "_nearbyd\n",
      "_reportmemoryexception\n",
      "_driverkit\n",
      "_diskimagesiod\n",
      "_logd\n",
      "_appinstalld\n",
      "_installcoordinationd\n",
      "_demod\n",
      "_rmd\n",
      "_accessoryupdater\n",
      "_knowledgegraphd\n",
      "_coreml\n",
      "_sntpd\n",
      "_trustd\n",
      "_mmaintenanced\n",
      "_darwindaemon\n",
      "_notification_proxy\n",
      "_avphidbridge\n",
      "_biome\n",
      "_backgroundassets\n",
      "_mobilegestalthelper\n",
      "_audiomxd\n",
      "_terminusd\n",
      "_neuralengine\n",
      "_eligibilityd\n",
      "_oahd\n"
     ]
    }
   ],
   "source": [
    "for one_line in open('/etc/passwd'):\n",
    "    if one_line[0] != '#':\n",
    "        print(one_line.split(':')[0])"
   ]
  },
  {
   "cell_type": "markdown",
   "id": "44d33493-ac69-4dc3-982f-0a14403032c7",
   "metadata": {},
   "source": [
    "# Exercise: Summing numbers\n",
    "\n",
    "1. One of the files in the zipfile is called `nums.txt`. Every line contains either a number surrounded by whitespace (spaces, tabs, newlines, etc.) or nothing at all.\n",
    "2. Iterate over this file in a `for` loop and sum the numbers you find there.\n",
    "\n"
   ]
  },
  {
   "cell_type": "code",
   "execution_count": 59,
   "id": "bcdcf604-5c6c-4c93-985e-d98e5973253e",
   "metadata": {},
   "outputs": [
    {
     "name": "stdout",
     "output_type": "stream",
     "text": [
      "5\n",
      "\t10     \n",
      "\t20\n",
      "  \t3\n",
      "\t\t   \t20        \n",
      "\n",
      " 25\n"
     ]
    }
   ],
   "source": [
    "!cat nums.txt"
   ]
  },
  {
   "cell_type": "code",
   "execution_count": 60,
   "id": "4e9d466e-2e23-4d5f-9838-c954c070c996",
   "metadata": {},
   "outputs": [],
   "source": [
    "# If you're getting \"file not found,\" then (a) move the file to the same location as your Python program/Jupyter, or\n",
    "# you can specify the full path, e.g., r'c:\\python\\nums.txt' "
   ]
  },
  {
   "cell_type": "code",
   "execution_count": 64,
   "id": "bf2bd7da-5738-4ffc-9d07-9f29a1521c55",
   "metadata": {},
   "outputs": [
    {
     "name": "stdout",
     "output_type": "stream",
     "text": [
      "83\n"
     ]
    }
   ],
   "source": [
    "total = 0\n",
    "\n",
    "for one_line in open('nums.txt'):\n",
    "    if one_line.strip() != '':\n",
    "        total += int(one_line)\n",
    "\n",
    "print(total)"
   ]
  },
  {
   "cell_type": "markdown",
   "id": "c20f3d0d-2cc8-4e41-85a1-39353f10a5aa",
   "metadata": {},
   "source": [
    "# Exercise: Word count ('wc')\n",
    "\n",
    "I want to re-implement a famous Unix utility program, `wc`, which counts the words (and lines, and characters) in a file:\n",
    "\n",
    "Your program should:\n",
    "- Print the number of lines (including blank/empty lines)\n",
    "- Print the number of words (defined as separated by spaces/whitespace)\n",
    "- Print the number of characters (all characters, including spaces, whitespace, punctuation, etc.)\n",
    "\n",
    "Strategy: Define some variables with 0 for values, then iterate one line at a time, calculate per line, and store into the variables.\n",
    "\n",
    "In the zipfile I gave you, there is a sample file called `wcfile.txt`. Let's look at it:"
   ]
  },
  {
   "cell_type": "code",
   "execution_count": 65,
   "id": "492be5d4-0f57-437b-b5d7-e335d86c799d",
   "metadata": {},
   "outputs": [
    {
     "name": "stdout",
     "output_type": "stream",
     "text": [
      "This is a test file.\n",
      "\n",
      "It contains 28 words and 20 different words.\n",
      "\n",
      "It also contains 165 characters.\n",
      "\n",
      "It also contains 11 lines.\n",
      "\n",
      "It is also self-referential.\n",
      "\n",
      "Wow!\n"
     ]
    }
   ],
   "source": [
    "# In Jupyter, I can execute Unix commands if I put ! at the start of the line\n",
    "# the Unix \"cat\" command displays a file\n",
    "\n",
    "!cat wcfile.txt"
   ]
  },
  {
   "cell_type": "code",
   "execution_count": 68,
   "id": "7d8ffcd5-ec59-4110-a3cd-664ede2da48c",
   "metadata": {},
   "outputs": [
    {
     "name": "stdout",
     "output_type": "stream",
     "text": [
      "lines = 11\n",
      "words = 28\n",
      "chars = 165\n"
     ]
    }
   ],
   "source": [
    "filename = 'wcfile.txt'   # I put the file in the same directory as Jupyter, so I don't need to specify a path\n",
    "\n",
    "lines = 0\n",
    "words = 0\n",
    "chars = 0\n",
    "\n",
    "for one_line in open(filename):\n",
    "    lines += 1               # each iteration of the for loop is on one line\n",
    "    chars += len(one_line)\n",
    "    words += len(one_line.split())\n",
    "\n",
    "print(f'lines = {lines}')\n",
    "print(f'words = {words}')\n",
    "print(f'chars = {chars}')"
   ]
  },
  {
   "cell_type": "code",
   "execution_count": 69,
   "id": "b2569420-2d9f-49da-8f1a-3a10d33f2388",
   "metadata": {},
   "outputs": [
    {
     "name": "stdout",
     "output_type": "stream",
     "text": [
      "lines: 11\n",
      "words: 28\n",
      "chars: 165\n"
     ]
    }
   ],
   "source": [
    "# maybe, instead of having three variables, I can just define one dict\n",
    "# that'll also make it easier to report the results\n",
    "\n",
    "filename = 'wcfile.txt'   # I put the file in the same directory as Jupyter, so I don't need to specify a path\n",
    "counts = {'lines': 0, 'words': 0, 'chars': 0}\n",
    "\n",
    "for one_line in open(filename):\n",
    "    counts['lines'] += 1               # each iteration of the for loop is on one line\n",
    "    counts['chars'] += len(one_line)\n",
    "    counts['words'] += len(one_line.split())\n",
    "\n",
    "# go through the dict, printing each key-value pair\n",
    "for key, value in counts.items():\n",
    "    print(f'{key}: {value}')"
   ]
  },
  {
   "cell_type": "code",
   "execution_count": 70,
   "id": "fb7f0f74-05fc-422d-a8a1-7f208c8021c9",
   "metadata": {},
   "outputs": [
    {
     "data": {
      "text/plain": [
       "14"
      ]
     },
     "execution_count": 70,
     "metadata": {},
     "output_type": "execute_result"
    }
   ],
   "source": [
    "s = 'a   b   c    d'\n",
    "len(s)"
   ]
  },
  {
   "cell_type": "code",
   "execution_count": 73,
   "id": "464de14e-7898-44be-b05e-8579898790b9",
   "metadata": {},
   "outputs": [
    {
     "data": {
      "text/plain": [
       "8"
      ]
     },
     "execution_count": 73,
     "metadata": {},
     "output_type": "execute_result"
    }
   ],
   "source": [
    "# to count the characters in a string *without* whitespace\n",
    "\n",
    "s = '     a    b    c    hello   '\n",
    "\n",
    "len(s.strip().replace(' ', ''))"
   ]
  },
  {
   "cell_type": "markdown",
   "id": "8c63f29e-a901-4e8f-add9-866f4b2758a9",
   "metadata": {},
   "source": [
    "# Next up\n",
    "\n",
    "- Reading from files and producing reports\n",
    "- Writing to files and the `with` keyword"
   ]
  },
  {
   "cell_type": "code",
   "execution_count": 74,
   "id": "6bbcae65-0e95-4f89-9eba-c95b753293ec",
   "metadata": {},
   "outputs": [
    {
     "name": "stdout",
     "output_type": "stream",
     "text": [
      "linux-etc-passwd.txt  mini-access-log.txt  nums.txt  shoe-data.txt  wcfile.txt\n"
     ]
    }
   ],
   "source": [
    "!ls *.txt"
   ]
  },
  {
   "cell_type": "code",
   "execution_count": 75,
   "id": "ff0a7d56-9253-4cef-92da-5af7ae1bde86",
   "metadata": {},
   "outputs": [
    {
     "name": "stdout",
     "output_type": "stream",
     "text": [
      "Adidas\torange\t43\n",
      "Nike\tblack\t41\n",
      "Adidas\tblack\t39\n",
      "New Balance\tpink\t41\n",
      "Nike\twhite\t44\n",
      "New Balance\torange\t38\n",
      "Nike\tpink\t44\n",
      "Adidas\tpink\t44\n",
      "New Balance\torange\t39\n",
      "New Balance\tblack\t43\n"
     ]
    }
   ],
   "source": [
    "# I have a file called shoe-data.txt, with 100 lines -- each a pair of shoes\n",
    "\n",
    "!head shoe-data.txt"
   ]
  },
  {
   "cell_type": "code",
   "execution_count": 77,
   "id": "f711b1b4-d2e2-4ee9-b8ba-36cc7102eb4f",
   "metadata": {},
   "outputs": [
    {
     "data": {
      "text/plain": [
       "[{'brand': 'Adidas', 'color': 'orange', 'size': '43'},\n",
       " {'brand': 'Nike', 'color': 'black', 'size': '41'},\n",
       " {'brand': 'Adidas', 'color': 'black', 'size': '39'},\n",
       " {'brand': 'New Balance', 'color': 'pink', 'size': '41'},\n",
       " {'brand': 'Nike', 'color': 'white', 'size': '44'},\n",
       " {'brand': 'New Balance', 'color': 'orange', 'size': '38'},\n",
       " {'brand': 'Nike', 'color': 'pink', 'size': '44'},\n",
       " {'brand': 'Adidas', 'color': 'pink', 'size': '44'},\n",
       " {'brand': 'New Balance', 'color': 'orange', 'size': '39'},\n",
       " {'brand': 'New Balance', 'color': 'black', 'size': '43'},\n",
       " {'brand': 'New Balance', 'color': 'orange', 'size': '44'},\n",
       " {'brand': 'Nike', 'color': 'black', 'size': '41'},\n",
       " {'brand': 'Adidas', 'color': 'orange', 'size': '37'},\n",
       " {'brand': 'Adidas', 'color': 'black', 'size': '38'},\n",
       " {'brand': 'Adidas', 'color': 'pink', 'size': '41'},\n",
       " {'brand': 'Adidas', 'color': 'white', 'size': '36'},\n",
       " {'brand': 'Adidas', 'color': 'orange', 'size': '36'},\n",
       " {'brand': 'Nike', 'color': 'pink', 'size': '41'},\n",
       " {'brand': 'Adidas', 'color': 'pink', 'size': '35'},\n",
       " {'brand': 'New Balance', 'color': 'orange', 'size': '37'},\n",
       " {'brand': 'Nike', 'color': 'pink', 'size': '43'},\n",
       " {'brand': 'Nike', 'color': 'black', 'size': '43'},\n",
       " {'brand': 'Nike', 'color': 'black', 'size': '42'},\n",
       " {'brand': 'Nike', 'color': 'black', 'size': '35'},\n",
       " {'brand': 'Adidas', 'color': 'black', 'size': '41'},\n",
       " {'brand': 'New Balance', 'color': 'pink', 'size': '40'},\n",
       " {'brand': 'Adidas', 'color': 'white', 'size': '35'},\n",
       " {'brand': 'New Balance', 'color': 'pink', 'size': '41'},\n",
       " {'brand': 'New Balance', 'color': 'orange', 'size': '41'},\n",
       " {'brand': 'Adidas', 'color': 'orange', 'size': '40'},\n",
       " {'brand': 'New Balance', 'color': 'orange', 'size': '40'},\n",
       " {'brand': 'New Balance', 'color': 'white', 'size': '44'},\n",
       " {'brand': 'New Balance', 'color': 'pink', 'size': '40'},\n",
       " {'brand': 'Nike', 'color': 'black', 'size': '43'},\n",
       " {'brand': 'Nike', 'color': 'pink', 'size': '36'},\n",
       " {'brand': 'New Balance', 'color': 'white', 'size': '39'},\n",
       " {'brand': 'Nike', 'color': 'black', 'size': '42'},\n",
       " {'brand': 'Adidas', 'color': 'black', 'size': '41'},\n",
       " {'brand': 'New Balance', 'color': 'orange', 'size': '40'},\n",
       " {'brand': 'New Balance', 'color': 'black', 'size': '40'},\n",
       " {'brand': 'Nike', 'color': 'white', 'size': '37'},\n",
       " {'brand': 'Adidas', 'color': 'black', 'size': '39'},\n",
       " {'brand': 'Adidas', 'color': 'black', 'size': '40'},\n",
       " {'brand': 'Adidas', 'color': 'orange', 'size': '38'},\n",
       " {'brand': 'New Balance', 'color': 'orange', 'size': '39'},\n",
       " {'brand': 'Nike', 'color': 'black', 'size': '35'},\n",
       " {'brand': 'Adidas', 'color': 'white', 'size': '39'},\n",
       " {'brand': 'Nike', 'color': 'white', 'size': '37'},\n",
       " {'brand': 'Adidas', 'color': 'orange', 'size': '37'},\n",
       " {'brand': 'Adidas', 'color': 'pink', 'size': '35'},\n",
       " {'brand': 'New Balance', 'color': 'orange', 'size': '41'},\n",
       " {'brand': 'Nike', 'color': 'pink', 'size': '44'},\n",
       " {'brand': 'Nike', 'color': 'pink', 'size': '38'},\n",
       " {'brand': 'Adidas', 'color': 'black', 'size': '39'},\n",
       " {'brand': 'New Balance', 'color': 'white', 'size': '35'},\n",
       " {'brand': 'Nike', 'color': 'pink', 'size': '40'},\n",
       " {'brand': 'Nike', 'color': 'white', 'size': '44'},\n",
       " {'brand': 'Nike', 'color': 'orange', 'size': '38'},\n",
       " {'brand': 'Adidas', 'color': 'orange', 'size': '42'},\n",
       " {'brand': 'New Balance', 'color': 'orange', 'size': '43'},\n",
       " {'brand': 'Adidas', 'color': 'pink', 'size': '39'},\n",
       " {'brand': 'Adidas', 'color': 'pink', 'size': '41'},\n",
       " {'brand': 'Adidas', 'color': 'pink', 'size': '39'},\n",
       " {'brand': 'Nike', 'color': 'white', 'size': '37'},\n",
       " {'brand': 'Nike', 'color': 'orange', 'size': '38'},\n",
       " {'brand': 'Adidas', 'color': 'orange', 'size': '39'},\n",
       " {'brand': 'Nike', 'color': 'pink', 'size': '40'},\n",
       " {'brand': 'Adidas', 'color': 'white', 'size': '36'},\n",
       " {'brand': 'Nike', 'color': 'orange', 'size': '40'},\n",
       " {'brand': 'New Balance', 'color': 'pink', 'size': '40'},\n",
       " {'brand': 'New Balance', 'color': 'black', 'size': '40'},\n",
       " {'brand': 'New Balance', 'color': 'pink', 'size': '40'},\n",
       " {'brand': 'Adidas', 'color': 'pink', 'size': '41'},\n",
       " {'brand': 'Nike', 'color': 'pink', 'size': '40'},\n",
       " {'brand': 'Nike', 'color': 'black', 'size': '41'},\n",
       " {'brand': 'Nike', 'color': 'black', 'size': '39'},\n",
       " {'brand': 'New Balance', 'color': 'white', 'size': '38'},\n",
       " {'brand': 'Adidas', 'color': 'black', 'size': '41'},\n",
       " {'brand': 'Nike', 'color': 'orange', 'size': '36'},\n",
       " {'brand': 'Nike', 'color': 'black', 'size': '38'},\n",
       " {'brand': 'New Balance', 'color': 'black', 'size': '40'},\n",
       " {'brand': 'New Balance', 'color': 'pink', 'size': '40'},\n",
       " {'brand': 'Adidas', 'color': 'black', 'size': '42'},\n",
       " {'brand': 'Adidas', 'color': 'white', 'size': '40'},\n",
       " {'brand': 'New Balance', 'color': 'orange', 'size': '38'},\n",
       " {'brand': 'Nike', 'color': 'pink', 'size': '41'},\n",
       " {'brand': 'Adidas', 'color': 'orange', 'size': '37'},\n",
       " {'brand': 'Nike', 'color': 'black', 'size': '44'},\n",
       " {'brand': 'Adidas', 'color': 'pink', 'size': '36'},\n",
       " {'brand': 'Adidas', 'color': 'white', 'size': '35'},\n",
       " {'brand': 'Nike', 'color': 'black', 'size': '38'},\n",
       " {'brand': 'Nike', 'color': 'pink', 'size': '42'},\n",
       " {'brand': 'New Balance', 'color': 'black', 'size': '43'},\n",
       " {'brand': 'Nike', 'color': 'white', 'size': '38'},\n",
       " {'brand': 'New Balance', 'color': 'pink', 'size': '39'},\n",
       " {'brand': 'Nike', 'color': 'orange', 'size': '39'},\n",
       " {'brand': 'New Balance', 'color': 'orange', 'size': '40'},\n",
       " {'brand': 'New Balance', 'color': 'white', 'size': '44'},\n",
       " {'brand': 'Adidas', 'color': 'black', 'size': '42'},\n",
       " {'brand': 'Nike', 'color': 'black', 'size': '35'}]"
      ]
     },
     "execution_count": 77,
     "metadata": {},
     "output_type": "execute_result"
    }
   ],
   "source": [
    "# Can I read this file from the disk, and create\n",
    "# list of dictionaries? Each dict should represent\n",
    "# one line in the file, with brand/color/size.\n",
    "\n",
    "shoes = []\n",
    "\n",
    "for one_line in open('shoe-data.txt'):\n",
    "    fields = one_line.strip().split('\\t')\n",
    "\n",
    "    d = {'brand':fields[0],\n",
    "         'color':fields[1],\n",
    "         'size':fields[2]}\n",
    "    shoes.append(d)\n",
    "\n",
    "shoes"
   ]
  },
  {
   "cell_type": "code",
   "execution_count": 78,
   "id": "ff390faa-75a7-452a-8eff-45349ebf1c7c",
   "metadata": {},
   "outputs": [
    {
     "data": {
      "text/plain": [
       "[{'brand': 'Adidas', 'color': 'orange', 'size': '43'},\n",
       " {'brand': 'Nike', 'color': 'black', 'size': '41'},\n",
       " {'brand': 'Adidas', 'color': 'black', 'size': '39'},\n",
       " {'brand': 'New Balance', 'color': 'pink', 'size': '41'},\n",
       " {'brand': 'Nike', 'color': 'white', 'size': '44'},\n",
       " {'brand': 'New Balance', 'color': 'orange', 'size': '38'},\n",
       " {'brand': 'Nike', 'color': 'pink', 'size': '44'},\n",
       " {'brand': 'Adidas', 'color': 'pink', 'size': '44'},\n",
       " {'brand': 'New Balance', 'color': 'orange', 'size': '39'},\n",
       " {'brand': 'New Balance', 'color': 'black', 'size': '43'},\n",
       " {'brand': 'New Balance', 'color': 'orange', 'size': '44'},\n",
       " {'brand': 'Nike', 'color': 'black', 'size': '41'},\n",
       " {'brand': 'Adidas', 'color': 'orange', 'size': '37'},\n",
       " {'brand': 'Adidas', 'color': 'black', 'size': '38'},\n",
       " {'brand': 'Adidas', 'color': 'pink', 'size': '41'},\n",
       " {'brand': 'Adidas', 'color': 'white', 'size': '36'},\n",
       " {'brand': 'Adidas', 'color': 'orange', 'size': '36'},\n",
       " {'brand': 'Nike', 'color': 'pink', 'size': '41'},\n",
       " {'brand': 'Adidas', 'color': 'pink', 'size': '35'},\n",
       " {'brand': 'New Balance', 'color': 'orange', 'size': '37'},\n",
       " {'brand': 'Nike', 'color': 'pink', 'size': '43'},\n",
       " {'brand': 'Nike', 'color': 'black', 'size': '43'},\n",
       " {'brand': 'Nike', 'color': 'black', 'size': '42'},\n",
       " {'brand': 'Nike', 'color': 'black', 'size': '35'},\n",
       " {'brand': 'Adidas', 'color': 'black', 'size': '41'},\n",
       " {'brand': 'New Balance', 'color': 'pink', 'size': '40'},\n",
       " {'brand': 'Adidas', 'color': 'white', 'size': '35'},\n",
       " {'brand': 'New Balance', 'color': 'pink', 'size': '41'},\n",
       " {'brand': 'New Balance', 'color': 'orange', 'size': '41'},\n",
       " {'brand': 'Adidas', 'color': 'orange', 'size': '40'},\n",
       " {'brand': 'New Balance', 'color': 'orange', 'size': '40'},\n",
       " {'brand': 'New Balance', 'color': 'white', 'size': '44'},\n",
       " {'brand': 'New Balance', 'color': 'pink', 'size': '40'},\n",
       " {'brand': 'Nike', 'color': 'black', 'size': '43'},\n",
       " {'brand': 'Nike', 'color': 'pink', 'size': '36'},\n",
       " {'brand': 'New Balance', 'color': 'white', 'size': '39'},\n",
       " {'brand': 'Nike', 'color': 'black', 'size': '42'},\n",
       " {'brand': 'Adidas', 'color': 'black', 'size': '41'},\n",
       " {'brand': 'New Balance', 'color': 'orange', 'size': '40'},\n",
       " {'brand': 'New Balance', 'color': 'black', 'size': '40'},\n",
       " {'brand': 'Nike', 'color': 'white', 'size': '37'},\n",
       " {'brand': 'Adidas', 'color': 'black', 'size': '39'},\n",
       " {'brand': 'Adidas', 'color': 'black', 'size': '40'},\n",
       " {'brand': 'Adidas', 'color': 'orange', 'size': '38'},\n",
       " {'brand': 'New Balance', 'color': 'orange', 'size': '39'},\n",
       " {'brand': 'Nike', 'color': 'black', 'size': '35'},\n",
       " {'brand': 'Adidas', 'color': 'white', 'size': '39'},\n",
       " {'brand': 'Nike', 'color': 'white', 'size': '37'},\n",
       " {'brand': 'Adidas', 'color': 'orange', 'size': '37'},\n",
       " {'brand': 'Adidas', 'color': 'pink', 'size': '35'},\n",
       " {'brand': 'New Balance', 'color': 'orange', 'size': '41'},\n",
       " {'brand': 'Nike', 'color': 'pink', 'size': '44'},\n",
       " {'brand': 'Nike', 'color': 'pink', 'size': '38'},\n",
       " {'brand': 'Adidas', 'color': 'black', 'size': '39'},\n",
       " {'brand': 'New Balance', 'color': 'white', 'size': '35'},\n",
       " {'brand': 'Nike', 'color': 'pink', 'size': '40'},\n",
       " {'brand': 'Nike', 'color': 'white', 'size': '44'},\n",
       " {'brand': 'Nike', 'color': 'orange', 'size': '38'},\n",
       " {'brand': 'Adidas', 'color': 'orange', 'size': '42'},\n",
       " {'brand': 'New Balance', 'color': 'orange', 'size': '43'},\n",
       " {'brand': 'Adidas', 'color': 'pink', 'size': '39'},\n",
       " {'brand': 'Adidas', 'color': 'pink', 'size': '41'},\n",
       " {'brand': 'Adidas', 'color': 'pink', 'size': '39'},\n",
       " {'brand': 'Nike', 'color': 'white', 'size': '37'},\n",
       " {'brand': 'Nike', 'color': 'orange', 'size': '38'},\n",
       " {'brand': 'Adidas', 'color': 'orange', 'size': '39'},\n",
       " {'brand': 'Nike', 'color': 'pink', 'size': '40'},\n",
       " {'brand': 'Adidas', 'color': 'white', 'size': '36'},\n",
       " {'brand': 'Nike', 'color': 'orange', 'size': '40'},\n",
       " {'brand': 'New Balance', 'color': 'pink', 'size': '40'},\n",
       " {'brand': 'New Balance', 'color': 'black', 'size': '40'},\n",
       " {'brand': 'New Balance', 'color': 'pink', 'size': '40'},\n",
       " {'brand': 'Adidas', 'color': 'pink', 'size': '41'},\n",
       " {'brand': 'Nike', 'color': 'pink', 'size': '40'},\n",
       " {'brand': 'Nike', 'color': 'black', 'size': '41'},\n",
       " {'brand': 'Nike', 'color': 'black', 'size': '39'},\n",
       " {'brand': 'New Balance', 'color': 'white', 'size': '38'},\n",
       " {'brand': 'Adidas', 'color': 'black', 'size': '41'},\n",
       " {'brand': 'Nike', 'color': 'orange', 'size': '36'},\n",
       " {'brand': 'Nike', 'color': 'black', 'size': '38'},\n",
       " {'brand': 'New Balance', 'color': 'black', 'size': '40'},\n",
       " {'brand': 'New Balance', 'color': 'pink', 'size': '40'},\n",
       " {'brand': 'Adidas', 'color': 'black', 'size': '42'},\n",
       " {'brand': 'Adidas', 'color': 'white', 'size': '40'},\n",
       " {'brand': 'New Balance', 'color': 'orange', 'size': '38'},\n",
       " {'brand': 'Nike', 'color': 'pink', 'size': '41'},\n",
       " {'brand': 'Adidas', 'color': 'orange', 'size': '37'},\n",
       " {'brand': 'Nike', 'color': 'black', 'size': '44'},\n",
       " {'brand': 'Adidas', 'color': 'pink', 'size': '36'},\n",
       " {'brand': 'Adidas', 'color': 'white', 'size': '35'},\n",
       " {'brand': 'Nike', 'color': 'black', 'size': '38'},\n",
       " {'brand': 'Nike', 'color': 'pink', 'size': '42'},\n",
       " {'brand': 'New Balance', 'color': 'black', 'size': '43'},\n",
       " {'brand': 'Nike', 'color': 'white', 'size': '38'},\n",
       " {'brand': 'New Balance', 'color': 'pink', 'size': '39'},\n",
       " {'brand': 'Nike', 'color': 'orange', 'size': '39'},\n",
       " {'brand': 'New Balance', 'color': 'orange', 'size': '40'},\n",
       " {'brand': 'New Balance', 'color': 'white', 'size': '44'},\n",
       " {'brand': 'Adidas', 'color': 'black', 'size': '42'},\n",
       " {'brand': 'Nike', 'color': 'black', 'size': '35'}]"
      ]
     },
     "execution_count": 78,
     "metadata": {},
     "output_type": "execute_result"
    }
   ],
   "source": [
    "# let's get the fields into individual variables\n",
    "\n",
    "shoes = []\n",
    "\n",
    "for one_line in open('shoe-data.txt'):\n",
    "    brand, color, size = one_line.strip().split('\\t')\n",
    "\n",
    "    d = {'brand':brand,\n",
    "         'color':color,\n",
    "         'size':size}\n",
    "    shoes.append(d)\n",
    "\n",
    "shoes"
   ]
  },
  {
   "cell_type": "code",
   "execution_count": 79,
   "id": "a6ca4e23-cb5d-43b1-854f-0c7b10aff1bd",
   "metadata": {},
   "outputs": [
    {
     "data": {
      "text/plain": [
       "{'Adidas': 34, 'Nike': 36, 'New Balance': 30}"
      ]
     },
     "execution_count": 79,
     "metadata": {},
     "output_type": "execute_result"
    }
   ],
   "source": [
    "# how many shoes do we have of each brand?\n",
    "\n",
    "counts = {}\n",
    "\n",
    "for one_shoe in shoes:\n",
    "    brand = one_shoe['brand']  # grab the value from the dict\n",
    "\n",
    "    if brand in counts:\n",
    "        counts[brand] += 1    # add, if we've already seen this\n",
    "    else:\n",
    "        counts[brand] = 1     # set to 1, if it's our first time\n",
    "\n",
    "counts"
   ]
  },
  {
   "cell_type": "code",
   "execution_count": 80,
   "id": "97887573-c370-4eb1-8b68-46b6c090562b",
   "metadata": {},
   "outputs": [
    {
     "name": "stdout",
     "output_type": "stream",
     "text": [
      "67.218.116.165 - - [30/Jan/2010:00:03:18 +0200] \"GET /robots.txt HTTP/1.0\" 200 99 \"-\" \"Mozilla/5.0 (Twiceler-0.9 http://www.cuil.com/twiceler/robot.html)\"\n",
      "66.249.71.65 - - [30/Jan/2010:00:12:06 +0200] \"GET /browse/one_node/1557 HTTP/1.1\" 200 39208 \"-\" \"Mozilla/5.0 (compatible; Googlebot/2.1; +http://www.google.com/bot.html)\"\n",
      "65.55.106.183 - - [30/Jan/2010:01:29:23 +0200] \"GET /robots.txt HTTP/1.1\" 200 99 \"-\" \"msnbot/2.0b (+http://search.msn.com/msnbot.htm)\"\n",
      "65.55.106.183 - - [30/Jan/2010:01:30:06 +0200] \"GET /browse/one_model/2162 HTTP/1.1\" 200 2181 \"-\" \"msnbot/2.0b (+http://search.msn.com/msnbot.htm)\"\n",
      "66.249.71.65 - - [30/Jan/2010:02:07:14 +0200] \"GET /browse/browse_applet_tab/2593 HTTP/1.1\" 200 10305 \"-\" \"Mozilla/5.0 (compatible; Googlebot/2.1; +http://www.google.com/bot.html)\"\n",
      "66.249.71.65 - - [30/Jan/2010:02:10:39 +0200] \"GET /browse/browse_files_tab/2499?tab=true HTTP/1.1\" 200 446 \"-\" \"Mozilla/5.0 (compatible; Googlebot/2.1; +http://www.google.com/bot.html)\"\n",
      "66.249.65.12 - - [30/Jan/2010:03:13:34 +0200] \"GET /robots.txt HTTP/1.1\" 200 99 \"-\" \"Mozilla/5.0 (compatible; Googlebot/2.1; +http://www.google.com/bot.html)\"\n",
      "66.249.65.12 - - [30/Jan/2010:03:13:34 +0200] \"GET /browse/one_node/2715 HTTP/1.1\" 200 26433 \"-\" \"Mozilla/5.0 (compatible; Googlebot/2.1; +http://www.google.com/bot.html)\"\n",
      "66.249.65.12 - - [30/Jan/2010:03:43:39 +0200] \"GET /browse/download_model/1969 HTTP/1.1\" 200 31713 \"-\" \"Mozilla/5.0 (compatible; Googlebot/2.1; +http://www.google.com/bot.html)\"\n",
      "66.249.65.12 - - [30/Jan/2010:04:05:43 +0200] \"GET /browse/one_node/1406 HTTP/1.1\" 302 118 \"-\" \"Mozilla/5.0 (compatible; Googlebot/2.1; +http://www.google.com/bot.html)\"\n"
     ]
    }
   ],
   "source": [
    "# I have a file, mini-access-log.txt, from an old Apache Web server.\n",
    "# Each line in the file looks like this:\n",
    "\n",
    "!head mini-access-log.txt"
   ]
  },
  {
   "cell_type": "markdown",
   "id": "daa11d56-0d68-4982-9bc7-875574ea5391",
   "metadata": {},
   "source": [
    "# Exercise: Count IP addresses\n",
    "\n",
    "I want you to (a) iterate over the file and (b) grab the IP address from the start of each line. Then (c) use a dict to count how\n",
    "many times each IP address was seen. When you're done with the file, iterate over the dict, printing each IP and count.\n",
    "\n",
    "Keys of the dict will be IP addresses, and the values will be the number of times each address was seen."
   ]
  },
  {
   "cell_type": "code",
   "execution_count": 85,
   "id": "6ea19e82-2ecc-4ded-9f2d-d63e5f271790",
   "metadata": {},
   "outputs": [
    {
     "name": "stdout",
     "output_type": "stream",
     "text": [
      "67.218.116.165:\t2\n",
      "66.249.71.65:\t3\n",
      "65.55.106.183:\t2\n",
      "66.249.65.12:\t32\n",
      "65.55.106.131:\t2\n",
      "65.55.106.186:\t2\n",
      "74.52.245.146:\t2\n",
      "66.249.65.43:\t3\n",
      "65.55.207.25:\t2\n",
      "65.55.207.94:\t2\n",
      "65.55.207.71:\t1\n",
      "98.242.170.241:\t1\n",
      "66.249.65.38:\t100\n",
      "65.55.207.126:\t2\n",
      "82.34.9.20:\t2\n",
      "65.55.106.155:\t2\n",
      "65.55.207.77:\t2\n",
      "208.80.193.28:\t1\n",
      "89.248.172.58:\t22\n",
      "67.195.112.35:\t16\n",
      "65.55.207.50:\t3\n",
      "65.55.215.75:\t2\n"
     ]
    }
   ],
   "source": [
    "filename = 'mini-access-log.txt'\n",
    "counts = {}\n",
    "\n",
    "for one_line in open(filename):\n",
    "    ip_address = one_line.split()[0]\n",
    "\n",
    "    if ip_address in counts:\n",
    "        counts[ip_address] += 1\n",
    "    else:\n",
    "        counts[ip_address] = 1\n",
    "\n",
    "for key, value in counts.items():\n",
    "    print(f'{key}:\\t{value}')"
   ]
  },
  {
   "cell_type": "code",
   "execution_count": 86,
   "id": "040a7915-a26f-4566-8612-d92d6fc44341",
   "metadata": {},
   "outputs": [
    {
     "ename": "TypeError",
     "evalue": "unsupported operand type(s) for +: 'int' and 'str'",
     "output_type": "error",
     "traceback": [
      "\u001b[0;31m---------------------------------------------------------------------------\u001b[0m",
      "\u001b[0;31mTypeError\u001b[0m                                 Traceback (most recent call last)",
      "Cell \u001b[0;32mIn[86], line 3\u001b[0m\n\u001b[1;32m      1\u001b[0m \u001b[38;5;66;03m# we cannot add together a string and an int\u001b[39;00m\n\u001b[0;32m----> 3\u001b[0m \u001b[38;5;241;43m10\u001b[39;49m\u001b[43m \u001b[49m\u001b[38;5;241;43m+\u001b[39;49m\u001b[43m \u001b[49m\u001b[38;5;124;43m'\u001b[39;49m\u001b[38;5;124;43m20\u001b[39;49m\u001b[38;5;124;43m'\u001b[39;49m\n",
      "\u001b[0;31mTypeError\u001b[0m: unsupported operand type(s) for +: 'int' and 'str'"
     ]
    }
   ],
   "source": [
    "# we cannot add together a string and an int\n",
    "\n",
    "10 + '20'"
   ]
  },
  {
   "cell_type": "code",
   "execution_count": 87,
   "id": "80f56f19-ff3a-41fe-a5b0-e1ae2b9505ee",
   "metadata": {},
   "outputs": [
    {
     "data": {
      "text/plain": [
       "'**********'"
      ]
     },
     "execution_count": 87,
     "metadata": {},
     "output_type": "execute_result"
    }
   ],
   "source": [
    "# can we multiply a string and an int?\n",
    "\n",
    "'*' * 10"
   ]
  },
  {
   "cell_type": "code",
   "execution_count": 88,
   "id": "4ccb9e8d-8a5d-478d-a565-5193c4ef5df9",
   "metadata": {},
   "outputs": [
    {
     "name": "stdout",
     "output_type": "stream",
     "text": [
      "67.218.116.165:\txx\n",
      "66.249.71.65:\txxx\n",
      "65.55.106.183:\txx\n",
      "66.249.65.12:\txxxxxxxxxxxxxxxxxxxxxxxxxxxxxxxx\n",
      "65.55.106.131:\txx\n",
      "65.55.106.186:\txx\n",
      "74.52.245.146:\txx\n",
      "66.249.65.43:\txxx\n",
      "65.55.207.25:\txx\n",
      "65.55.207.94:\txx\n",
      "65.55.207.71:\tx\n",
      "98.242.170.241:\tx\n",
      "66.249.65.38:\txxxxxxxxxxxxxxxxxxxxxxxxxxxxxxxxxxxxxxxxxxxxxxxxxxxxxxxxxxxxxxxxxxxxxxxxxxxxxxxxxxxxxxxxxxxxxxxxxxxx\n",
      "65.55.207.126:\txx\n",
      "82.34.9.20:\txx\n",
      "65.55.106.155:\txx\n",
      "65.55.207.77:\txx\n",
      "208.80.193.28:\tx\n",
      "89.248.172.58:\txxxxxxxxxxxxxxxxxxxxxx\n",
      "67.195.112.35:\txxxxxxxxxxxxxxxx\n",
      "65.55.207.50:\txxx\n",
      "65.55.215.75:\txx\n"
     ]
    }
   ],
   "source": [
    "# let's change how we display the number of times an IP address appeared in the file\n",
    "\n",
    "filename = 'mini-access-log.txt'\n",
    "counts = {}\n",
    "\n",
    "for one_line in open(filename):\n",
    "    ip_address = one_line.split()[0]\n",
    "\n",
    "    if ip_address in counts:\n",
    "        counts[ip_address] += 1\n",
    "    else:\n",
    "        counts[ip_address] = 1\n",
    "\n",
    "for key, value in counts.items():\n",
    "    print(f'{key}:\\t{value * \"x\"}')"
   ]
  },
  {
   "cell_type": "markdown",
   "id": "ec211d82-f8aa-49a1-853f-b1fd652da573",
   "metadata": {},
   "source": [
    "# Writing to files\n",
    "\n",
    "So far, we've been reading from files. We normally read from files more than we write to them. By default, `open` assumes that we want to read from a file, and opens it in read mode.\n",
    "\n",
    "We can say this explicitly by passing a second argument, `'r'`, to `open`, which says: Put us in read mode.\n",
    "\n",
    "You normally have to choose between opening a file for reading and opening a file for writing.\n",
    "\n",
    "If we want to write to a file, how?\n",
    "\n",
    "1. We open with `open` and second argument `'w'`. WARNING: If you open for writing, then either you'll get an error message (permissions, etc.) or it'll work and any previous file or contents are now gone.\n",
    "2. You can use the `write` method to write a string to a file.\n",
    "3. When you're done, be sure to `close` the file."
   ]
  },
  {
   "cell_type": "code",
   "execution_count": 89,
   "id": "85f0a104-050f-4bf9-9a28-c6d181ed99c0",
   "metadata": {},
   "outputs": [],
   "source": [
    "f = open('reuven-testfile.txt', 'w')\n",
    "\n",
    "f.write('abcd\\n')\n",
    "f.write('efghij\\n')\n",
    "f.write('kl\\n')\n",
    "\n",
    "f.close()  # this makes sure that nothing remains in the buffer, and frees resources"
   ]
  },
  {
   "cell_type": "code",
   "execution_count": 90,
   "id": "c3b1b7b9-0e51-4748-ac6b-de934db94d4f",
   "metadata": {},
   "outputs": [
    {
     "name": "stdout",
     "output_type": "stream",
     "text": [
      "abcd\n",
      "efghij\n",
      "kl\n"
     ]
    }
   ],
   "source": [
    "!cat reuven-testfile.txt"
   ]
  },
  {
   "cell_type": "markdown",
   "id": "04286c1f-d4ed-4aa8-87c0-43954ff1d928",
   "metadata": {},
   "source": [
    "To allow us to ignore the need to `close` a file, even when we need to, Python provides us with the `with` statement. It looks like this:\n",
    "\n"
   ]
  },
  {
   "cell_type": "code",
   "execution_count": 91,
   "id": "521544b3-c432-499f-8c95-a8b9b04e008d",
   "metadata": {},
   "outputs": [],
   "source": [
    "with open('reuven-testfile.txt', 'w') as f:     # f is now a variable, assigned to the open file-for-writing\n",
    "    # here, doesn't do anything, but it could\n",
    "    f.write('abcd')\n",
    "    # here, with flushes + closes the file"
   ]
  },
  {
   "cell_type": "code",
   "execution_count": 92,
   "id": "dd6ff27f-576c-46c4-90d7-bc92f4618c3f",
   "metadata": {},
   "outputs": [
    {
     "name": "stdout",
     "output_type": "stream",
     "text": [
      "# This is a comment\n",
      "\n",
      "# You should ignore me\n",
      "\n",
      "root\n",
      "daemon\n",
      "bin\n",
      "sys\n",
      "sync\n",
      "games\n",
      "man\n",
      "lp\n",
      "mail\n",
      "\n",
      "\n",
      "\n",
      "\n",
      "\n",
      "\n",
      "news\n",
      "uucp\n",
      "proxy\n",
      "www-data\n",
      "backup\n",
      "list\n",
      "irc\n",
      "gnats\n",
      "\n",
      "\n",
      "nobody\n",
      "syslog\n",
      "messagebus\n",
      "landscape\n",
      "jci\n",
      "sshd\n",
      "user\n",
      "reuven\n",
      "postfix\n",
      "colord\n",
      "postgres\n",
      "dovecot\n",
      "dovenull\n",
      "postgrey\n",
      "debian-spamd\n",
      "memcache\n",
      "genadi\n",
      "shira\n",
      "atara\n",
      "shikma\n",
      "amotz\n",
      "mysql\n",
      "clamav\n",
      "amavis\n",
      "opendkim\n",
      "gitlab-redis\n",
      "gitlab-psql\n",
      "git\n",
      "opendmarc\n",
      "dkim-milter-python\n",
      "deploy\n",
      "redis\n"
     ]
    }
   ],
   "source": [
    "# with blocks are known for working with objects that\n",
    "# are \"context managers,\" that know how to work in a with block.\n",
    "\n",
    "with open('linux-etc-passwd.txt', 'r') as f:    \n",
    "    for one_line in f:\n",
    "        print(one_line.split(':')[0])"
   ]
  },
  {
   "cell_type": "code",
   "execution_count": null,
   "id": "39efa369-b6b8-4a56-ad28-bda0b89c391b",
   "metadata": {},
   "outputs": [],
   "source": [
    "You can open a file in `'a'` mode, for append."
   ]
  },
  {
   "cell_type": "markdown",
   "id": "28a1a7d1-02bf-4c77-b53b-f763b274a13d",
   "metadata": {},
   "source": [
    "# Exercise: Dict to config file\n",
    "\n",
    "1. Define a dict with string keys and integer values.\n",
    "2. We'll write that dict to a file, such that each key-value pair is on a line by itself with `=` between them.\n"
   ]
  },
  {
   "cell_type": "code",
   "execution_count": 93,
   "id": "193dda12-7418-4a89-bd53-dc87b5e93074",
   "metadata": {},
   "outputs": [],
   "source": [
    "d = {'a':10, 'b':20, 'c':30}\n",
    "\n",
    "with open('config.txt', 'w') as f:   # opening the file for writing inside of a context manager\n",
    "    for key, value in d.items():     # iterate over the dict\n",
    "        f.write(f'{key}={value}\\n')  # write key=value and newline"
   ]
  },
  {
   "cell_type": "code",
   "execution_count": 94,
   "id": "720dad75-c966-4a79-b308-2437187ed1b5",
   "metadata": {},
   "outputs": [
    {
     "name": "stdout",
     "output_type": "stream",
     "text": [
      "a=10\n",
      "b=20\n",
      "c=30\n"
     ]
    }
   ],
   "source": [
    "!cat config.txt"
   ]
  },
  {
   "cell_type": "code",
   "execution_count": null,
   "id": "820afdb2-267a-40f1-9df4-465653eca52c",
   "metadata": {},
   "outputs": [],
   "source": []
  }
 ],
 "metadata": {
  "kernelspec": {
   "display_name": "Python 3 (ipykernel)",
   "language": "python",
   "name": "python3"
  },
  "language_info": {
   "codemirror_mode": {
    "name": "ipython",
    "version": 3
   },
   "file_extension": ".py",
   "mimetype": "text/x-python",
   "name": "python",
   "nbconvert_exporter": "python",
   "pygments_lexer": "ipython3",
   "version": "3.12.1"
  }
 },
 "nbformat": 4,
 "nbformat_minor": 5
}
